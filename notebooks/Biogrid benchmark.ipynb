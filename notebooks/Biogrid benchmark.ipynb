{
 "cells": [
  {
   "cell_type": "code",
   "execution_count": 1,
   "metadata": {},
   "outputs": [],
   "source": [
    "from indra.tools import assemble_corpus as ac\n",
    "from indra.statements import Complex\n",
    "from bioexp.util import pklload\n",
    "from bioexp.curation.classifiers import BinaryRandomForest, LogLogisticRegression\n",
    "from indra.ontology.bio import bio_ontology as bo\n",
    "from indra.preassembler import Preassembler\n",
    "from indra.belief.sklearn_scorer import SklearnScorer\n",
    "from tqdm import tqdm\n",
    "import numpy as np\n",
    "from matplotlib import pyplot as plt\n",
    "from indra.util import plot_formatting as pf\n",
    "\n",
    "%matplotlib notebook"
   ]
  },
  {
   "cell_type": "code",
   "execution_count": 2,
   "metadata": {},
   "outputs": [
    {
     "name": "stdout",
     "output_type": "stream",
     "text": [
      "/Users/johnbachman/Dropbox/1johndata/knowledge file/Biology/Research/Big Mechanism/bioexp_paper\n"
     ]
    }
   ],
   "source": [
    "cd .."
   ]
  },
  {
   "cell_type": "markdown",
   "metadata": {},
   "source": [
    "Load the preassembled statements:"
   ]
  },
  {
   "cell_type": "code",
   "execution_count": 3,
   "metadata": {},
   "outputs": [
    {
     "name": "stdout",
     "output_type": "stream",
     "text": [
      "Loading output/bioexp_reading_only_asmb_preassembled.pkl\n",
      "Loaded output/bioexp_reading_only_asmb_preassembled.pkl in 51.0 seconds\n"
     ]
    }
   ],
   "source": [
    "indra_stmts = pklload('reading_only_asmb_preassembled')"
   ]
  },
  {
   "cell_type": "markdown",
   "metadata": {},
   "source": [
    "Load the Biogrid statements:"
   ]
  },
  {
   "cell_type": "code",
   "execution_count": 4,
   "metadata": {},
   "outputs": [
    {
     "name": "stderr",
     "output_type": "stream",
     "text": [
      "INFO: [2020-12-04 11:14:34] indra.sources.biogrid - No data file specified, downloading from BioGrid at https://downloads.thebiogrid.org/Download/BioGRID/Latest-Release/BIOGRID-ALL-LATEST.tab3.zip\n",
      "Processing BioGRID rows: 0it [00:00, ?it/s]INFO: [2020-12-04 11:18:32] indra.ontology.bio.ontology - Loading INDRA bio ontology from cache at /Users/johnbachman/.indra/bio_ontology/1.4/bio_ontology.pkl\n",
      "Processing BioGRID rows: 1974590it [03:50, 8548.16it/s] \n"
     ]
    }
   ],
   "source": [
    "from indra.sources.biogrid import BiogridProcessor\n",
    "bp = BiogridProcessor()\n",
    "bg_stmts_raw = bp.statements"
   ]
  },
  {
   "cell_type": "markdown",
   "metadata": {},
   "source": [
    "De-duplicate the Biogrid statements:"
   ]
  },
  {
   "cell_type": "code",
   "execution_count": 5,
   "metadata": {},
   "outputs": [],
   "source": [
    "pa = Preassembler(bo, stmts=bg_stmts_raw)\n",
    "bg_stmts_asmb = pa.combine_duplicates()"
   ]
  },
  {
   "cell_type": "markdown",
   "metadata": {},
   "source": [
    "Filter both the INDRA-assembled and Biogrid statements to Complexes of human genes:"
   ]
  },
  {
   "cell_type": "code",
   "execution_count": 6,
   "metadata": {},
   "outputs": [
    {
     "name": "stderr",
     "output_type": "stream",
     "text": [
      "INFO: [2020-12-04 11:31:50] indra.tools.assemble_corpus - Filtering 870403 statements for type Complex...\n",
      "INFO: [2020-12-04 11:31:51] indra.tools.assemble_corpus - 870403 statements after filter...\n",
      "INFO: [2020-12-04 11:31:51] indra.tools.assemble_corpus - Filtering 870403 statements for ones containing genes only...\n",
      "INFO: [2020-12-04 11:31:54] indra.tools.assemble_corpus - 823763 statements after filter...\n",
      "INFO: [2020-12-04 11:31:55] indra.tools.assemble_corpus - Filtering 823763 statements for human genes only...\n",
      "INFO: [2020-12-04 11:32:12] indra.tools.assemble_corpus - 474870 statements after filter...\n",
      "INFO: [2020-12-04 11:32:12] indra.tools.assemble_corpus - Filtering 734208 statements for type Complex...\n",
      "INFO: [2020-12-04 11:32:14] indra.tools.assemble_corpus - 166703 statements after filter...\n",
      "INFO: [2020-12-04 11:32:14] indra.tools.assemble_corpus - Filtering 166703 statements for ones containing genes only...\n",
      "INFO: [2020-12-04 11:32:16] indra.tools.assemble_corpus - 127300 statements after filter...\n",
      "INFO: [2020-12-04 11:32:16] indra.tools.assemble_corpus - Filtering 127300 statements for human genes only...\n",
      "INFO: [2020-12-04 11:32:18] indra.tools.assemble_corpus - 127300 statements after filter...\n"
     ]
    }
   ],
   "source": [
    "def filter_stmts(stmts):\n",
    "    stmts = ac.filter_by_type(stmts, Complex)\n",
    "    stmts = ac.filter_genes_only(stmts, specific_only=True)\n",
    "    stmts = ac.filter_human_only(stmts)\n",
    "    return stmts\n",
    "\n",
    "# Filter to Complex of human genes\n",
    "bg_stmts_filt = filter_stmts(bg_stmts_asmb)\n",
    "indra_stmts_filt = filter_stmts(indra_stmts)"
   ]
  },
  {
   "cell_type": "markdown",
   "metadata": {},
   "source": [
    "Load the trained belief model and assign belief values to statements:"
   ]
  },
  {
   "cell_type": "code",
   "execution_count": 7,
   "metadata": {},
   "outputs": [],
   "source": [
    "# Set beliefs for the statements\n",
    "reader_list = ['reach', 'sparser', 'medscan', 'rlimsp', 'trips']\n",
    "#model_path = 'output/trained_loglogreg.pkl'\n",
    "model_path = 'output/trained_nobg_random_forest.pkl'\n",
    "skls = SklearnScorer(model_path, reader_list)\n",
    "skls.score_statements(indra_stmts_filt)"
   ]
  },
  {
   "cell_type": "markdown",
   "metadata": {},
   "source": [
    "Get hashes of both sets of statements for comparison:"
   ]
  },
  {
   "cell_type": "code",
   "execution_count": 8,
   "metadata": {},
   "outputs": [],
   "source": [
    "# Compare \n",
    "bg_hashes = set([s.get_hash(refresh=True) for s in bg_stmts_filt])\n",
    "indra_hashes = set([s.get_hash(refresh=True) for s in indra_stmts_filt])"
   ]
  },
  {
   "cell_type": "markdown",
   "metadata": {},
   "source": [
    "Build a dictionary of text-mined statements by hash so we can get them back from the hashes:"
   ]
  },
  {
   "cell_type": "code",
   "execution_count": 9,
   "metadata": {},
   "outputs": [],
   "source": [
    "stmts_by_hash = {s.get_hash(refresh=True): s for s in indra_stmts_filt}"
   ]
  },
  {
   "cell_type": "markdown",
   "metadata": {},
   "source": [
    "Stratify statements by belief bins:"
   ]
  },
  {
   "cell_type": "code",
   "execution_count": 10,
   "metadata": {},
   "outputs": [],
   "source": [
    "def stmts_in_bg_by_belief(indra_hashes, bg_hashes, bin_info):\n",
    "    in_bg = np.zeros(len(bin_info))\n",
    "    not_in_bg = np.zeros(len(bin_info))\n",
    "    in_bg_stmts = {}\n",
    "    not_in_bg_stmts = {}\n",
    "    for i, (lbound, ubound, label) in enumerate(bin_info):\n",
    "        stmts_by_belief = [s for s in indra_stmts_filt\n",
    "                           if s.belief > lbound and s.belief <= ubound]\n",
    "        bin_hashes = set([s.get_hash(refresh=True) for s in stmts_by_belief])\n",
    "        in_bg_hashes = bin_hashes.intersection(bg_hashes)\n",
    "        not_in_bg_hashes = bin_hashes.difference(in_bg_hashes)\n",
    "\n",
    "        in_bg[i] = len(in_bg_hashes)\n",
    "        not_in_bg[i] = len(not_in_bg_hashes)\n",
    "        in_bg_stmts[label] = [stmts_by_hash[h] for h in in_bg_hashes]\n",
    "        not_in_bg_stmts[label] = [stmts_by_hash[h] for h in not_in_bg_hashes]\n",
    "    return {'in_bg_cts': in_bg,\n",
    "            'not_in_bg_cts': not_in_bg,\n",
    "            'in_bg_stmts': in_bg_stmts,\n",
    "            'not_in_bg_stmts': not_in_bg_stmts}\n",
    "\n",
    "# Group indra stmts by belief bin and get counts and statements for the\n",
    "# ones in Biogrid vs. not in Biogrid\n",
    "bin_bounds = [0, 0.2, 0.4, 0.6, 0.8, 0.9, 0.95, 0.99, 1.0]\n",
    "bin_info = [(bin_bounds[i], bin_bounds[i+1],\n",
    "             f'{bin_bounds[i]}_{bin_bounds[i+1]}')\n",
    "             for i in range(len(bin_bounds) - 1)]\n",
    "\n",
    "\n",
    "in_bg_info = stmts_in_bg_by_belief(indra_hashes, bg_hashes, bin_info)\n"
   ]
  },
  {
   "cell_type": "markdown",
   "metadata": {},
   "source": [
    "Plot belief distribution along with BG/not in BG status:"
   ]
  },
  {
   "cell_type": "code",
   "execution_count": 11,
   "metadata": {},
   "outputs": [
    {
     "name": "stdout",
     "output_type": "stream",
     "text": [
      "[0, 0.2, 0.4, 0.6, 0.8, 0.9, 0.95, 0.99]\n"
     ]
    },
    {
     "data": {
      "image/png": "[encoded data removed]",
      "text/plain": [
       "<Figure size 375x300 with 1 Axes>"
      ]
     },
     "metadata": {
      "needs_background": "light"
     },
     "output_type": "display_data"
    }
   ],
   "source": [
    "# Plot statement counts\n",
    "def plot_in_bg(in_bg_dict, bin_info):\n",
    "    index = np.array(range(len(bin_info)))\n",
    "    plt.figure(figsize=(2.5, 2), dpi=150)\n",
    "    plt.bar(index, in_bg_dict['not_in_bg_cts'],\n",
    "            bottom=in_bg_dict['in_bg_cts'], label='Not In BioGrid')\n",
    "    plt.bar(index, in_bg_dict['in_bg_cts'], label='In BioGrid')\n",
    "    ax = plt.gca()\n",
    "    ax.set_xticks(index)\n",
    "    tls = [lb for lb, _, _ in bin_info]\n",
    "    print(tls)\n",
    "    ax.set_xticklabels(tls, rotation='vertical')\n",
    "    pf.format_axis(ax)\n",
    "    plt.ylabel('Number of Statements')\n",
    "    plt.xlabel('Belief bin lower bound')\n",
    "    pf.format_axis(ax)\n",
    "\n",
    "    plt.legend(loc='upper right', fontsize=pf.fontsize, frameon=False)\n",
    "    plt.subplots_adjust(bottom=0.2, left=0.2)\n",
    "\n",
    "def plot_frac_in_bg(in_bg_dict, bin_info):\n",
    "    fracs_in_bg = []\n",
    "    lbs = []\n",
    "    for i, (lb, _, _) in enumerate(bin_info):\n",
    "        numer = in_bg_dict['in_bg_cts'][i]\n",
    "        denom = in_bg_dict['not_in_bg_cts'][i] + numer\n",
    "        # If there are no statements in this bin, skip it\n",
    "        if denom == 0:\n",
    "            continue\n",
    "        lbs.append(lb)\n",
    "        fracs_in_bg.append(numer / denom)\n",
    "\n",
    "    # Plot statement percentages\n",
    "    plt.figure(figsize=(2, 2), dpi=150)\n",
    "    plt.plot(lbs, fracs_in_bg, marker='.')\n",
    "    ax = plt.gca()\n",
    "    ax.set_xticks(lbs)\n",
    "    ax.set_xticklabels(lbs, rotation='vertical')\n",
    "    pf.format_axis(ax)\n",
    "    plt.ylabel('Frac. in BioGrid')\n",
    "    plt.ylim(0, 1)\n",
    "    plt.xlabel('Belief bin lower bound')\n",
    "    plt.savefig('output/biogrid_stmt_percentages.pdf')\n",
    "    plt.subplots_adjust(bottom=0.2, left=0.2)\n",
    "    \n",
    "plot_in_bg(in_bg_info, bin_info)\n"
   ]
  },
  {
   "cell_type": "markdown",
   "metadata": {},
   "source": [
    "Plot the proportion of statements in each bin in Biogrid:"
   ]
  },
  {
   "cell_type": "code",
   "execution_count": 12,
   "metadata": {},
   "outputs": [
    {
     "data": {
      "image/png": "[encoded data removed]",
      "text/plain": [
       "<Figure size 300x300 with 1 Axes>"
      ]
     },
     "metadata": {
      "needs_background": "light"
     },
     "output_type": "display_data"
    }
   ],
   "source": [
    "plot_frac_in_bg(in_bg_info, bin_info)"
   ]
  },
  {
   "cell_type": "code",
   "execution_count": 13,
   "metadata": {},
   "outputs": [],
   "source": [
    "stmts20 = in_bg_info['not_in_bg_stmts']['0.2_0.4']"
   ]
  },
  {
   "cell_type": "code",
   "execution_count": 14,
   "metadata": {},
   "outputs": [
    {
     "data": {
      "text/plain": [
       "Counter({'sparser': 63790, 'reach': 19347, 'isi': 1035})"
      ]
     },
     "execution_count": 14,
     "metadata": {},
     "output_type": "execute_result"
    }
   ],
   "source": [
    "from collections import Counter\n",
    "ev_ctr = Counter([ev.source_api for s in stmts20 for ev in s.evidence])\n",
    "ev_ctr"
   ]
  },
  {
   "cell_type": "code",
   "execution_count": 15,
   "metadata": {},
   "outputs": [],
   "source": [
    "import random\n",
    "import pickle\n",
    "random.seed(1)\n",
    "samp20 = random.sample(stmts20, 100)\n",
    "#with open('bioexp_biogrid_nobg_cplx_rf0204.pkl', 'wb') as f:\n",
    "#    pickle.dump(samp20, f)"
   ]
  },
  {
   "cell_type": "code",
   "execution_count": 16,
   "metadata": {},
   "outputs": [],
   "source": [
    "stmts90 = in_bg_info['not_in_bg_stmts']['0.9_0.95']\n",
    "stmts95 = in_bg_info['not_in_bg_stmts']['0.95_0.99']\n",
    "stmts99 = in_bg_info['not_in_bg_stmts']['0.99_1.0']"
   ]
  },
  {
   "cell_type": "code",
   "execution_count": 17,
   "metadata": {},
   "outputs": [
    {
     "data": {
      "text/plain": [
       "2554"
      ]
     },
     "execution_count": 17,
     "metadata": {},
     "output_type": "execute_result"
    }
   ],
   "source": [
    "len(stmts90) + len(stmts95) + len(stmts99)"
   ]
  },
  {
   "cell_type": "code",
   "execution_count": 18,
   "metadata": {},
   "outputs": [
    {
     "data": {
      "text/plain": [
       "353"
      ]
     },
     "execution_count": 18,
     "metadata": {},
     "output_type": "execute_result"
    }
   ],
   "source": [
    "len(stmts99)"
   ]
  },
  {
   "cell_type": "code",
   "execution_count": null,
   "metadata": {},
   "outputs": [],
   "source": [
    "### random.seed(1)\n",
    "samp99 = random.sample(stmts99, 100)\n",
    "with open('bioexp_biogrid_nobg_cplx_rf09910.pkl', 'wb') as f:\n",
    "    pickle.dump(samp99, f)"
   ]
  },
  {
   "cell_type": "code",
   "execution_count": null,
   "metadata": {},
   "outputs": [],
   "source": [
    "foo = indra_hashes.difference(bg_hashes)\n",
    "len(foo)"
   ]
  },
  {
   "cell_type": "code",
   "execution_count": null,
   "metadata": {},
   "outputs": [],
   "source": [
    "from indra.assemblers.html import HtmlAssembler"
   ]
  },
  {
   "cell_type": "code",
   "execution_count": null,
   "metadata": {},
   "outputs": [],
   "source": [
    "ha = HtmlAssembler(stmts99, db_rest_url='https://db.indra.bio')"
   ]
  },
  {
   "cell_type": "code",
   "execution_count": null,
   "metadata": {},
   "outputs": [],
   "source": [
    "ha.save_model('indra_stmts_not_in_biogrid_belief99.html')"
   ]
  },
  {
   "cell_type": "code",
   "execution_count": null,
   "metadata": {},
   "outputs": [],
   "source": [
    "HtmlAssembler?"
   ]
  },
  {
   "cell_type": "code",
   "execution_count": 33,
   "metadata": {},
   "outputs": [
    {
     "name": "stderr",
     "output_type": "stream",
     "text": [
      "INFO: [2020-12-04 11:38:55] indra.tools.assemble_corpus - Filtering 1131273 statements for ones containing \"all\" of: BBC3, BCL2L1...\n",
      "INFO: [2020-12-04 11:38:59] indra.tools.assemble_corpus - 7 statements after filter...\n"
     ]
    },
    {
     "data": {
      "text/plain": [
       "[Complex(BBC3(), BCL2L1()),\n",
       " Complex(BCL2L1(), BBC3()),\n",
       " Complex(BBC3(), BCL2L1()),\n",
       " Complex(BCL2L1(), BCL2L1()),\n",
       " Complex(BCL2L1(), BBC3()),\n",
       " Complex(BCL2L1(), BBC3()),\n",
       " Complex(BCL2L1(), BBC3())]"
      ]
     },
     "execution_count": 33,
     "metadata": {},
     "output_type": "execute_result"
    }
   ],
   "source": [
    "raw = ac.filter_gene_list(bg_stmts_raw, ['BBC3', 'BCL2L1'], policy='all')\n",
    "raw"
   ]
  },
  {
   "cell_type": "code",
   "execution_count": 34,
   "metadata": {},
   "outputs": [
    {
     "name": "stderr",
     "output_type": "stream",
     "text": [
      "INFO: [2020-12-04 11:39:02] indra.tools.assemble_corpus - Filtering 7 statements for ones containing genes only...\n",
      "INFO: [2020-12-04 11:39:02] indra.tools.assemble_corpus - 1 statements after filter...\n"
     ]
    },
    {
     "data": {
      "text/plain": [
       "[Complex(BCL2L1(), BCL2L1())]"
      ]
     },
     "execution_count": 34,
     "metadata": {},
     "output_type": "execute_result"
    }
   ],
   "source": [
    "ac.filter_genes_only(raw)"
   ]
  },
  {
   "cell_type": "code",
   "execution_count": 35,
   "metadata": {},
   "outputs": [
    {
     "data": {
      "text/plain": [
       "Complex(BBC3(), BCL2L1())"
      ]
     },
     "execution_count": 35,
     "metadata": {},
     "output_type": "execute_result"
    }
   ],
   "source": [
    "raw[0]"
   ]
  },
  {
   "cell_type": "code",
   "execution_count": 36,
   "metadata": {},
   "outputs": [
    {
     "data": {
      "text/plain": [
       "{'EGID': '27113'}"
      ]
     },
     "execution_count": 36,
     "metadata": {},
     "output_type": "execute_result"
    }
   ],
   "source": [
    "raw[0].members[0].db_refs"
   ]
  },
  {
   "cell_type": "code",
   "execution_count": 28,
   "metadata": {},
   "outputs": [
    {
     "name": "stderr",
     "output_type": "stream",
     "text": [
      "INFO: [2020-12-04 11:37:10] indra.tools.assemble_corpus - Filtering 474870 statements for ones containing \"all\" of: BBC3, BCL2L1...\n",
      "INFO: [2020-12-04 11:37:12] indra.tools.assemble_corpus - 1 statements after filter...\n"
     ]
    }
   ],
   "source": [
    "foo = ac.filter_gene_list(bg_stmts_filt, ['BBC3', 'BCL2L1'], policy='all')"
   ]
  },
  {
   "cell_type": "code",
   "execution_count": 29,
   "metadata": {},
   "outputs": [
    {
     "data": {
      "text/plain": [
       "[Complex(BCL2L1(), BCL2L1())]"
      ]
     },
     "execution_count": 29,
     "metadata": {},
     "output_type": "execute_result"
    }
   ],
   "source": [
    "foo"
   ]
  },
  {
   "cell_type": "code",
   "execution_count": 24,
   "metadata": {},
   "outputs": [
    {
     "data": {
      "text/plain": [
       "Complex(BBC3(), BCL2L1())"
      ]
     },
     "execution_count": 24,
     "metadata": {},
     "output_type": "execute_result"
    }
   ],
   "source": [
    "foo[0]"
   ]
  },
  {
   "cell_type": "code",
   "execution_count": 25,
   "metadata": {},
   "outputs": [
    {
     "data": {
      "text/plain": [
       "{'UP': 'Q96PG8', 'HGNC': '17868', 'TEXT': 'Puma'}"
      ]
     },
     "execution_count": 25,
     "metadata": {},
     "output_type": "execute_result"
    }
   ],
   "source": [
    "foo[0].members[0].db_refs"
   ]
  },
  {
   "cell_type": "code",
   "execution_count": 26,
   "metadata": {},
   "outputs": [
    {
     "data": {
      "text/plain": [
       "-6926243157870405"
      ]
     },
     "execution_count": 26,
     "metadata": {},
     "output_type": "execute_result"
    }
   ],
   "source": [
    "foo[0].get_hash()"
   ]
  },
  {
   "cell_type": "code",
   "execution_count": 27,
   "metadata": {},
   "outputs": [
    {
     "data": {
      "text/plain": [
       "False"
      ]
     },
     "execution_count": 27,
     "metadata": {},
     "output_type": "execute_result"
    }
   ],
   "source": [
    "_26 in bg_hashes"
   ]
  },
  {
   "cell_type": "code",
   "execution_count": null,
   "metadata": {},
   "outputs": [],
   "source": []
  }
 ],
 "metadata": {
  "hide_input": false,
  "kernelspec": {
   "display_name": "Python 3",
   "language": "python",
   "name": "python3"
  },
  "language_info": {
   "codemirror_mode": {
    "name": "ipython",
    "version": 3
   },
   "file_extension": ".py",
   "mimetype": "text/x-python",
   "name": "python",
   "nbconvert_exporter": "python",
   "pygments_lexer": "ipython3",
   "version": "3.7.4"
  }
 },
 "nbformat": 4,
 "nbformat_minor": 4
}
