{
 "cells": [
  {
   "cell_type": "markdown",
   "metadata": {},
   "source": [
    "References:\n",
    "\n",
    "Logistic regression: https://towardsdatascience.com/logistic-regression-using-python-sklearn-numpy-mnist-handwriting-recognition-matplotlib-a6b31e2b166a\n",
    "\n",
    "ROC curves: https://scikit-learn.org/stable/auto_examples/model_selection/plot_roc.html\n",
    "\n",
    "Controlling the threshold in Logistic Regression in Scikit Learn: https://stackoverflow.com/questions/28716241/controlling-the-threshold-in-logistic-regression-in-scikit-learn\n",
    "\n",
    "sklearn.metrics.precision_recall_curve: https://scikit-learn.org/stable/modules/generated/sklearn.metrics.precision_recall_curve.html\n"
   ]
  },
  {
   "cell_type": "markdown",
   "metadata": {},
   "source": [
    "# Preprocessing"
   ]
  },
  {
   "cell_type": "code",
   "execution_count": 420,
   "metadata": {},
   "outputs": [],
   "source": [
    "import pickle\n",
    "import pandas as pd\n",
    "from sklearn.model_selection import train_test_split, cross_validate\n",
    "from sklearn.linear_model import LogisticRegression\n",
    "from sklearn.metrics import roc_curve, auc, classification_report, precision_recall_curve\n",
    "from sklearn.ensemble import RandomForestClassifier\n",
    "from sklearn.preprocessing import LabelEncoder\n",
    "import matplotlib.pyplot as plt\n",
    "import seaborn as sns\n",
    "from sklearn import metrics"
   ]
  },
  {
   "cell_type": "code",
   "execution_count": 421,
   "metadata": {},
   "outputs": [],
   "source": [
    "with open('curation_dataset.pkl', 'rb') as f:\n",
    "    data_dict = pickle.load(f)"
   ]
  },
  {
   "cell_type": "code",
   "execution_count": 422,
   "metadata": {},
   "outputs": [],
   "source": [
    "# Load the data\n",
    "df = pd.DataFrame.from_dict(data_dict)\n",
    "# Preprocessing: replace missing values with 0s and encode stmt type as int\n",
    "df = df.fillna(0).sample(frac=1)\n",
    "le = LabelEncoder()\n",
    "le.fit(df.stmt_type)\n",
    "df.stmt_type = le.transform(df.stmt_type)\n",
    "x_df = df.drop('correct', axis=1)\n",
    "x = x_df.values\n",
    "y = df.correct.values"
   ]
  },
  {
   "cell_type": "code",
   "execution_count": 432,
   "metadata": {},
   "outputs": [],
   "source": [
    "x_train, x_test, y_train, y_test = train_test_split(x, y, test_size=0.2)\n",
    "#x_train, x_test, y_train, y_test = (x, x, y, y)"
   ]
  },
  {
   "cell_type": "markdown",
   "metadata": {},
   "source": [
    "# Train Models"
   ]
  },
  {
   "cell_type": "code",
   "execution_count": 433,
   "metadata": {},
   "outputs": [],
   "source": [
    "models = {\n",
    "    'Logistic Regression': LogisticRegression(),\n",
    "    'Random Forest Classifier': RandomForestClassifier(),\n",
    "}\n",
    "clf_results = {}\n",
    "for clf_name, clf in models.items():\n",
    "    clf.fit(x_train, y_train)\n",
    "    clf_result = {}\n",
    "    clf_result['y_preds'] = clf.predict(x_test)\n",
    "    clf_result['y_probs'] = clf.predict_proba(x_test)\n",
    "    clf_results[clf_name] = clf_result"
   ]
  },
  {
   "cell_type": "code",
   "execution_count": 434,
   "metadata": {},
   "outputs": [
    {
     "data": {
      "text/plain": [
       "array([[0.494875, 0.505125]])"
      ]
     },
     "execution_count": 434,
     "metadata": {},
     "output_type": "execute_result"
    }
   ],
   "source": [
    "sparser_ex = np.array([[0, 0, 1,0, 0, 0, 0, 0, 0, 0, 0, 0]])\n",
    "models['Logistic Regression'].predict_proba(sparser_ex)\n",
    "models['Random Forest Classifier'].predict_proba(sparser_ex)"
   ]
  },
  {
   "cell_type": "markdown",
   "metadata": {},
   "source": [
    "# ROC Curves"
   ]
  },
  {
   "cell_type": "code",
   "execution_count": 435,
   "metadata": {},
   "outputs": [],
   "source": [
    "# Compute ROC curve and ROC area for each class\n",
    "roc_results = {}\n",
    "for clf_name, clf_result in clf_results.items():\n",
    "    fpr, tpr, thresholds = roc_curve(y_test, clf_result['y_probs'][:, 1])\n",
    "    roc_auc = auc(fpr, tpr)\n",
    "    roc_result = {}\n",
    "    roc_result['fpr'] = fpr\n",
    "    roc_result['tpr'] = tpr\n",
    "    roc_result['roc_auc'] = roc_auc\n",
    "    roc_results[clf_name] = roc_result\n",
    "\n",
    "# Compute micro-average ROC curve and ROC area\n",
    "#fpr[\"micro\"], tpr[\"micro\"], _ = roc_curve(y_test.ravel(), y_score.ravel())\n",
    "#roc_auc[\"micro\"] = auc(fpr[\"micro\"], tpr[\"micro\"])"
   ]
  },
  {
   "cell_type": "code",
   "execution_count": 436,
   "metadata": {},
   "outputs": [],
   "source": [
    "with open('belief_fpr_tpr_auc.pkl', 'rb') as f:\n",
    "    bel_fpr, bel_tpr, bel_roc_auc = pickle.load(f)\n"
   ]
  },
  {
   "cell_type": "code",
   "execution_count": 446,
   "metadata": {
    "code_folding": []
   },
   "outputs": [
    {
     "data": {
      "image/png": "[encoded data removed]",
      "text/plain": [
       "<Figure size 432x288 with 1 Axes>"
      ]
     },
     "metadata": {
      "needs_background": "light"
     },
     "output_type": "display_data"
    }
   ],
   "source": [
    "plt.figure()\n",
    "lw = 2\n",
    "colors = ['r', 'g', 'b']\n",
    "\n",
    "# Plot ROC curve for Belief Model (REACH)\n",
    "plt.plot(bel_fpr, bel_tpr, color=colors[0],\n",
    "         lw=lw, label='Orig. Belief (area = %0.2f)' % bel_roc_auc)\n",
    "for i, (clf_name, roc_result) in enumerate(roc_results.items()):\n",
    "    fpr = roc_result['fpr']\n",
    "    tpr = roc_result['tpr']\n",
    "    roc_auc = roc_result['roc_auc']\n",
    "    plt.plot(fpr, tpr, color=colors[i+1],\n",
    "         lw=lw, label='%s (area = %0.2f)' % (clf_name, roc_auc))\n",
    "plt.plot([0, 1], [0, 1], color='navy', lw=lw, linestyle='--')\n",
    "plt.xlim([0.0, 1.0])\n",
    "plt.ylim([0.0, 1.05])\n",
    "plt.xlabel('False Positive Rate')\n",
    "plt.ylabel('True Positive Rate')\n",
    "plt.title('Receiver operating characteristic')\n",
    "plt.legend(loc=\"lower right\")\n",
    "plt.savefig('bel_roc.pdf')\n",
    "plt.show()\n"
   ]
  },
  {
   "cell_type": "code",
   "execution_count": 384,
   "metadata": {
    "scrolled": true
   },
   "outputs": [
    {
     "name": "stdout",
     "output_type": "stream",
     "text": [
      "              precision    recall  f1-score   support\n",
      "\n",
      "           0       0.27      0.22      0.24        37\n",
      "           1       0.82      0.86      0.84       155\n",
      "\n",
      "    accuracy                           0.73       192\n",
      "   macro avg       0.54      0.54      0.54       192\n",
      "weighted avg       0.71      0.73      0.72       192\n",
      "\n"
     ]
    }
   ],
   "source": [
    "print(classification_report(y_test, y_preds, labels=[0, 1]))"
   ]
  },
  {
   "cell_type": "code",
   "execution_count": 440,
   "metadata": {},
   "outputs": [],
   "source": [
    "with open('belief_prec_rec_thresh_auc.pkl', 'rb') as f:\n",
    "    bel_prec, bel_rec, bel_thresh, bel_pr_auc = pickle.load(f)\n"
   ]
  },
  {
   "cell_type": "code",
   "execution_count": 452,
   "metadata": {},
   "outputs": [
    {
     "data": {
      "image/png": "[encoded data removed]",
      "text/plain": [
       "<Figure size 432x288 with 1 Axes>"
      ]
     },
     "metadata": {
      "needs_background": "light"
     },
     "output_type": "display_data"
    }
   ],
   "source": [
    "pr_results = {}\n",
    "for clf_name, clf_result in clf_results.items():\n",
    "    precision, recall, thresholds = precision_recall_curve(y_test, clf_result['y_probs'][:, 1])\n",
    "    pr_auc = metrics.auc(recall, precision)\n",
    "    pr_results[clf_name] = {'precision': precision, 'recall': recall,\n",
    "                            'thresholds': thresholds, 'pr_auc': pr_auc}\n",
    "\n",
    "\"\"\"\n",
    "plt.figure()\n",
    "plt.plot(bel_thresh, bel_prec[: -1], color=colors[0],\n",
    "             linestyle='-', label=\"Orig. Belief Precision (area = %0.2f)\" % bel_pr_auc)\n",
    "plt.plot(bel_thresh, bel_rec[: -1], color=colors[0],\n",
    "             linestyle='--', label=\"Orig. Belief Recall\")\n",
    "\"\"\" \n",
    "\n",
    "for i, (clf_name, pr_result) in list(enumerate(pr_results.items()))[0:1]:\n",
    "    plt.plot(pr_result['thresholds'], pr_result['precision'][: -1], color=colors[i],\n",
    "             linestyle='-', label=\"%s Precision (area = %0.2f)\" % (clf_name, pr_result['pr_auc']))\n",
    "    plt.plot(pr_result['thresholds'], pr_result['recall'][: -1], color=colors[i+1],\n",
    "             linestyle='--', label=\"%s Recall\" % clf_name)\n",
    "    \n",
    "plt.title(\"Precision-Recall vs Threshold Chart\")\n",
    "plt.ylabel(\"Precision, Recall\")\n",
    "plt.xlabel(\"Threshold\")\n",
    "plt.legend(loc=\"lower left\")\n",
    "plt.ylim([0,1])\n",
    "plt.savefig('prec_rec.pdf')\n",
    "plt.show()"
   ]
  },
  {
   "cell_type": "code",
   "execution_count": 419,
   "metadata": {},
   "outputs": [
    {
     "data": {
      "text/plain": [
       "[(0.0, 0.796875),\n",
       " (0.002, 0.7285714285714285),\n",
       " (0.0025, 0.7266187050359713),\n",
       " (0.005, 0.7246376811594203),\n",
       " (0.005161290322580645, 0.7205882352941176),\n",
       " (0.005888888888888888, 0.7185185185185186),\n",
       " (0.006296296296296296, 0.7164179104477612),\n",
       " (0.006666666666666666, 0.7142857142857143),\n",
       " (0.01, 0.7121212121212122),\n",
       " (0.015, 0.696),\n",
       " (0.0175, 0.6859504132231405),\n",
       " (0.02, 0.6833333333333333),\n",
       " (0.025, 0.6724137931034483),\n",
       " (0.025384615384615384, 0.6695652173913044),\n",
       " (0.03, 0.6666666666666666),\n",
       " (0.03139462365591398, 0.6545454545454545),\n",
       " (0.0339021223874165, 0.6513761467889908),\n",
       " (0.03833333333333334, 0.6481481481481481),\n",
       " (0.03866666666666667, 0.6542056074766355),\n",
       " (0.04, 0.6509433962264151),\n",
       " (0.0425, 0.6476190476190476),\n",
       " (0.045, 0.6442307692307693),\n",
       " (0.05, 0.6407766990291263),\n",
       " (0.05325, 0.63),\n",
       " (0.056666666666666664, 0.6262626262626263),\n",
       " (0.06, 0.6326530612244898),\n",
       " (0.06416666666666666, 0.6210526315789474),\n",
       " (0.0725, 0.6170212765957447),\n",
       " (0.07666666666666667, 0.6129032258064516),\n",
       " (0.07871428571428572, 0.6195652173913043),\n",
       " (0.08166666666666667, 0.6153846153846154),\n",
       " (0.0825, 0.6111111111111112),\n",
       " (0.086, 0.6067415730337079),\n",
       " (0.08779636591478697, 0.6022727272727273),\n",
       " (0.09, 0.6046511627906976),\n",
       " (0.09294205467734877, 0.6),\n",
       " (0.09666666666666666, 0.6024096385542169),\n",
       " (0.09953174603174603, 0.6),\n",
       " (0.1, 0.5897435897435898),\n",
       " (0.11182034632034632, 0.5844155844155844),\n",
       " (0.11999999999999998, 0.5789473684210527),\n",
       " (0.12, 0.5733333333333334),\n",
       " (0.13116666666666668, 0.5675675675675675),\n",
       " (0.1325, 0.5616438356164384),\n",
       " (0.14714285714285716, 0.5555555555555556),\n",
       " (0.14947005772005767, 0.5492957746478874),\n",
       " (0.15721428571428572, 0.5428571428571428),\n",
       " (0.1605952380952381, 0.5362318840579711),\n",
       " (0.16445514956319912, 0.5294117647058824),\n",
       " (0.16833333333333336, 0.5223880597014925),\n",
       " (0.18, 0.5151515151515151),\n",
       " (0.18884776334776332, 0.5076923076923077),\n",
       " (0.1888940781440782, 0.5),\n",
       " (0.19679212454212455, 0.49206349206349204),\n",
       " (0.21, 0.4838709677419355),\n",
       " (0.21391666666666664, 0.47540983606557374),\n",
       " (0.22777777777777783, 0.48333333333333334),\n",
       " (0.24300000000000005, 0.4745762711864407),\n",
       " (0.27, 0.46551724137931033),\n",
       " (0.29159523809523813, 0.45614035087719296),\n",
       " (0.3062857142857143, 0.4444444444444444),\n",
       " (0.3098333333333333, 0.4339622641509434),\n",
       " (0.32, 0.4230769230769231),\n",
       " (0.32502777777777764, 0.4117647058823529),\n",
       " (0.33072653490300546, 0.42),\n",
       " (0.3313625541125541, 0.4375),\n",
       " (0.335, 0.44680851063829785),\n",
       " (0.34191651812240037, 0.43478260869565216),\n",
       " (0.34593650793650793, 0.4444444444444444),\n",
       " (0.34788888888888897, 0.4318181818181818),\n",
       " (0.45778571428571424, 0.4186046511627907),\n",
       " (0.4695996189832822, 0.42857142857142855),\n",
       " (0.48615079365079367, 0.37142857142857144),\n",
       " (0.5065736485736487, 0.3939393939393939),\n",
       " (0.5097857142857144, 0.375),\n",
       " (0.512825604638702, 0.4),\n",
       " (0.5322706284943125, 0.37037037037037035),\n",
       " (0.5633788988788988, 0.34615384615384615),\n",
       " (0.5925476190476189, 0.36),\n",
       " (0.60519671994672, 0.3333333333333333),\n",
       " (0.6444419510227093, 0.3333333333333333),\n",
       " (0.6753030303030303, 0.42857142857142855),\n",
       " (0.7342857142857143, 0.38461538461538464),\n",
       " (0.7562675070028011, 0.4166666666666667),\n",
       " (0.7781742669525172, 0.36363636363636365),\n",
       " (0.7967828837828839, 0.6666666666666666),\n",
       " (0.843850316350316, 0.8),\n",
       " (0.865, 1.0),\n",
       " (0.8908333333333333, 1.0),\n",
       " (0.903962575436259, 1.0)]"
      ]
     },
     "execution_count": 419,
     "metadata": {},
     "output_type": "execute_result"
    }
   ],
   "source": [
    "# Associate precision values for the statements at each threshold\n",
    "# So, if a statement has probability value, check if it is above the threshold, and if so,\n",
    "# assign it that precision.\n",
    "list(zip(thresholds, precision))"
   ]
  },
  {
   "cell_type": "code",
   "execution_count": 271,
   "metadata": {},
   "outputs": [
    {
     "name": "stdout",
     "output_type": "stream",
     "text": [
      "[[  1  35]\n",
      " [  4 152]]\n"
     ]
    },
    {
     "data": {
      "image/png": "[encoded data removed]",
      "text/plain": [
       "<Figure size 648x648 with 2 Axes>"
      ]
     },
     "metadata": {
      "needs_background": "light"
     },
     "output_type": "display_data"
    }
   ],
   "source": [
    "cm = metrics.confusion_matrix(y_test, predictions)\n",
    "print(cm)\n",
    "plt.figure(figsize=(9,9))\n",
    "sns.heatmap(cm, annot=True, fmt=\".3f\", linewidths=.5, square = True, cmap = 'Blues_r');\n",
    "plt.ylabel('Actual label');\n",
    "plt.xlabel('Predicted label');\n",
    "all_sample_title = 'Accuracy Score: {0}'.format(score)\n",
    "plt.title(all_sample_title, size = 15);"
   ]
  },
  {
   "cell_type": "markdown",
   "metadata": {},
   "source": [
    "# Logistic Regression"
   ]
  },
  {
   "cell_type": "code",
   "execution_count": 442,
   "metadata": {},
   "outputs": [
    {
     "data": {
      "text/plain": [
       "array([[0.87739369, 0.15692754, 0.06144103, 0.0872427 , 0.61945672,\n",
       "        0.89382797, 0.65239006, 0.21056681, 0.89253788, 0.32519975,\n",
       "        1.03234249, 0.03817995]])"
      ]
     },
     "execution_count": 442,
     "metadata": {},
     "output_type": "execute_result"
    }
   ],
   "source": [
    "logisticRegr.coef_"
   ]
  },
  {
   "cell_type": "code",
   "execution_count": 443,
   "metadata": {
    "scrolled": true
   },
   "outputs": [
    {
     "data": {
      "text/plain": [
       "[('signor', 1.0323424918435298),\n",
       " ('trips', 0.8938279697624802),\n",
       " ('biopax', 0.8925378793174021),\n",
       " ('medscan', 0.8773936874665725),\n",
       " ('hprd', 0.6523900637196467),\n",
       " ('rlimsp', 0.6194567179736861),\n",
       " ('bel', 0.32519974507877825),\n",
       " ('isi', 0.2105668132903066),\n",
       " ('reach', 0.15692754349405286),\n",
       " ('stmt_type', 0.08724269900528582),\n",
       " ('sparser', 0.06144103067503523),\n",
       " ('trrust', 0.038179952170045044)]"
      ]
     },
     "execution_count": 443,
     "metadata": {},
     "output_type": "execute_result"
    }
   ],
   "source": [
    "sorted(list(zip(x_df.columns, logisticRegr.coef_[0])), key=lambda x: x[1], reverse=True)"
   ]
  },
  {
   "cell_type": "code",
   "execution_count": null,
   "metadata": {},
   "outputs": [],
   "source": []
  }
 ],
 "metadata": {
  "kernelspec": {
   "display_name": "Python 3",
   "language": "python",
   "name": "python3"
  },
  "language_info": {
   "codemirror_mode": {
    "name": "ipython",
    "version": 3
   },
   "file_extension": ".py",
   "mimetype": "text/x-python",
   "name": "python",
   "nbconvert_exporter": "python",
   "pygments_lexer": "ipython3",
   "version": "3.7.4"
  }
 },
 "nbformat": 4,
 "nbformat_minor": 2
}
