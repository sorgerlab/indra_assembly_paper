{
 "cells": [
  {
   "cell_type": "markdown",
   "metadata": {},
   "source": [
    "1. Get all correlations from the DepMap above some threshold. DONE\n",
    "2. Get statements from Bioexp corpus, stratify by DBs vs. reading\n",
    "3. Count correlations explained in the two cases\n",
    "4. Highlight examples of complexes, mods, act/neg regulation etc. due to additional info\n",
    "5. Look at DepMap overlap vs. belief score"
   ]
  },
  {
   "cell_type": "code",
   "execution_count": 188,
   "metadata": {
    "scrolled": true
   },
   "outputs": [],
   "source": [
    "import pickle\n",
    "import random\n",
    "import itertools\n",
    "from os.path import join\n",
    "import xswap\n",
    "import numpy as np\n",
    "import pandas as pd\n",
    "from tqdm import tqdm\n",
    "import networkx as nx\n",
    "from collections import defaultdict\n",
    "from matplotlib import pyplot as plt\n",
    "from indra.statements import Complex, Phosphorylation\n",
    "from indra.preassembler import flatten_stmts\n",
    "from indra.tools import assemble_corpus as ac\n",
    "from indra.sources.biogrid import BiogridProcessor\n",
    "from indra.assemblers.indranet import IndraNetAssembler\n",
    "from depmap_analysis.scripts.depmap_script2 import main as run_depmap\n",
    "from indra.ontology.bio import bio_ontology as bo\n",
    "from indra.preassembler import Preassembler\n",
    "\n",
    "from depmap_analysis.network_functions.net_functions import sif_dump_df_to_digraph\n",
    "from multiprocessing import Pool\n",
    "import logging\n",
    "\n",
    "from indra.belief.sklearn.wrapper import CountsModel\n",
    "from bioexp.curation.classifiers import LogLogisticRegression, BinaryRandomForest\n",
    "import seaborn as sns\n",
    "from bioexp.util import format_axis, fontsize\n",
    "from depmap_analysis.scripts.depmap_script2 import mito_file\n",
    "from depmap_analysis.network_functions.depmap_network_functions import get_pairs\n",
    "\n",
    "%matplotlib notebook\n",
    "\n",
    "opath = '../output/'\n",
    "prefix = 'fig6_ipynb'\n",
    "\n",
    "def fig_path(name, fmt):\n",
    "    return join(opath, f'{prefix}_{name}.{fmt}')\n",
    "\n",
    "logger = logging.getLogger('depmap_benchmark')"
   ]
  },
  {
   "cell_type": "markdown",
   "metadata": {},
   "source": [
    "## Load the statements and curation data and train the model"
   ]
  },
  {
   "cell_type": "code",
   "execution_count": 3,
   "metadata": {},
   "outputs": [
    {
     "name": "stderr",
     "output_type": "stream",
     "text": [
      "INFO: [2021-04-29 09:00:59] indra.tools.assemble_corpus - Loading ../data/bioexp_asmb_preassembled.pkl...\n",
      "INFO: [2021-04-29 09:02:02] indra.tools.assemble_corpus - Loaded 895580 statements\n"
     ]
    }
   ],
   "source": [
    "def load_curation_data(filename):\n",
    "    with open(filename, 'rb') as f:\n",
    "        dataset = pickle.load(f)\n",
    "        df = pd.DataFrame.from_records(dataset)\n",
    "        df = df.fillna(0)\n",
    "    # Every column except agent names and stmt type should be int\n",
    "    dtype_dict = {col: 'int64' for col in df.columns\n",
    "                  if col not in ('agA_name', 'agA_ns', 'agA_id', 'stmt_type',\n",
    "                                 'agB_name', 'agB_ns', 'agB_id')}\n",
    "    df = df.astype(dtype_dict)\n",
    "    return df\n",
    "\n",
    "# Get dataset of curated statements along with correctness values\n",
    "def stmts_for_df(df, stmts_by_hash):\n",
    "    stmt_list = []\n",
    "    for row in kge_df.itertuples():\n",
    "        stmt_hash = row.stmt_hash\n",
    "        if stmt_hash not in stmts_by_hash:\n",
    "            continue\n",
    "        stmt_list.append(stmts_by_hash[stmt_hash])\n",
    "    return stmt_list\n",
    "\n",
    "\n",
    "# Load pickle of assembled statements.\n",
    "all_stmts = ac.load_statements('../data/bioexp_asmb_preassembled.pkl')"
   ]
  },
  {
   "cell_type": "code",
   "execution_count": 4,
   "metadata": {},
   "outputs": [
    {
     "name": "stderr",
     "output_type": "stream",
     "text": [
      "INFO: [2021-04-29 09:02:02] indra.tools.assemble_corpus - Filtering 895580 statements for ones containing genes only...\n",
      "INFO: [2021-04-29 09:02:05] indra.tools.assemble_corpus - 895580 statements after filter...\n",
      "INFO: [2021-04-29 09:02:06] indra.tools.assemble_corpus - Filtering 895580 statements for human genes only...\n",
      "INFO: [2021-04-29 09:02:23] indra.tools.assemble_corpus - 895580 statements after filter...\n",
      "INFO: [2021-04-29 09:02:26] indra.tools.assemble_corpus - Filtering 815015 statements for ones containing genes only...\n",
      "INFO: [2021-04-29 09:02:28] indra.tools.assemble_corpus - 618384 statements after filter...\n",
      "INFO: [2021-04-29 09:02:28] indra.tools.assemble_corpus - Filtering 618384 statements for human genes only...\n",
      "INFO: [2021-04-29 09:02:35] indra.tools.assemble_corpus - 618384 statements after filter...\n"
     ]
    }
   ],
   "source": [
    "def filter_stmts(stmts, genes_only=False):\n",
    "    stmts = ac.filter_genes_only(stmts, specific_only=genes_only)\n",
    "    stmts = ac.filter_human_only(stmts)\n",
    "    stmts = [s for s in stmts if None not in s.agent_list()]\n",
    "    stmts = [s for s in stmts if None not in [ag.name for ag in s.agent_list()]]\n",
    "    return stmts\n",
    "\n",
    "all_stmts = filter_stmts(all_stmts, genes_only=False)\n",
    "all_stmts_genes = filter_stmts(all_stmts, genes_only=True)"
   ]
  },
  {
   "cell_type": "code",
   "execution_count": 5,
   "metadata": {},
   "outputs": [
    {
     "data": {
      "text/plain": [
       "618384"
      ]
     },
     "execution_count": 5,
     "metadata": {},
     "output_type": "execute_result"
    }
   ],
   "source": [
    "len(all_stmts_genes)"
   ]
  },
  {
   "cell_type": "markdown",
   "metadata": {},
   "source": [
    "For a database-only comparison, we filter to the statements that have any DB evidence from the sources above:"
   ]
  },
  {
   "cell_type": "code",
   "execution_count": 6,
   "metadata": {},
   "outputs": [
    {
     "name": "stderr",
     "output_type": "stream",
     "text": [
      "INFO: [2021-04-29 09:02:37] indra.tools.assemble_corpus - Filtering 815015 statements to evidence source \"one\" of: bel, biopax, hprd, signor, trrust...\n",
      "INFO: [2021-04-29 09:02:39] indra.tools.assemble_corpus - 132933 statements after filter...\n"
     ]
    }
   ],
   "source": [
    "db_stmts = ac.filter_evidence_source(all_stmts, ['bel', 'biopax', 'hprd', 'signor', 'trrust'])"
   ]
  },
  {
   "cell_type": "code",
   "execution_count": 7,
   "metadata": {},
   "outputs": [
    {
     "data": {
      "text/plain": [
       "132933"
      ]
     },
     "execution_count": 7,
     "metadata": {},
     "output_type": "execute_result"
    }
   ],
   "source": [
    "len(db_stmts)"
   ]
  },
  {
   "cell_type": "code",
   "execution_count": 8,
   "metadata": {},
   "outputs": [],
   "source": [
    "import mplayer\n",
    "p = mplayer.Player()\n",
    "success_file = '/Users/johnbachman/Downloads/success.m4a'\n",
    "p.loadfile(success_file)"
   ]
  },
  {
   "cell_type": "code",
   "execution_count": 9,
   "metadata": {},
   "outputs": [],
   "source": [
    "#all_stmts = ac.load_statements('../output/bioexp_reading_only_asmb_preassembled.pkl')\n",
    "stmts_by_hash = {s.get_hash(): s for s in all_stmts}\n",
    "# Load the curated data\n",
    "curation_data_file = 'curation_dataset_with_bg_psp.pkl'\n",
    "kge_df = load_curation_data(curation_data_file)\n",
    "# Get statements from curation dataframe\n",
    "kge_stmts = stmts_for_df(kge_df, stmts_by_hash)\n",
    "y_arr = kge_df['correct'].values"
   ]
  },
  {
   "cell_type": "code",
   "execution_count": 235,
   "metadata": {},
   "outputs": [],
   "source": [
    "stmts_y = list(zip(kge_stmts, y_arr))"
   ]
  },
  {
   "cell_type": "code",
   "execution_count": 232,
   "metadata": {},
   "outputs": [
    {
     "name": "stderr",
     "output_type": "stream",
     "text": [
      "INFO: [2021-05-07 21:06:20] indra.tools.assemble_corpus - Filtering 1435 statements for top-level...\n",
      "INFO: [2021-05-07 21:06:20] indra.tools.assemble_corpus - 1032 statements after filter...\n"
     ]
    }
   ],
   "source": [
    "top = ac.filter_top_level(kge_stmts)\n",
    "not_top = [s for s in kge_stmts if s not in top]"
   ]
  },
  {
   "cell_type": "code",
   "execution_count": 236,
   "metadata": {},
   "outputs": [],
   "source": [
    "samp = random.sample(stmts_y, 20)\n",
    "kge_samp, y_samp = list(zip(*samp))"
   ]
  },
  {
   "cell_type": "code",
   "execution_count": 207,
   "metadata": {},
   "outputs": [],
   "source": [
    "small_stmts_y = [(s, y) for s, y in zip(kge_samp, y_samp) if len(s.evidence) <= 10]"
   ]
  },
  {
   "cell_type": "code",
   "execution_count": 246,
   "metadata": {
    "scrolled": true
   },
   "outputs": [],
   "source": [
    "def total_ev(stmt):\n",
    "    return sum([len(s.evidence) for s in ([stmt] + stmt.supports + stmt.supported_by)])"
   ]
  },
  {
   "cell_type": "code",
   "execution_count": 256,
   "metadata": {
    "code_folding": []
   },
   "outputs": [
    {
     "name": "stdout",
     "output_type": "stream",
     "text": [
      "0 10 10 Complex(XPNPEP2(), COMT())\n",
      "1 2 2 Inhibition(ARF1(), GBF1())\n",
      "2 4 5 IncreaseAmount(TP53(), NGFR())\n",
      "3 7 234 Phosphorylation(JAK3(), EZH2())\n",
      "4 2 2 Complex(TGFA(), HGF())\n",
      "5 2 2 Activation(ERK(), KLF6())\n",
      "6 8 10 Activation(CCR7(), AKT())\n",
      "7 1 1 Activation(PAPPA(), RUNX2())\n",
      "8 3 3 Complex(HMGCL(), POU2F1())\n",
      "9 5 5 Complex(PDCD6IP(), PTK2())\n",
      "10 3 210 Phosphorylation(STK3(), PPARG())\n",
      "11 1 434 Phosphorylation(MAPK14(), RPS6KA5(), T, 700)\n",
      "12 9 17 Acetylation(MCM3AP(), MCM3())\n",
      "13 1 1 Activation(NCOA3(), EIF2AK3())\n",
      "14 1 125 Phosphorylation(CDC14A(), WEE1(), S, 123)\n",
      "15 2 274 Complex(CBL(), EGFR(activity))\n",
      "16 1 61 Deacetylation(SIRT1(), FOXO1(mods: (acetylation)))\n",
      "17 1 2 Complex(TNFRSF17(), TRAF5())\n",
      "18 1 66 Phosphorylation(EGF(), IQGAP1(), Y)\n",
      "19 9 11 Activation(VCL(), FAS())\n",
      "20 3 3 Complex(EIF4G(), EIF4E2())\n",
      "21 7 7 Activation(CYTH2(), RRAS())\n",
      "22 9 9 Complex(VCP(), DERL1())\n",
      "23 3 1150 Phosphorylation(SRC(), BCAR1(), Y, 165)\n",
      "24 1 931 Phosphorylation(CSNK2B(), CSNK2B(), S, 209)\n",
      "25 6 38 Phosphorylation(RPS6KA1(), ETV1(), S, 216)\n",
      "26 1 94 Phosphorylation(MPEG1(), HSP90())\n",
      "27 1 271 Phosphorylation(CSF3(), GAB2(), Y, 643)\n",
      "28 7 45 Phosphorylation(AKT1(), CARHSP1(), S, 52)\n",
      "29 4 9 IncreaseAmount(PPARG(), NOX4())\n",
      "30 10 62 Phosphorylation(CK2(), SSRP1())\n",
      "31 1 18 Complex(WHAMM(), KIFC1())\n",
      "32 1 3 Inhibition(NOX4(), AKT1())\n",
      "33 2 142 Phosphorylation(VEGF(), PLA2())\n",
      "34 3 3 Activation(HRAS(), STIM1())\n",
      "35 8 20 Complex(TERT(), RELA())\n",
      "36 1 8 Phosphorylation(MTOR(), PGK1(), K, 220)\n",
      "37 3 3 Complex(KRT23(), MMP9())\n",
      "38 5 794 Phosphorylation(PKD2(), VASP(), S, 322)\n",
      "39 9 37 Ubiquitination(MDM2(), DLG4())\n",
      "40 1 1 IncreaseAmount(INSL3(), CTSD())\n",
      "41 2 2 Activation(IL33(), ITGAM())\n",
      "42 6 6 Complex(SESN2(), JUN())\n",
      "43 4 4 Complex(SYNE2(), LMNA())\n",
      "44 10 40 DecreaseAmount(PRKN(), Ubiquitin())\n",
      "45 1 1 Phosphorylation(ERK(), STRA8())\n",
      "46 1 1 Inhibition(FAM83B(), RAF1())\n",
      "47 1 1 Complex(BTRC(), TEX14())\n",
      "48 9 9 Complex(CAT(), PTPN11())\n",
      "49 6 2024 Phosphorylation(RSK(), IRS1(), S, 1101)\n",
      "50 5 5 Activation(DDX58(), STING1())\n",
      "51 1 1 Inhibition(NOS2(), BBC3())\n",
      "52 2 80 IncreaseAmount(MAP3K6(), VEGF())\n",
      "53 4 4 Complex(SOX9(), UBE3A())\n",
      "54 4 4 Complex(SP1(), EGF())\n",
      "55 3 48 DecreaseAmount(PPY(), MYC())\n",
      "56 6 69 DecreaseAmount(TJP2(), CCND1())\n",
      "57 3 3 Activation(E3_Ub_ligase(), E3_Ub_ligase())\n",
      "58 2 17 Complex(HDAC(), MSH2())\n",
      "59 7 5626 Phosphorylation(TNF(), MAPK8())\n",
      "60 1 1 Complex(IL10(), JAK2())\n",
      "61 1 174 Phosphorylation(FGFR2(), GRB2(), Y, 209)\n",
      "62 1 3 Complex(STAT(activity), PTPN6())\n",
      "63 7 2949 Phosphorylation(ATM(), EIF4EBP1())\n",
      "64 2 150 Phosphorylation(PKC(), DNMT1(), S, 127)\n",
      "65 3 46 Phosphorylation(PLK1(), NPHP1(), T, 87)\n",
      "66 10 12 Activation(TXN(), AKT())\n",
      "67 2 8 DecreaseAmount(HUWE1(), MYCN())\n",
      "68 8 13 Complex(PDGFD(), NRP1())\n",
      "69 4 4 Complex(RUNX2(), TNFSF11())\n",
      "70 4 131 Phosphorylation(PKC(), KRAS(), S, 181)\n",
      "71 1 1 Complex(NRP1(), RAB7A())\n",
      "72 4 5 Complex(TP53BP1(), KAT8())\n"
     ]
    }
   ],
   "source": [
    "for ix, (s, y) in enumerate(small_stmts_y):\n",
    "    print(ix, len(s.evidence), total_ev(s), s)"
   ]
  },
  {
   "cell_type": "code",
   "execution_count": 254,
   "metadata": {},
   "outputs": [],
   "source": [
    "exclude = [ 3, 10, 11, 14, 15, 23, 24, 27, 33, 38, 49, 59, 61, 63, 64, 70]"
   ]
  },
  {
   "cell_type": "code",
   "execution_count": 255,
   "metadata": {},
   "outputs": [],
   "source": [
    "small_stmts_y_filt = [s for ix, s in enumerate(small_stmts_y) if ix not in exclude]"
   ]
  },
  {
   "cell_type": "code",
   "execution_count": 288,
   "metadata": {},
   "outputs": [],
   "source": [
    "small_stmts, small_y = zip(*small_stmts_y_filt)"
   ]
  },
  {
   "cell_type": "code",
   "execution_count": 289,
   "metadata": {},
   "outputs": [
    {
     "name": "stderr",
     "output_type": "stream",
     "text": [
      "INFO: [2021-05-07 22:48:09] indra.tools.assemble_corpus - Filtering 57 statements for top-level...\n",
      "INFO: [2021-05-07 22:48:09] indra.tools.assemble_corpus - 47 statements after filter...\n"
     ]
    }
   ],
   "source": [
    "top = ac.filter_top_level(small_stmts)\n",
    "not_top = [s for s in small_stmts if s not in top][5:10]"
   ]
  },
  {
   "cell_type": "code",
   "execution_count": 290,
   "metadata": {},
   "outputs": [],
   "source": [
    "subsamp = random.sample(top, 5)"
   ]
  },
  {
   "cell_type": "code",
   "execution_count": 291,
   "metadata": {},
   "outputs": [],
   "source": [
    "final_samp_y = [(s, y) for s, y in small_stmts_y if s in not_top or s in subsamp]"
   ]
  },
  {
   "cell_type": "code",
   "execution_count": 292,
   "metadata": {},
   "outputs": [
    {
     "data": {
      "text/plain": [
       "10"
      ]
     },
     "execution_count": 292,
     "metadata": {},
     "output_type": "execute_result"
    }
   ],
   "source": [
    "len(final_samp_y)"
   ]
  },
  {
   "cell_type": "code",
   "execution_count": 293,
   "metadata": {},
   "outputs": [],
   "source": [
    "small_stmts, small_y = zip(*final_samp_y)"
   ]
  },
  {
   "cell_type": "code",
   "execution_count": 294,
   "metadata": {
    "scrolled": true
   },
   "outputs": [],
   "source": [
    "import json\n",
    "from indra.statements import stmts_to_json, stmts_from_json\n",
    "\n",
    "with open('/Users/johnbachman/Desktop/test_stmts_cur_samp.pkl', 'wb') as f:\n",
    "    pickle.dump((small_stmts, small_y), f)\n",
    "    \n",
    "with open('/Users/johnbachman/Desktop/test_stmts_cur_samp.json', 'w') as f:\n",
    "    json.dump(stmts_to_json(list(small_stmts)), f)\n"
   ]
  },
  {
   "cell_type": "code",
   "execution_count": 214,
   "metadata": {},
   "outputs": [],
   "source": [
    "ev_ctr = [len(s.evidence) for s in small_stmts]"
   ]
  },
  {
   "cell_type": "code",
   "execution_count": 225,
   "metadata": {},
   "outputs": [],
   "source": [
    "from indra.statements import stmts_to_json, stmts_from_json\n",
    "\n",
    "with open('/Users/johnbachman/Desktop/test_stmts_cur_samp.json', 'r') as f:\n",
    "    stmt_json = json.load(f)\n",
    "    foo = stmts_from_json(stmt_json)"
   ]
  },
  {
   "cell_type": "code",
   "execution_count": 227,
   "metadata": {},
   "outputs": [
    {
     "name": "stderr",
     "output_type": "stream",
     "text": [
      "INFO: [2021-05-07 20:54:42] indra.tools.assemble_corpus - Filtering 73 statements for top-level...\n",
      "INFO: [2021-05-07 20:54:42] indra.tools.assemble_corpus - 59 statements after filter...\n"
     ]
    }
   ],
   "source": [
    "top = ac.filter_top_level(foo)"
   ]
  },
  {
   "cell_type": "code",
   "execution_count": 228,
   "metadata": {},
   "outputs": [],
   "source": [
    "not_top = [s for s in foo if s not in top]"
   ]
  },
  {
   "cell_type": "code",
   "execution_count": 231,
   "metadata": {},
   "outputs": [
    {
     "data": {
      "text/plain": [
       "[Unresolved(uuid=48366ece-574d-4c24-b175-96f33ba9be51)]"
      ]
     },
     "execution_count": 231,
     "metadata": {},
     "output_type": "execute_result"
    }
   ],
   "source": [
    "not_top[0].supports"
   ]
  },
  {
   "cell_type": "code",
   "execution_count": 186,
   "metadata": {},
   "outputs": [
    {
     "data": {
      "text/plain": [
       "True"
      ]
     },
     "execution_count": 186,
     "metadata": {},
     "output_type": "execute_result"
    }
   ],
   "source": [
    "arr1 = np.array([1, 2])\n",
    "arr2 = np.array([1, 3])\n",
    "np.all(np.greater_equal(arr2, arr1))"
   ]
  },
  {
   "cell_type": "markdown",
   "metadata": {},
   "source": [
    "## Train the model"
   ]
  },
  {
   "cell_type": "markdown",
   "metadata": {},
   "source": [
    "Sources in training data:"
   ]
  },
  {
   "cell_type": "code",
   "execution_count": 10,
   "metadata": {},
   "outputs": [
    {
     "data": {
      "text/plain": [
       "['hprd',\n",
       " 'signor',\n",
       " 'bel',\n",
       " 'isi',\n",
       " 'reach',\n",
       " 'trrust',\n",
       " 'medscan',\n",
       " 'rlimsp',\n",
       " 'trips',\n",
       " 'sparser',\n",
       " 'biopax']"
      ]
     },
     "execution_count": 10,
     "metadata": {},
     "output_type": "execute_result"
    }
   ],
   "source": [
    "all_sources = list(set([ev.source_api for stmt in kge_stmts for ev in stmt.evidence]))\n",
    "all_sources"
   ]
  },
  {
   "cell_type": "code",
   "execution_count": 11,
   "metadata": {},
   "outputs": [],
   "source": [
    "# Create a CountsModel for this type of classifier\n",
    "clf = LogLogisticRegression()\n",
    "model = CountsModel(clf, all_sources, use_stmt_type=True, use_num_pmids=True)\n",
    "\n",
    "# Use instance of CountsModel to get feature data as a matrix\n",
    "# with appropriate featurization\n",
    "model.fit(kge_stmts, y_arr)\n",
    "\n",
    "beliefs = model.predict_proba(all_stmts)[:, 1]\n",
    "for ix, stmt in enumerate(all_stmts):\n",
    "    stmt.belief = beliefs[ix]\n",
    "    \n",
    "#with open('../output/trained_loglogreg.pkl', 'rb') as f:\n",
    "#    llr_model = pickle.load(f)\n",
    "#source_list = ['reach', 'sparser', 'medscan', 'rlimsp', 'trips']\n",
    "#cm = CountsModel(llr_model, source_list)"
   ]
  },
  {
   "cell_type": "markdown",
   "metadata": {},
   "source": [
    "## Build INDRA networks (DB-only and all sources)"
   ]
  },
  {
   "cell_type": "markdown",
   "metadata": {},
   "source": [
    "Set up metadata for building randomized and non-randomized IndraNets."
   ]
  },
  {
   "cell_type": "code",
   "execution_count": 12,
   "metadata": {},
   "outputs": [
    {
     "data": {
      "text/plain": [
       "{'all': {'norand': 'bioexp_depmap_all_stmts_norand_inet.pkl',\n",
       "  'randxswap': 'bioexp_depmap_all_stmts_randxswap_inet.pkl',\n",
       "  'randlabels': 'bioexp_depmap_all_stmts_randlabels_inet.pkl'},\n",
       " 'db': {'norand': 'bioexp_depmap_db_stmts_norand_inet.pkl',\n",
       "  'randxswap': 'bioexp_depmap_db_stmts_randxswap_inet.pkl',\n",
       "  'randlabels': 'bioexp_depmap_db_stmts_randlabels_inet.pkl'}}"
      ]
     },
     "execution_count": 12,
     "metadata": {},
     "output_type": "execute_result"
    }
   ],
   "source": [
    "# Statement corpus, all vs. db, randomized or not, \n",
    "stmt_lists = {'all': all_stmts, 'db': db_stmts}\n",
    "corpus_types = ('all', 'db')\n",
    "graph_meta = {}\n",
    "for corpus_type in corpus_types:\n",
    "    graph_meta[corpus_type] = {}\n",
    "    for rand_type in ('norand', 'randxswap', 'randlabels'):\n",
    "        graph_meta[corpus_type][rand_type] = f'bioexp_depmap_{corpus_type}_stmts_{rand_type}_inet.pkl'\n",
    "graph_meta"
   ]
  },
  {
   "cell_type": "code",
   "execution_count": 13,
   "metadata": {},
   "outputs": [],
   "source": [
    "# This function uses the Xswap module to permuted the edges of the\n",
    "# network while maintaining the degree distribution of the original\n",
    "# nodes (so, e.g. TP53 will have exactly the same degree in the\n",
    "# shuffled network as the original network)\n",
    "def shuffle_xswap(net, seed=1):\n",
    "    node_to_int = {}\n",
    "    int_to_node = {}\n",
    "    for ix, node in enumerate(net.nodes):\n",
    "        node_to_int[node] = ix\n",
    "        int_to_node[ix] = node\n",
    "    # Relabel edges as integers to pass to xswap\n",
    "    relabeled_edges = [(node_to_int[u], node_to_int[v]) for u, v in net.edges]    \n",
    "    # Shuffle edges using xswap\n",
    "    permuted_edges_int, permutation_stats = xswap.permute_edge_list(\n",
    "                    relabeled_edges, allow_self_loops=True, allow_antiparallel=True,\n",
    "                    multiplier=10, seed=seed)\n",
    "    # Relabel edges again as ints\n",
    "    permuted_edges_node = [(int_to_node[u], int_to_node[v])\n",
    "                           for u, v in permuted_edges_int]\n",
    "    shuf_net = nx.DiGraph()\n",
    "    # Add the node names with associated namespace/ID info\n",
    "    shuf_net.add_nodes_from(net.nodes(data=True))\n",
    "    # Add the permuted edges\n",
    "    shuf_net.add_edges_from(permuted_edges_node)\n",
    "    # Add the graph NS/ID lookup metadata\n",
    "    shuf_net.graph['node_by_ns_id'] = net.graph['node_by_ns_id']\n",
    "    return shuf_net"
   ]
  },
  {
   "cell_type": "code",
   "execution_count": 14,
   "metadata": {},
   "outputs": [],
   "source": [
    "# This function simply relabels the nodes in the network\n",
    "def shuffle_labels(net, seed=1):\n",
    "    random.seed(1)\n",
    "    shuf_nodes = list(inet.nodes())\n",
    "    random.shuffle(shuf_nodes)\n",
    "    old_to_new = {old: new for old, new in zip(inet.nodes(), shuf_nodes)}\n",
    "    shuf_net = nx.relabel.relabel_nodes(inet, old_to_new, copy=True)\n",
    "    return shuf_net    "
   ]
  },
  {
   "cell_type": "markdown",
   "metadata": {},
   "source": [
    "Build randomized and non-randomized IndraNets from the statements. Takes about 11 minutes."
   ]
  },
  {
   "cell_type": "code",
   "execution_count": 15,
   "metadata": {
    "scrolled": true
   },
   "outputs": [],
   "source": [
    "recalculate = False\n",
    "\n",
    "if recalculate: \n",
    "    graph_type = 'digraph' # 'multi_graph', 'digraph' or 'signed'\n",
    "    for corpus_type, corpus_dict in graph_meta.items():\n",
    "        stmts = stmt_lists[corpus_type]\n",
    "        # First, make the network without randomization\n",
    "        ina = IndraNetAssembler(statements=stmts)\n",
    "        #inet = ina.make_model(complex_members=3, graph_type=graph_type)\n",
    "        sif_df = ina.make_df(complex_members=3)\n",
    "        inet = sif_dump_df_to_digraph(df=sif_df, date='20210329')\n",
    "        no_rand_output_file = corpus_dict['norand']\n",
    "        print(\"Saving {corpus_type} base network\")\n",
    "        with open(no_rand_output_file, 'wb') as f:\n",
    "            pickle.dump(inet, f)\n",
    "        # Next, shuffle the edges to make a new network and save to\n",
    "        # the randomized output file\n",
    "        randxswap_inet = shuffle_xswap(inet, seed=1)\n",
    "        rand_output_file = corpus_dict['randxswap']\n",
    "        print(\"Saving {corpus_type} randxswap\")\n",
    "        with open(rand_output_file, 'wb') as f:\n",
    "            pickle.dump(randxswap_inet, f)\n",
    "        # Finally, shuffle the labels to produce an alternative\n",
    "        # randomization\n",
    "        randlabels_inet = shuffle_labels(inet, seed=1)\n",
    "        rand_output_file = corpus_dict['randlabels']\n",
    "        print(f\"Saving {corpus_type} randlabels\")\n",
    "        with open(rand_output_file, 'wb') as f:\n",
    "            pickle.dump(randlabels_inet, f)"
   ]
  },
  {
   "cell_type": "code",
   "execution_count": 16,
   "metadata": {},
   "outputs": [],
   "source": [
    "import mplayer\n",
    "p = mplayer.Player()\n",
    "success_file = '/Users/johnbachman/Downloads/success.m4a'\n",
    "p.loadfile(success_file)"
   ]
  },
  {
   "cell_type": "markdown",
   "metadata": {},
   "source": [
    "## Run explanations"
   ]
  },
  {
   "cell_type": "markdown",
   "metadata": {},
   "source": [
    "Path to DepMap correlation Z-scores (computed in the Jupyter notebook `depmap_analysis/notebooks/Biomarkers of Dependency.ipynb`):"
   ]
  },
  {
   "cell_type": "code",
   "execution_count": 17,
   "metadata": {},
   "outputs": [],
   "source": [
    "depmap_basedir = '/Users/johnbachman/Dropbox/1johndata/Knowledge File/Biology/Research/Big Mechanism' \\\n",
    "                 '/datasets/depmap_analysis/depmap/21q1'\n",
    "depmap_corr_file = join(depmap_basedir, 'dep_z.h5')"
   ]
  },
  {
   "cell_type": "markdown",
   "metadata": {},
   "source": [
    "Define the bin boundaries that we will use to aggregate correlations:"
   ]
  },
  {
   "cell_type": "code",
   "execution_count": 18,
   "metadata": {},
   "outputs": [],
   "source": [
    "corr_range = np.linspace(0, 6, 13)\n",
    "corr_bins = []\n",
    "for ix in range(len(corr_range)):\n",
    "    corr_lb = corr_range[ix]\n",
    "    corr_ub = None if (ix + 1) >= len(corr_range) \\\n",
    "                   else corr_range[ix + 1]\n",
    "    corr_bins.append((corr_lb, corr_ub))"
   ]
  },
  {
   "cell_type": "markdown",
   "metadata": {},
   "source": [
    "Get counts of correlations in each bin. We need this both as a denominator to determine percentage of correlations explained, as well as to efficiently determine whether we need to use sampling because the number of correlations is very large:"
   ]
  },
  {
   "cell_type": "code",
   "execution_count": 19,
   "metadata": {
    "scrolled": true
   },
   "outputs": [
    {
     "name": "stderr",
     "output_type": "stream",
     "text": [
      "INFO: [2021-04-29 09:03:13] depmap_benchmark - Loading correlation counts from dep_corr_bin_counts.pkl\n"
     ]
    }
   ],
   "source": [
    "corr_bin_ct_file = 'dep_corr_bin_counts.pkl'\n",
    "\n",
    "recalculate = False\n",
    "\n",
    "if recalculate:\n",
    "    corr_bin_counts = []\n",
    "    logger.info(\"Loading correlations\")\n",
    "    dep_z = pd.read_hdf(depmap_corr_file)    \n",
    "    for corr_lb, corr_ub in corr_bins:\n",
    "        logger.info(f\"Filtering correlation matrix to range {(corr_lb, corr_ub)}\")\n",
    "        if corr_ub is None:\n",
    "            dep_subset = dep_z[dep_z.abs() >= corr_lb]\n",
    "        else:\n",
    "            dep_subset = dep_z[(dep_z.abs() >= corr_lb) &\n",
    "                               (dep_z.abs() < corr_ub)]\n",
    "        logger.info(\"Counting correlations for bin\")\n",
    "        bin_count = get_pairs(dep_subset)\n",
    "        corr_bin_counts.append(((corr_lb, corr_ub), bin_count))\n",
    "    with open(corr_bin_ct_file, 'wb') as f:\n",
    "        pickle.dump(corr_bin_counts, f)\n",
    "else:\n",
    "    logger.info(f\"Loading correlation counts from {corr_bin_ct_file}\")\n",
    "    with open(corr_bin_ct_file, 'rb') as f:\n",
    "        corr_bin_counts = pickle.load(f)"
   ]
  },
  {
   "cell_type": "code",
   "execution_count": 296,
   "metadata": {},
   "outputs": [],
   "source": [
    "expl_funcs = ('expl_ab', 'expl_ba', 'find_cp', 'apriori_explained',\n",
    "              'parent_connections', 'common_reactome_paths')\n",
    "#expl_funcs = ('expl_ab', 'expl_ba')\n",
    "max_pairs = 1000000\n",
    "expl_meta = {}\n",
    "for source_type, source_dict in graph_meta.items():\n",
    "    for do_rand, inet_file in source_dict.items():\n",
    "        for (corr_lb, corr_ub), count in reversed(corr_bin_counts):\n",
    "            expl_key = (source_type, do_rand, corr_lb, corr_ub)\n",
    "            expl_meta[expl_key] = (inet_file,\n",
    "                                   f'bioexp_depmap_{source_type}_{do_rand}_{corr_lb}_{corr_ub}', count)"
   ]
  },
  {
   "cell_type": "markdown",
   "metadata": {},
   "source": [
    "A wrapper around the explainer script main function to handle arg preprocessing:"
   ]
  },
  {
   "cell_type": "code",
   "execution_count": 22,
   "metadata": {},
   "outputs": [],
   "source": [
    "def run_depmap_wrapper(inet_file, output_file, sd_range, count):\n",
    "    reactome_file = '/Users/johnbachman/Dropbox/1johndata/Knowledge File/Biology/Research/Big Mechanism/' \\\n",
    "                'datasets/depmap_analysis/reactome_pathways.pkl'\n",
    "    if count > 1000000:\n",
    "        sample_size=1000000\n",
    "    else:\n",
    "        sample_size=None\n",
    "    run_depmap(inet_file, depmap_corr_file, output_file, 'unsigned', sd_range,\n",
    "               sample_size=sample_size, apriori_explained=mito_file,\n",
    "               reactome_path=reactome_file,\n",
    "               overwrite=True, depmap_date='21q1', expl_funcs=expl_funcs,\n",
    "               n_chunks=1)"
   ]
  },
  {
   "cell_type": "markdown",
   "metadata": {},
   "source": [
    "Clear up some memory:"
   ]
  },
  {
   "cell_type": "markdown",
   "metadata": {},
   "source": [
    "del all_stmts\n",
    "del stmts_by_hash\n",
    "del kge_df\n",
    "del kge_stmts\n",
    "del y_arr\n",
    "del clf\n",
    "del model\n",
    "del beliefs\n",
    "del db_stmts\n",
    "del ina\n",
    "del sif_df\n",
    "del inet\n",
    "del rand_inet"
   ]
  },
  {
   "cell_type": "code",
   "execution_count": 23,
   "metadata": {
    "scrolled": true
   },
   "outputs": [],
   "source": [
    "# If we're recalculating explanations, put together the argument list for each condition\n",
    "# and run using multiprocessing\n",
    "recalculate = False\n",
    "if recalculate:\n",
    "    arg_list = []\n",
    "    for ((source_type, do_rand, corr_lb, corr_ub), (inet_file, output_file, count)) in expl_meta.items():\n",
    "        sd_range = (corr_lb, corr_ub)\n",
    "        args = (inet_file, output_file, sd_range, count)\n",
    "        arg_list.append(args)\n",
    "        run_depmap_wrapper(*args)\n",
    "    #with Pool(4) as pool:\n",
    "    #    pool.starmap(run_depmap_wrapper, arg_list)"
   ]
  },
  {
   "cell_type": "code",
   "execution_count": 24,
   "metadata": {},
   "outputs": [],
   "source": [
    "import mplayer\n",
    "p = mplayer.Player()\n",
    "success_file = '/Users/johnbachman/Downloads/success.m4a'\n",
    "p.loadfile(success_file)"
   ]
  },
  {
   "cell_type": "markdown",
   "metadata": {},
   "source": [
    "## Load and filter BioGrid data to use for comparisons against explanation results"
   ]
  },
  {
   "cell_type": "code",
   "execution_count": 25,
   "metadata": {},
   "outputs": [],
   "source": [
    "reload = False\n",
    "bg_stmts_file = join(opath, 'bg_stmts_asmb.pkl')\n",
    "\n",
    "if reload:\n",
    "    bp = BiogridProcessor()\n",
    "    bg_stmts_raw = bp.statements\n",
    "    # De-duplicate the Biogrid statements:\n",
    "    pa = Preassembler(bo, stmts=bg_stmts_raw)\n",
    "    bg_stmts_asmb = pa.combine_duplicates()\n",
    "    # Save statements to file\n",
    "    with open(bg_stmts_file, 'wb') as f:\n",
    "        pickle.dump(bg_stmts_asmb, f)\n",
    "else:\n",
    "    with open(bg_stmts_file, 'rb') as f:\n",
    "        bg_stmts_asmb = pickle.load(f)"
   ]
  },
  {
   "cell_type": "code",
   "execution_count": 26,
   "metadata": {},
   "outputs": [
    {
     "name": "stderr",
     "output_type": "stream",
     "text": [
      "INFO: [2021-04-23 17:28:45] indra.tools.assemble_corpus - Filtering 886283 statements for type Complex...\n",
      "INFO: [2021-04-23 17:28:45] indra.tools.assemble_corpus - 886283 statements after filter...\n",
      "INFO: [2021-04-23 17:28:45] indra.tools.assemble_corpus - Filtering 886283 statements for ones containing genes only...\n",
      "INFO: [2021-04-23 17:28:49] indra.tools.assemble_corpus - 843285 statements after filter...\n",
      "INFO: [2021-04-23 17:28:49] indra.tools.assemble_corpus - Filtering 843285 statements for human genes only...\n",
      "INFO: [2021-04-23 17:28:57] indra.tools.assemble_corpus - 484768 statements after filter...\n"
     ]
    }
   ],
   "source": [
    "def filter_stmts(stmts, stmt_type):\n",
    "    stmts = ac.filter_by_type(stmts, stmt_type)\n",
    "    stmts = ac.filter_genes_only(stmts, specific_only=True)\n",
    "    stmts = ac.filter_human_only(stmts)\n",
    "    stmts = [s for s in stmts if None not in [ag for ag in s.agent_list()]]\n",
    "    return stmts\n",
    "\n",
    "# Filter to Complex of human genes\n",
    "bg_stmts_filt = filter_stmts(bg_stmts_asmb, Complex)"
   ]
  },
  {
   "cell_type": "code",
   "execution_count": 27,
   "metadata": {},
   "outputs": [],
   "source": [
    "import mplayer\n",
    "p = mplayer.Player()\n",
    "success_file = '/Users/johnbachman/Downloads/success.m4a'\n",
    "p.loadfile(success_file)"
   ]
  },
  {
   "cell_type": "markdown",
   "metadata": {},
   "source": [
    "Convert the BioGrid statements in a set of gene pairs so we can easily check if a pair is in Biogrid or not:"
   ]
  },
  {
   "cell_type": "code",
   "execution_count": 28,
   "metadata": {},
   "outputs": [],
   "source": [
    "bg_tuples = set()\n",
    "for stmt in bg_stmts_filt:\n",
    "    agent_names = tuple(sorted([ag.name for ag in stmt.agent_list()]))\n",
    "    bg_tuples.add(agent_names)"
   ]
  },
  {
   "cell_type": "markdown",
   "metadata": {},
   "source": [
    "## Identify significant pairs after Bonferroni correction"
   ]
  },
  {
   "cell_type": "code",
   "execution_count": 28,
   "metadata": {},
   "outputs": [
    {
     "data": {
      "text/plain": [
       "618384"
      ]
     },
     "execution_count": 28,
     "metadata": {},
     "output_type": "execute_result"
    }
   ],
   "source": [
    "len(all_stmts_genes)"
   ]
  },
  {
   "cell_type": "code",
   "execution_count": 29,
   "metadata": {},
   "outputs": [],
   "source": [
    "all_stmts_2 = [s for s in all_stmts_genes if len(s.agent_list()) == 2]"
   ]
  },
  {
   "cell_type": "code",
   "execution_count": 30,
   "metadata": {},
   "outputs": [
    {
     "data": {
      "text/plain": [
       "575817"
      ]
     },
     "execution_count": 30,
     "metadata": {},
     "output_type": "execute_result"
    }
   ],
   "source": [
    "len(all_stmts_2)"
   ]
  },
  {
   "cell_type": "markdown",
   "metadata": {},
   "source": [
    "For a fair comparison, filter out any statements that are explicitly between mitochondrial genes (because we said we weren't going to consider those for explanation:"
   ]
  },
  {
   "cell_type": "code",
   "execution_count": 31,
   "metadata": {},
   "outputs": [],
   "source": [
    "mitocarta = pd.read_excel('../../depmap_analysis/notebooks/data/Human.MitoCarta3.0.xls', sheet_name=1)\n",
    "mitogenes = list(mitocarta.Symbol.values)"
   ]
  },
  {
   "cell_type": "code",
   "execution_count": 32,
   "metadata": {
    "scrolled": true
   },
   "outputs": [
    {
     "name": "stderr",
     "output_type": "stream",
     "text": [
      "INFO: [2021-04-29 09:23:07] indra.tools.assemble_corpus - Filtering 575817 statements for ones not containing \"all\" of: CYC1, SDHB, COQ7, SDHA, UQCRC1, COQ5, PDHA1, COQ9, MRPL12, ATP5F1D, COX5A, ISCA2, PMPCB, UQCRFS1, ATP5F1A, OGDH, PDHB, UQCRC2, SDHD, MRPS35, UQCRQ, MRPL53, DBT, PDK4, MDH2, MRPS27, CS, GRPEL1, DLAT, LRPPRC, DLST, PDHX, GFM1, MPC2, NDUFS1, MRPL46, ATP5F1E, SLC25A3, MRPS23, FH, PMPCA, ATP5F1B, SDHAF4, UQCR10, ISCA1, SUCLA2, COQ3, IARS2, MRPS15, IDH3A, COX11, ETFDH, TIMM10, MRPL34, MRPL2, BCKDHA, UQCRH, HIGD2A, ATP5PO, ECHS1, LETMD1, COX6A1, COX15, AFG3L2, HADHA, ETFA, NDUFS7, CPT2, BCKDHB, IDH3B, LARS2, ACADS, LETM1, ATP5ME, OPA1, AUH, SUCLG1, NDUFV2, COQ6, MRPL43, ABHD11, ATP5PF, NDUFB8, LONP1, DLD, AIFM1, ECHDC3, APOOL, MRPL10, MRRF, NDUFS8, ACADM, IMMT, TIMM9, SLC25A4, SAMM50, NDUFS2, NDUFV1, ACO2, SUPV3L1, FECH, MTIF2, PHB, HIBCH, MRPS2, HSPA9, SURF1, PRDX3, GHITM, GUF1, TIMM13, LYRM4, MRPL16, MRPL40, IDH3G, SDHC, NDUFB5, SDHAF2, COQ10A, GATD3A, TXN2, MRPS18A, COX6C, NDUFB9, MTCH2, NDUFA6, SLC25A20, MRPL1, TIMM44, COX17, MICOS10, SOD2, COX6B1, VDAC1, CLPP, HADH, ACADL, ACAT1, MALSU1, CLPX, NDUFS4, MRPL4, C1QBP, PITRM1, UQCC1, MRPL55, MRM1, MECR, MRPL44, HSDL2, MRPS14, ABCB8, ATPAF2, NDUFA9, COA6, POLRMT, ISCU, RTN4IP1, OGDHL, ATP5F1C, BCKDK, GFM2, NDUFAF4, SLC25A35, SLC25A11, TIMM8B, MCAT, IBA57, PHB2, DAP3, CMC2, SDHAF1, MRPS17, ADHFE1, NFS1, NDUFAF5, MRPL17, TACO1, MFN1, PPTC7, MRPL11, COX4I1, NDUFS6, MRPL13, OXCT1, COX5B, PDK2, ALAS1, MRPL33, MTO1, LIAS, NDUFA5, NDUFB6, MTX2, SUCLG2, FDX1, SLC25A1, MRPS28, TIMM50, VDAC2, SLC25A42, TOMM7, ECH1, GATB, BCS1L, ERAL1, CMC1, MRPL28, TSFM, FXN, NFU1, YARS2, MRPL21, ALDH4A1, TOMM40L, NDUFAF1, NDUFB10, ACADSB, MRPS9, COQ8A, ACADVL, COQ4, MRPL15, NDUFA2, MRPL24, HSPD1, NDUFS5, AK3, CYCS, MIPEP, LYRM7, CRAT, PCCB, MRPS7, MRPL3, PRODH, PCCA, MCCC1, MRPS12, CLPB, PDK1, MRPL49, COX7A2, TMEM126A, ECHDC2, HCCS, HIBADH, MRPL19, MRPL36, SLC25A30, BDH1, FARS2, ABCB7, MTX1, NDUFA7, TIMM17A, ALDH9A1, MRPS18C, MARS2, ALDH6A1, FDXR, GATC, TRAP1, ACAD8, ALDH2, PPIF, TIMM22, IVD, L2HGDH, ETHE1, MRPL20, SLC25A5, SLC25A12, MRPS21, TOMM22, ACAA2, MRPL30, DNAJA3, NDUFB2, MRPS34, ETFB, AFG1L, ATP5IF1, ATP5PB, COX7C, CHCHD3, COQ10B, ACSF3, POLDIP2, SLC25A10, SLC25A13, PDK3, ME3, MRPL22, IDH2, GCDH, MRPL47, PPA2, MRPL9, CHCHD10, WARS2, SLC25A19, CBR4, SMDT1, HAGH, COX7A1, MTG1, COX14, NDUFA12, MRPS16, MTERF2, ETFRF1, GPD2, NDUFA10, NDUFC2, SLIRP, MT-ATP6, MT-CO2, TIMM21, NDUFA8, GLS, NDUFB11, DHTKD1, FAHD2A, HSD17B8, HINT2, MRPS5, C6orf136, SPRYD4, LIPT2, DECR1, MRPS26, SLC25A15, NDUFV3, BPHL, STOML2, MSRB2, LACTB, TOMM40, SLC25A25, ADCK5, ACAD10, VWA8, CCDC90B, DNAJC11, ALKBH7, GLDC, MPC1L, THEM4, SSBP1, MRPL27, HSCB, MRPS10, AK4, ATAD3A, MRPL37, PTGES2, TXNRD2, ACSM5, CISD1, MRPL41, MTARC2, MRPS6, MRPL23, SQOR, SCO1, GCAT, MTHFD1L, ECI2, UQCRB, ATP5PD, ATP5MG, CCDC58, MCCC2, MCEE, MOCS1, MMUT, SLC25A51, SPG7, ATP5MC3, ATAD1, OXNAD1, MTG2, DARS2, MRPL51, PC, CLYBL, PNPLA8, MLYCD, PYURF, TIMM17B, MRPL32, SLC25A26, PRODH2, NIT2, FDX2, ME2, TUFM, COX6A2, SLC30A9, TAMM41, TIMM23, RMND1, MFN2, DNLZ, CHCHD4, NDUFAB1, ACSM1, COA5, COQ2, PDSS2, EHHADH, NDUFS3, ABCB10, CKMT2, MRPS25, ACAD9, COX16, FAM210A, ACOT13, CPT1A, DHRS4, PRELID2, CARS2, NIPSNAP2, NDUFB7, MICOS13, GLRX2, MRPS30, SCO2, HSD17B10, NARS2, RPUSD3, SUOX, SARDH, RIDA, COX8A, SPR, MPV17, ZADH2, MRPL18, ALDH1B1, CHCHD1, TIMM8A, VDAC3, SLC25A24, MPC1, SLC25A22, SLC25A31, SLC25A18, TRNT1, IDE, GSTK1, VARS2, HSPE1, MRPL54, MRPL38, MRPL58, MTCH1, TRIAP1, PTCD3, COX10, AKAP1, MRM3, AK2, TMEM70, NOA1, MCUR1, TMEM14C, NDUFC1, MRPL35, NDUFA3, PDSS1, SLC25A16, FMC1, ACSM3, NDUFAF6, UCP1, SFXN1, GLRX5, PTRH1, MRPS11, XPNPEP3, PDP1, ECI1, SLC25A21, SLC25A29, SLC25A45, SDHAF3, PRELID3B, SLC25A39, NDUFB3, REXO2, GATM, TIMM10B, SARS2, CHDH, MRPL57, C8orf82, EARS2, GRHPR, MTFMT, PTCD2, ECHDC1, HARS2, NDUFA4, NDUFA13, NAXE, TMEM11, SELENOO, NAGS, HSD17B4, NDUFAF7, OAT, MRPL50, COX7B, RARS2, OXLD1, LACTB2, NDUFA11, AURKAIP1, CHCHD7, SHMT2, MTHFD2, RMDN1, CPS1, MRPL14, MTRES1, RDH13, TRMT2B, MRPS24, COA3, GSR, ENDOG, BCAT2, TEFM, ACSF2, TRMU, MRPS22, LAP3, GLUD1, HMGCL, FHIT, MRPS33, NUBPL, LYRM2, MPV17L, GADD45GIP1, TFAM, ALDH18A1, OXSM, KYAT3, TARS2, TBRG4, TMEM65, ROMO1, PRDX5, DNAJC15, MAIP1, HIGD1A, C16orf91, RHOT2, SLC25A44, HAO2, OXA1L, SLC25A46, RDH14, ATP5MPL, CA5B, COASY, CISD3, GSTZ1, COX6B2, GLOD4, ACAA1, CROT, PDF, COX19, AMT, PDPR, NLN, BOLA1, ALAS2, GRPEL2, ALDH7A1, HDHD5, GFER, IMMP2L, COX4I2, MRPL39, AADAT, FUNDC2, LYPLA1, PDHA2, MTRF1L, GTPBP3, MTHFD2L, YME1L1, ACOT2, COA8, MMAB, PPOX, ABCD3, SIRT3, LDHD, MRPL45, C12orf65, IMMP1L, POLG, ATPAF1, BLOC1S1, ALDH1L2, COX18, CPOX, NNT, NDUFAF8, ATP23, DCAKD, ATP5MF, SFXN3, AASS, DIABLO, COX8C, PXMP2, AGXT2, GLS2, APOO, ACAD11, C5orf63, HOGA1, TTC19, NGRN, TCAIM, GCSH, SIRT5, GPT2, TOMM6, FAM162A, ABCB6, MACROD1, TST, MT-CO1, MTFR1L, SDR39U1, DMGDH, SLC25A14, PRELID3A, CHCHD5, TOMM70, NIT1, FAHD1, MCU, CYP27A1, MT-ND2, MT-ND4, MT-ND5, DELE1, FASTKD1, MRPS31, ALDH1L1, PTCD1, HADHB, TRIT1, CRLS1, GLYCTK, SLC25A32, AARS2, EXOG, CHCHD2, KMO, SFXN5, ELAC2, GPX1, CPT1B, FIS1, PRELID1, UCP3, SLC25A27, SLC25A40, SLC25A23, HEMK1, SLC25A36, OMA1, LETM2, DHRS1, STOM, METTL5, MSRA, NUDT8, NMNAT3, SLC25A38, MPV17L2, ACLY, ABCD2, FLAD1, LIPT1, DGLUCY, PCK2, NADK2, MPST, NUDT13, ACACA, ABAT, HMGCS2, ALDH5A1, CKMT1A, PISD, NDUFB4, UQCR11, FAM136A, TOMM5, HTRA2, NDUFA1, MT-CYB, GUK1, D2HGDH, OPA3, AKR1B10, PHYH, NDUFAF2, ECSIT, PARL, MRPL42, DNAJC4, PAM16, ALDH3A2, ACSL6, MRS2, ABHD10, HINT3, PXMP4, OSGEPL1, NUDT2, CYB5B, GRSF1, MRPS18B, DNAJC30, CAT, DGUOK, ACOT9, ACSS1, RFK, STARD7, CHPT1, MT-ATP8, TIMMDC1, SPATA19, HTATIP2, AKR7A2, DUT, MT-CO3, DHRS7B, MTRF1, TMEM143, NT5M, RHOT1, NME4, MTHFS, TIMM29, PNPO, MICU2, PCBD2, QRSL1, ADCK1, PRDX6, NIPSNAP1, GARS1, ACSM2A, SLC25A33, LYRM9, RAB24, PARS2, MRPL52, PUS1, GOT2, NAXD, MT-ND3, ACCS, PTRH2, PGS1, OXR1, LYPLAL1, DNAJC28, FPGS, TMEM205, SLC25A53, AIFM3, MGST1, MTFP1, COA4, NIF3L1, PUSL1, SDSL, BAX, MAVS, METTL17, ACACB, ARG2, MTPAP, CCDC51, SUGCT, DNM1L, NRDC, TMEM126B, NSUN4, ACSS3, FAM210B, RBFA, METAP1D, AHCYL1, NIPSNAP3A, MTARC1, FUNDC1, ACSL1, COX20, HSDL1, CBR3, MTERF4, NUDT19, HEBP1, PTPMT1, PGAM5, DTYMK, KARS1, STAR, DNAJC19, OTC, COX7A2L, MTERF3, SFXN2, FASN, PINK1, TMEM177, TXNRD1, THNSL1, FDPS, IDI1, TOP3A, FTMT, LDHAL6B, MTFR1, BCL2L13, TRMT10C, ACOT7, TFB1M, ARF5, MCUB, TWNK, MMADHC, PYCR2, TSTD1, LYRM1, OSBPL1A, RECQL4, PET100, GDAP1, MTIF3, UNG, GLYAT, ISOC2, ATP5MC1, QDPR, COQ8B, GTPBP10, TSPO, FTH1, TRMT1, ADCK2, TSTD3, MRPS36, PDP2, AGPAT5, MCRIP2, UCP2, SLC25A37, SLC25A28, SLC25A48, SLC25A43, SLC25A47, SLC25A41, SLC25A34, EPHX2, NUDT5, MICU1, SOD1, SERHL2, NDUFAF3, BOLA3, OCIAD2, RSAD1, CHCHD6, FASTKD2, PEX11B, TMEM186, PIF1, FABP1, ABCD1, PLPBP, DBI, PNPT1, TOP1MT, RNASEH1, ABCA9, SCP2, NT5DC3, CMC4, LDHB, YBEY, HINT1, MUL1, TK2, AGMAT, CMPK2, BID, ARL2, SYNJ2BP, MFF, DCXR, NUDT9, AMACR, VPS13D, NUDT6, DMAC2, MRM2, BAK1, DHODH, MAOB, MGST3, ACP6, MRPL48, AGXT, CYB5R3, DDX28, PNKD, MICU3, BNIP3, MTX3, MUTYH, GTPBP6, CYP11A1, OCIAD1, METTL8, SMIM20, RPUSD4, SMIM8, NME6, FKBP8, ACSM4, NLRX1, FOXRED1, TFB2M, PPM1K, ATP5MC2, MT-ND1, TAZ, MSRB3, ACOT11, NIPSNAP3B, NTHL1, MARCHF5, SFXN4, TRMT5, SLC25A6, SLC25A52, OGG1, ACOD1, QTRT1, AIFM2, PRDX2, FBXL4, GPAM, DMAC2L, RMDN3, PRXL2A, ATP5MD, PET117, MAOA, C15orf61, POLQ, BCO2, IFI27, CRYZ, PYCR1, TMLHE, TOMM20, YRDC, COA7, DHRS2, MMAA, MIEF1, C15orf48, LIG3, BNIP3L, FASTKD5, PARK7, COA1, COX7B2, MT-ND4L, SIRT4, UQCC2, USP30, PDE12, NME3, DHX30, FASTK, METTL15, CYP24A1, NOCT, PANK2, CA5A, NT5DC2, ATAD3B, TRUB2, PRKACA, COMTD1, CPT1C, C3orf33, MIGA2, SND1, GLUD2, HPDL, ANGEL2, ANTKMT, UQCC3, PRDX4, CDK5RAP1, PAICS, MGARP, HDHD3, CYP11B2, AGPAT4, RCC1L, FAM185A, PMAIP1, TDRKH, SLC8B1, CYP27B1, POLG2, THEM5, BIK, MTERF1, MTFR2, GPX4, TOMM20L, COMT, MYG1, SPATA20, OXCT2, CCDC127, CRY1, ACSM2B, MYO19, MGME1, SEPTIN4, EFHD1, RAB5IF, APEX1, SPTLC2, DMAC1, ATPSCKMT, NEU4, CASP9, AGK, MCL1, DUS2, PLD6, TOMM34, PRORP, PLSCR3, CKMT1B, NDUFB1, ATP5MF-PTCD1, CASP8, BCL2L1, EXD2, ARMC10, MIEF2, THG1L, GOLPH3, PREPL, FASTKD3, CEP89, GPAT2, NBR1, BOK, FKBP10, SETD9, CYP11B1, CSKMT, MIGA1, RPIA, BBC3, BAD, BCL2, BCL2A1, BCL2L2, CASP3, DMPK, DNA2, MT-ND6, PRKN, ALKBH1, PICK1, BCL2L10, AKAP10, STYXL1, NSUN2, ADCY10, SPHK2, NSUN3, PABPC5, PRSS35, PRIMPOL, SERAC1, STX17, TRMT61B, PDE2A, PLGRKT, ETFBKMT, RTL10, BCL2L11, SPIRE1, C2orf69, ARMCX2, ARMCX1, POLB, SNAP29, ARMCX3, ARMCX6, METTL4, SPHKAP, NAT8L, MCCD1, PIGBOS1, HTD2, RP11_469A15.2...\n"
     ]
    },
    {
     "name": "stderr",
     "output_type": "stream",
     "text": [
      "INFO: [2021-04-29 09:23:18] indra.tools.assemble_corpus - 571397 statements after filter...\n"
     ]
    }
   ],
   "source": [
    "all_stmts_nm = ac.filter_gene_list(all_stmts_2, mitogenes, policy='all', invert=True)"
   ]
  },
  {
   "cell_type": "code",
   "execution_count": 33,
   "metadata": {},
   "outputs": [
    {
     "data": {
      "text/plain": [
       "571397"
      ]
     },
     "execution_count": 33,
     "metadata": {},
     "output_type": "execute_result"
    }
   ],
   "source": [
    "len(all_stmts_nm)"
   ]
  },
  {
   "cell_type": "markdown",
   "metadata": {},
   "source": [
    "Specify which set of statements we're using for explanation:"
   ]
  },
  {
   "cell_type": "code",
   "execution_count": 34,
   "metadata": {},
   "outputs": [],
   "source": [
    "stmts_comps = all_stmts_nm"
   ]
  },
  {
   "cell_type": "markdown",
   "metadata": {},
   "source": [
    "Load the combined p-values from the DepMap data:"
   ]
  },
  {
   "cell_type": "code",
   "execution_count": 112,
   "metadata": {},
   "outputs": [],
   "source": [
    "filename = 'dep_logp'\n",
    "#filename = 'crispr_logp'\n",
    "depmap_dir = '/Users/johnbachman/Dropbox/1johndata/Knowledge File/Biology/Research/Big Mechanism/datasets/depmap_analysis/depmap/21q1'\n",
    "z_filepath = join(depmap_dir, '%s.h5' % filename)\n",
    "df_logp = pd.read_hdf(z_filepath)\n",
    "\n",
    "# Load the significant (corrected) gene pairs from the DepMap directory:\n",
    "#sig_corrs_file = 'crispr_sig_corrs_no_prior.pkl'\n",
    "sig_corrs_file = 'dep_stouffer_signif.pkl'\n",
    "data_sig_corrs = pd.read_pickle(join(depmap_dir, sig_corrs_file))"
   ]
  },
  {
   "cell_type": "markdown",
   "metadata": {},
   "source": [
    "Get the statement gene pairs where the genes are in the dataset, and are not self-loops:"
   ]
  },
  {
   "cell_type": "code",
   "execution_count": 150,
   "metadata": {},
   "outputs": [],
   "source": [
    "stmt_tuples = set()\n",
    "stmts_by_gene_pair = defaultdict(list)\n",
    "df_agents = set(df_logp.index)\n",
    "for stmt in stmts_comps:\n",
    "    agent_names = tuple(sorted([ag.name for ag in stmt.agent_list()]))\n",
    "    # Ignore self-loops\n",
    "    if agent_names[0] == agent_names[1]:\n",
    "        continue\n",
    "    # Make sure both agents in the statement are in the original dataset\n",
    "    if not agent_names[0] in df_agents or not agent_names[1] in df_agents:\n",
    "        continue\n",
    "    stmts_by_gene_pair[agent_names].append(stmt)\n",
    "    stmt_tuples.add(agent_names)\n",
    "stmts_by_gene_pair = dict(stmts_by_gene_pair)"
   ]
  },
  {
   "cell_type": "code",
   "execution_count": 113,
   "metadata": {},
   "outputs": [
    {
     "data": {
      "text/plain": [
       "266877"
      ]
     },
     "execution_count": 113,
     "metadata": {},
     "output_type": "execute_result"
    }
   ],
   "source": [
    "len(stmt_tuples)"
   ]
  },
  {
   "cell_type": "markdown",
   "metadata": {},
   "source": [
    "Calculate the threshold Bonferroni-corrected p-value threshold:"
   ]
  },
  {
   "cell_type": "code",
   "execution_count": 40,
   "metadata": {},
   "outputs": [
    {
     "data": {
      "text/plain": [
       "-15.490275430636135"
      ]
     },
     "execution_count": 40,
     "metadata": {},
     "output_type": "execute_result"
    }
   ],
   "source": [
    "num_comps = len(stmt_tuples)\n",
    "alpha = 0.05\n",
    "bc_thresh = np.log(alpha / num_comps)\n",
    "bc_thresh"
   ]
  },
  {
   "cell_type": "markdown",
   "metadata": {},
   "source": [
    "How many p-values at this lower cutoff?"
   ]
  },
  {
   "cell_type": "code",
   "execution_count": 41,
   "metadata": {},
   "outputs": [],
   "source": [
    "def unstack_corrs(df):\n",
    "    df_ut = df.where(np.triu(np.ones(df.shape), k=1).astype(np.bool))\n",
    "    stacked: pd.DataFrame = df_ut.stack(dropna=True)\n",
    "    return stacked"
   ]
  },
  {
   "cell_type": "code",
   "execution_count": 42,
   "metadata": {},
   "outputs": [],
   "source": [
    "indra_sig_corrs = unstack_corrs(df_logp[df_logp < bc_thresh])"
   ]
  },
  {
   "cell_type": "code",
   "execution_count": 43,
   "metadata": {},
   "outputs": [
    {
     "data": {
      "text/plain": [
       "A1BG    ABHD16B    -20.600174\n",
       "        AKR1C1     -18.315969\n",
       "        B3GALT6    -21.665394\n",
       "        CARD9      -23.085425\n",
       "        CDC42EP5   -27.299659\n",
       "                      ...    \n",
       "ZNF91   ZNF98      -39.018843\n",
       "        ZSWIM4     -25.274782\n",
       "ZNRF4   ZP3        -16.634054\n",
       "ZP3     ZSCAN18    -16.133255\n",
       "ZWILCH  ZWINT      -17.899736\n",
       "Length: 332319, dtype: float64"
      ]
     },
     "execution_count": 43,
     "metadata": {},
     "output_type": "execute_result"
    }
   ],
   "source": [
    "indra_sig_corrs"
   ]
  },
  {
   "cell_type": "markdown",
   "metadata": {},
   "source": [
    "## Correlations identified as significant with prior"
   ]
  },
  {
   "cell_type": "markdown",
   "metadata": {},
   "source": [
    "Get the full set below alpha:"
   ]
  },
  {
   "cell_type": "code",
   "execution_count": 115,
   "metadata": {},
   "outputs": [
    {
     "data": {
      "text/html": [
       "<div>\n",
       "<style scoped>\n",
       "    .dataframe tbody tr th:only-of-type {\n",
       "        vertical-align: middle;\n",
       "    }\n",
       "\n",
       "    .dataframe tbody tr th {\n",
       "        vertical-align: top;\n",
       "    }\n",
       "\n",
       "    .dataframe thead th {\n",
       "        text-align: right;\n",
       "    }\n",
       "</style>\n",
       "<table border=\"1\" class=\"dataframe\">\n",
       "  <thead>\n",
       "    <tr style=\"text-align: right;\">\n",
       "      <th></th>\n",
       "      <th></th>\n",
       "      <th>logp</th>\n",
       "      <th>rank</th>\n",
       "      <th>bc_cutoff</th>\n",
       "      <th>bh_crit_val</th>\n",
       "      <th>by_crit_val</th>\n",
       "    </tr>\n",
       "    <tr>\n",
       "      <th>geneA</th>\n",
       "      <th>geneB</th>\n",
       "      <th></th>\n",
       "      <th></th>\n",
       "      <th></th>\n",
       "      <th></th>\n",
       "      <th></th>\n",
       "    </tr>\n",
       "  </thead>\n",
       "  <tbody>\n",
       "    <tr>\n",
       "      <th>TSC1</th>\n",
       "      <th>TSC2</th>\n",
       "      <td>-inf</td>\n",
       "      <td>1.0</td>\n",
       "      <td>-21.613448</td>\n",
       "      <td>-21.613448</td>\n",
       "      <td>-24.568095</td>\n",
       "    </tr>\n",
       "    <tr>\n",
       "      <th>MDM2</th>\n",
       "      <th>TP53</th>\n",
       "      <td>-585.802559</td>\n",
       "      <td>2.0</td>\n",
       "      <td>-21.613448</td>\n",
       "      <td>-20.920301</td>\n",
       "      <td>-23.874947</td>\n",
       "    </tr>\n",
       "    <tr>\n",
       "      <th>TP53</th>\n",
       "      <th>TP53BP1</th>\n",
       "      <td>-511.445963</td>\n",
       "      <td>3.0</td>\n",
       "      <td>-21.613448</td>\n",
       "      <td>-20.514836</td>\n",
       "      <td>-23.469482</td>\n",
       "    </tr>\n",
       "    <tr>\n",
       "      <th>AP2M1</th>\n",
       "      <th>AP2S1</th>\n",
       "      <td>-464.574498</td>\n",
       "      <td>4.0</td>\n",
       "      <td>-21.613448</td>\n",
       "      <td>-20.227154</td>\n",
       "      <td>-23.181800</td>\n",
       "    </tr>\n",
       "    <tr>\n",
       "      <th>CDKN1A</th>\n",
       "      <th>TP53</th>\n",
       "      <td>-444.180749</td>\n",
       "      <td>5.0</td>\n",
       "      <td>-21.613448</td>\n",
       "      <td>-20.004010</td>\n",
       "      <td>-22.958657</td>\n",
       "    </tr>\n",
       "    <tr>\n",
       "      <th>...</th>\n",
       "      <th>...</th>\n",
       "      <td>...</td>\n",
       "      <td>...</td>\n",
       "      <td>...</td>\n",
       "      <td>...</td>\n",
       "      <td>...</td>\n",
       "    </tr>\n",
       "    <tr>\n",
       "      <th>GAPT</th>\n",
       "      <th>MAST1</th>\n",
       "      <td>-2.995733</td>\n",
       "      <td>25211479.0</td>\n",
       "      <td>-21.613448</td>\n",
       "      <td>-4.570638</td>\n",
       "      <td>-7.525285</td>\n",
       "    </tr>\n",
       "    <tr>\n",
       "      <th>CCDC58</th>\n",
       "      <th>PNMA6A</th>\n",
       "      <td>-2.995733</td>\n",
       "      <td>25211480.0</td>\n",
       "      <td>-21.613448</td>\n",
       "      <td>-4.570638</td>\n",
       "      <td>-7.525285</td>\n",
       "    </tr>\n",
       "    <tr>\n",
       "      <th>PTPRN</th>\n",
       "      <th>ZBTB2</th>\n",
       "      <td>-2.995733</td>\n",
       "      <td>25211481.0</td>\n",
       "      <td>-21.613448</td>\n",
       "      <td>-4.570638</td>\n",
       "      <td>-7.525285</td>\n",
       "    </tr>\n",
       "    <tr>\n",
       "      <th>CPLX2</th>\n",
       "      <th>TMEM171</th>\n",
       "      <td>-2.995733</td>\n",
       "      <td>25211482.0</td>\n",
       "      <td>-21.613448</td>\n",
       "      <td>-4.570638</td>\n",
       "      <td>-7.525285</td>\n",
       "    </tr>\n",
       "    <tr>\n",
       "      <th>PPP1R1B</th>\n",
       "      <th>RTP5</th>\n",
       "      <td>-2.995732</td>\n",
       "      <td>25211483.0</td>\n",
       "      <td>-21.613448</td>\n",
       "      <td>-4.570638</td>\n",
       "      <td>-7.525285</td>\n",
       "    </tr>\n",
       "  </tbody>\n",
       "</table>\n",
       "<p>25211483 rows × 5 columns</p>\n",
       "</div>"
      ],
      "text/plain": [
       "                       logp        rank  bc_cutoff  bh_crit_val  by_crit_val\n",
       "geneA   geneB                                                               \n",
       "TSC1    TSC2           -inf         1.0 -21.613448   -21.613448   -24.568095\n",
       "MDM2    TP53    -585.802559         2.0 -21.613448   -20.920301   -23.874947\n",
       "TP53    TP53BP1 -511.445963         3.0 -21.613448   -20.514836   -23.469482\n",
       "AP2M1   AP2S1   -464.574498         4.0 -21.613448   -20.227154   -23.181800\n",
       "CDKN1A  TP53    -444.180749         5.0 -21.613448   -20.004010   -22.958657\n",
       "...                     ...         ...        ...          ...          ...\n",
       "GAPT    MAST1     -2.995733  25211479.0 -21.613448    -4.570638    -7.525285\n",
       "CCDC58  PNMA6A    -2.995733  25211480.0 -21.613448    -4.570638    -7.525285\n",
       "PTPRN   ZBTB2     -2.995733  25211481.0 -21.613448    -4.570638    -7.525285\n",
       "CPLX2   TMEM171   -2.995733  25211482.0 -21.613448    -4.570638    -7.525285\n",
       "PPP1R1B RTP5      -2.995732  25211483.0 -21.613448    -4.570638    -7.525285\n",
       "\n",
       "[25211483 rows x 5 columns]"
      ]
     },
     "execution_count": 115,
     "metadata": {},
     "output_type": "execute_result"
    }
   ],
   "source": [
    "data_sig_corrs"
   ]
  },
  {
   "cell_type": "code",
   "execution_count": 116,
   "metadata": {},
   "outputs": [],
   "source": [
    "alpha = 0.05\n",
    "stmt_tuples = list(stmt_tuples)"
   ]
  },
  {
   "cell_type": "code",
   "execution_count": 118,
   "metadata": {},
   "outputs": [],
   "source": [
    "sig_tuples = set(data_sig_corrs.index)"
   ]
  },
  {
   "cell_type": "code",
   "execution_count": 119,
   "metadata": {},
   "outputs": [],
   "source": [
    "import mplayer\n",
    "p = mplayer.Player()\n",
    "success_file = '/Users/johnbachman/Downloads/success.m4a'\n",
    "p.loadfile(success_file)"
   ]
  },
  {
   "cell_type": "markdown",
   "metadata": {},
   "source": [
    "The tuples in the following intersection are both p < 0.05 (uncorrected) and included in the set of hypotheses from the INDRA prior:"
   ]
  },
  {
   "cell_type": "code",
   "execution_count": 120,
   "metadata": {},
   "outputs": [
    {
     "data": {
      "text/plain": [
       "68662"
      ]
     },
     "execution_count": 120,
     "metadata": {},
     "output_type": "execute_result"
    }
   ],
   "source": [
    "sig_stmt_hyps = sig_tuples.intersection(set(stmt_tuples))\n",
    "sig_stmt_hyps = list(sig_stmt_hyps)\n",
    "len(sig_stmt_hyps)"
   ]
  },
  {
   "cell_type": "markdown",
   "metadata": {},
   "source": [
    "Get the series including only the logp values for the significant hypotheses from the statements:"
   ]
  },
  {
   "cell_type": "code",
   "execution_count": 122,
   "metadata": {
    "scrolled": true
   },
   "outputs": [],
   "source": [
    "indra_sig_corrs = data_sig_corrs['logp'].loc[sig_stmt_hyps]"
   ]
  },
  {
   "cell_type": "code",
   "execution_count": 123,
   "metadata": {},
   "outputs": [
    {
     "data": {
      "text/plain": [
       "geneA   geneB  \n",
       "CDH1    SOX4      -9.569751\n",
       "MAPK9   YWHAB     -5.406590\n",
       "APBB2   LRP1      -3.090969\n",
       "DOK1    ITGB1     -8.650447\n",
       "CD4     CEACAM1   -6.667035\n",
       "                     ...   \n",
       "CTNNB1  GSK3A     -6.694471\n",
       "MDK     MVP       -3.487424\n",
       "APP     CD44      -4.794911\n",
       "NCBP1   PABPN1    -8.082109\n",
       "HBEGF   INS       -6.525408\n",
       "Name: logp, Length: 68662, dtype: float64"
      ]
     },
     "execution_count": 123,
     "metadata": {},
     "output_type": "execute_result"
    }
   ],
   "source": [
    "indra_sig_corrs"
   ]
  },
  {
   "cell_type": "code",
   "execution_count": 124,
   "metadata": {},
   "outputs": [],
   "source": [
    "sig_sorted = indra_sig_corrs.sort_values().to_frame('logp')"
   ]
  },
  {
   "cell_type": "code",
   "execution_count": 125,
   "metadata": {},
   "outputs": [],
   "source": [
    "sig_sorted['rank'] = sig_sorted.rank()"
   ]
  },
  {
   "cell_type": "markdown",
   "metadata": {},
   "source": [
    "Bonferroni correction cutoff"
   ]
  },
  {
   "cell_type": "code",
   "execution_count": 126,
   "metadata": {},
   "outputs": [],
   "source": [
    "sig_sorted['bc_cutoff'] = bc_thresh"
   ]
  },
  {
   "cell_type": "markdown",
   "metadata": {},
   "source": [
    "Benjamini-Hochberg critical value"
   ]
  },
  {
   "cell_type": "code",
   "execution_count": 127,
   "metadata": {},
   "outputs": [],
   "source": [
    "sig_sorted['bh_crit_val'] = np.log((sig_sorted['rank'] / num_comps) * alpha)"
   ]
  },
  {
   "cell_type": "markdown",
   "metadata": {},
   "source": [
    "Benjamini-Yekutieli critical value:"
   ]
  },
  {
   "cell_type": "code",
   "execution_count": 128,
   "metadata": {},
   "outputs": [],
   "source": [
    "cm = np.log(num_comps) + np.euler_gamma + (1/(2*num_comps))"
   ]
  },
  {
   "cell_type": "code",
   "execution_count": 129,
   "metadata": {},
   "outputs": [],
   "source": [
    "sig_sorted['by_crit_val'] = sig_sorted['bh_crit_val'] - np.log(cm)"
   ]
  },
  {
   "cell_type": "markdown",
   "metadata": {},
   "source": [
    "Bonferroni results:"
   ]
  },
  {
   "cell_type": "code",
   "execution_count": 138,
   "metadata": {},
   "outputs": [
    {
     "data": {
      "text/plain": [
       "1840"
      ]
     },
     "execution_count": 138,
     "metadata": {},
     "output_type": "execute_result"
    }
   ],
   "source": [
    "indra_bc = sig_sorted[sig_sorted['logp'] < sig_sorted['bc_cutoff']]\n",
    "data_bc = data_sig_corrs[data_sig_corrs['logp'] < data_sig_corrs['bc_cutoff']]\n",
    "indra_only_bc = set(indra_bc.index).difference(set(data_bc.index))"
   ]
  },
  {
   "cell_type": "code",
   "execution_count": 141,
   "metadata": {},
   "outputs": [
    {
     "name": "stdout",
     "output_type": "stream",
     "text": [
      "INDRA all 4772\n",
      "INDRA only 1840\n"
     ]
    }
   ],
   "source": [
    "print(\"INDRA all\", len(indra_bc))\n",
    "print(\"INDRA only\", len(indra_only_bc))"
   ]
  },
  {
   "cell_type": "markdown",
   "metadata": {},
   "source": [
    "Benjamini-Hochberg results:"
   ]
  },
  {
   "cell_type": "code",
   "execution_count": 146,
   "metadata": {},
   "outputs": [],
   "source": [
    "indra_bh = sig_sorted[sig_sorted['logp'] < sig_sorted['bh_crit_val']]\n",
    "data_bh = data_sig_corrs[data_sig_corrs['logp'] < data_sig_corrs['bh_crit_val']]\n",
    "indra_only_bh = set(indra_bh.index).difference(set(data_bh.index))"
   ]
  },
  {
   "cell_type": "code",
   "execution_count": 142,
   "metadata": {},
   "outputs": [
    {
     "name": "stdout",
     "output_type": "stream",
     "text": [
      "INDRA all 33475\n",
      "INDRA only 6520\n"
     ]
    }
   ],
   "source": [
    "print(\"INDRA all\", len(indra_bh))\n",
    "print(\"INDRA only\", len(indra_only_bh))"
   ]
  },
  {
   "cell_type": "markdown",
   "metadata": {},
   "source": [
    "Benjamini-Yekutieli correction"
   ]
  },
  {
   "cell_type": "code",
   "execution_count": 144,
   "metadata": {},
   "outputs": [],
   "source": [
    "indra_by = sig_sorted[sig_sorted['logp'] < sig_sorted['by_crit_val']]\n",
    "data_by = data_sig_corrs[data_sig_corrs['logp'] < data_sig_corrs['by_crit_val']]\n",
    "indra_only_by = set(indra_by.index).difference(set(data_by.index))"
   ]
  },
  {
   "cell_type": "code",
   "execution_count": 145,
   "metadata": {},
   "outputs": [
    {
     "name": "stdout",
     "output_type": "stream",
     "text": [
      "INDRA all 13423\n",
      "INDRA only 4232\n"
     ]
    }
   ],
   "source": [
    "print(\"INDRA all\", len(indra_by))\n",
    "print(\"INDRA only\", len(indra_only_by))"
   ]
  },
  {
   "cell_type": "markdown",
   "metadata": {},
   "source": [
    "### Cherry-picking the INDRA only gene pairs"
   ]
  },
  {
   "cell_type": "markdown",
   "metadata": {},
   "source": [
    "Rank INDRA-only gene pairs by belief score:"
   ]
  },
  {
   "cell_type": "code",
   "execution_count": 151,
   "metadata": {},
   "outputs": [
    {
     "data": {
      "text/plain": [
       "[Activation(DYRK1B(), CDKN1A()),\n",
       " Phosphorylation(DYRK1B(kinase), CDKN1A(), S, 153),\n",
       " Phosphorylation(DYRK1B(), CDKN1A()),\n",
       " Phosphorylation(DYRK1B(), CDKN1A(), S, 153)]"
      ]
     },
     "execution_count": 151,
     "metadata": {},
     "output_type": "execute_result"
    }
   ],
   "source": [
    "stmts_by_gene_pair[('CDKN1A', 'DYRK1B')]"
   ]
  },
  {
   "cell_type": "code",
   "execution_count": 155,
   "metadata": {},
   "outputs": [],
   "source": [
    "gene_pair_beliefs = defaultdict(list)\n",
    "readers = set(['reach', 'sparser', 'medscan', 'rlimsp', 'trips'])\n",
    "gp_index = pd.MultiIndex.from_tuples(indra_only_by, names=['geneA', 'geneB'])\n",
    "data = []\n",
    "for gene_pair in indra_only_by:\n",
    "    stmts = stmts_by_gene_pair[gene_pair]\n",
    "    sources = set([ev.source_api for stmt in stmts for ev in stmt.evidence])\n",
    "    beliefs = [stmt.belief for stmt in stmts]\n",
    "    if not sources.difference(readers):\n",
    "        reading_only = True\n",
    "    else:\n",
    "        reading_only = False\n",
    "    max_bel = max(beliefs)\n",
    "    data.append((reading_only, max_bel))\n",
    "indra_only_df = pd.DataFrame(data, index=gp_index, columns=('reading_only', 'max_belief'))\n"
   ]
  },
  {
   "cell_type": "code",
   "execution_count": 164,
   "metadata": {},
   "outputs": [
    {
     "data": {
      "text/plain": [
       "[Activation(ROCK2(), EP300()),\n",
       " Dephosphorylation(ROCK2(mods: (modification)), EP300()),\n",
       " Phosphorylation(ROCK2(activity), EP300()),\n",
       " Phosphorylation(ROCK2(), EP300())]"
      ]
     },
     "execution_count": 164,
     "metadata": {},
     "output_type": "execute_result"
    }
   ],
   "source": [
    "stmts_by_gene_pair[('EP300', 'ROCK2')]"
   ]
  },
  {
   "cell_type": "code",
   "execution_count": 163,
   "metadata": {},
   "outputs": [
    {
     "data": {
      "text/plain": [
       "4.6999181006119966e-05"
      ]
     },
     "execution_count": 163,
     "metadata": {},
     "output_type": "execute_result"
    }
   ],
   "source": [
    "np.exp(df_logp['EP300']['ROCK2'])"
   ]
  },
  {
   "cell_type": "code",
   "execution_count": 165,
   "metadata": {},
   "outputs": [],
   "source": [
    "ronly = indra_only_df[indra_only_df['reading_only'] == True].sort_values(by='max_belief', ascending=False)"
   ]
  },
  {
   "cell_type": "code",
   "execution_count": 166,
   "metadata": {},
   "outputs": [
    {
     "data": {
      "text/plain": [
       "(2917, 2)"
      ]
     },
     "execution_count": 166,
     "metadata": {},
     "output_type": "execute_result"
    }
   ],
   "source": [
    "ronly.shape"
   ]
  },
  {
   "cell_type": "code",
   "execution_count": 168,
   "metadata": {},
   "outputs": [
    {
     "data": {
      "text/html": [
       "<div>\n",
       "<style scoped>\n",
       "    .dataframe tbody tr th:only-of-type {\n",
       "        vertical-align: middle;\n",
       "    }\n",
       "\n",
       "    .dataframe tbody tr th {\n",
       "        vertical-align: top;\n",
       "    }\n",
       "\n",
       "    .dataframe thead th {\n",
       "        text-align: right;\n",
       "    }\n",
       "</style>\n",
       "<table border=\"1\" class=\"dataframe\">\n",
       "  <thead>\n",
       "    <tr style=\"text-align: right;\">\n",
       "      <th></th>\n",
       "      <th></th>\n",
       "      <th>reading_only</th>\n",
       "      <th>max_belief</th>\n",
       "    </tr>\n",
       "    <tr>\n",
       "      <th>geneA</th>\n",
       "      <th>geneB</th>\n",
       "      <th></th>\n",
       "      <th></th>\n",
       "    </tr>\n",
       "  </thead>\n",
       "  <tbody>\n",
       "    <tr>\n",
       "      <th>GRK2</th>\n",
       "      <th>PDGFRB</th>\n",
       "      <td>True</td>\n",
       "      <td>0.998432</td>\n",
       "    </tr>\n",
       "    <tr>\n",
       "      <th>EP300</th>\n",
       "      <th>ROCK2</th>\n",
       "      <td>True</td>\n",
       "      <td>0.996562</td>\n",
       "    </tr>\n",
       "    <tr>\n",
       "      <th>CTNNB1</th>\n",
       "      <th>TLR4</th>\n",
       "      <td>True</td>\n",
       "      <td>0.994793</td>\n",
       "    </tr>\n",
       "    <tr>\n",
       "      <th>ATM</th>\n",
       "      <th>BCL10</th>\n",
       "      <td>True</td>\n",
       "      <td>0.993874</td>\n",
       "    </tr>\n",
       "    <tr>\n",
       "      <th>ERBIN</th>\n",
       "      <th>MYB</th>\n",
       "      <td>True</td>\n",
       "      <td>0.987832</td>\n",
       "    </tr>\n",
       "    <tr>\n",
       "      <th>ARF6</th>\n",
       "      <th>DNM2</th>\n",
       "      <td>True</td>\n",
       "      <td>0.981983</td>\n",
       "    </tr>\n",
       "    <tr>\n",
       "      <th>BAX</th>\n",
       "      <th>RB1</th>\n",
       "      <td>True</td>\n",
       "      <td>0.981273</td>\n",
       "    </tr>\n",
       "    <tr>\n",
       "      <th>BAG2</th>\n",
       "      <th>TP53</th>\n",
       "      <td>True</td>\n",
       "      <td>0.980559</td>\n",
       "    </tr>\n",
       "    <tr>\n",
       "      <th>DYRK1A</th>\n",
       "      <th>SIRT1</th>\n",
       "      <td>True</td>\n",
       "      <td>0.978196</td>\n",
       "    </tr>\n",
       "    <tr>\n",
       "      <th>NOP53</th>\n",
       "      <th>NPM1</th>\n",
       "      <td>True</td>\n",
       "      <td>0.978000</td>\n",
       "    </tr>\n",
       "    <tr>\n",
       "      <th>EPPIN</th>\n",
       "      <th>SEMG1</th>\n",
       "      <td>True</td>\n",
       "      <td>0.977904</td>\n",
       "    </tr>\n",
       "    <tr>\n",
       "      <th>ERBB2</th>\n",
       "      <th>HSF1</th>\n",
       "      <td>True</td>\n",
       "      <td>0.976355</td>\n",
       "    </tr>\n",
       "    <tr>\n",
       "      <th>RHOB</th>\n",
       "      <th>TNF</th>\n",
       "      <td>True</td>\n",
       "      <td>0.972097</td>\n",
       "    </tr>\n",
       "    <tr>\n",
       "      <th>CDKN1A</th>\n",
       "      <th>ZBTB4</th>\n",
       "      <td>True</td>\n",
       "      <td>0.968086</td>\n",
       "    </tr>\n",
       "    <tr>\n",
       "      <th>GRK4</th>\n",
       "      <th>MYC</th>\n",
       "      <td>True</td>\n",
       "      <td>0.965775</td>\n",
       "    </tr>\n",
       "    <tr>\n",
       "      <th>HDAC5</th>\n",
       "      <th>KLF2</th>\n",
       "      <td>True</td>\n",
       "      <td>0.958580</td>\n",
       "    </tr>\n",
       "    <tr>\n",
       "      <th>CDT1</th>\n",
       "      <th>KAT7</th>\n",
       "      <td>True</td>\n",
       "      <td>0.955338</td>\n",
       "    </tr>\n",
       "    <tr>\n",
       "      <th>DNAJA3</th>\n",
       "      <th>TP53</th>\n",
       "      <td>True</td>\n",
       "      <td>0.951835</td>\n",
       "    </tr>\n",
       "    <tr>\n",
       "      <th>LGALS3</th>\n",
       "      <th>PTK2</th>\n",
       "      <td>True</td>\n",
       "      <td>0.950673</td>\n",
       "    </tr>\n",
       "    <tr>\n",
       "      <th>PARK7</th>\n",
       "      <th>SLC6A3</th>\n",
       "      <td>True</td>\n",
       "      <td>0.948514</td>\n",
       "    </tr>\n",
       "    <tr>\n",
       "      <th>PTK2B</th>\n",
       "      <th>TERT</th>\n",
       "      <td>True</td>\n",
       "      <td>0.947744</td>\n",
       "    </tr>\n",
       "    <tr>\n",
       "      <th>MDM2</th>\n",
       "      <th>TTF1</th>\n",
       "      <td>True</td>\n",
       "      <td>0.947283</td>\n",
       "    </tr>\n",
       "    <tr>\n",
       "      <th>EGF</th>\n",
       "      <th>SFTPD</th>\n",
       "      <td>True</td>\n",
       "      <td>0.946002</td>\n",
       "    </tr>\n",
       "    <tr>\n",
       "      <th>BCL6</th>\n",
       "      <th>MEF2B</th>\n",
       "      <td>True</td>\n",
       "      <td>0.945205</td>\n",
       "    </tr>\n",
       "    <tr>\n",
       "      <th>AURKB</th>\n",
       "      <th>ZWINT</th>\n",
       "      <td>True</td>\n",
       "      <td>0.945108</td>\n",
       "    </tr>\n",
       "    <tr>\n",
       "      <th>AIP</th>\n",
       "      <th>GSK3B</th>\n",
       "      <td>True</td>\n",
       "      <td>0.941858</td>\n",
       "    </tr>\n",
       "    <tr>\n",
       "      <th>LEP</th>\n",
       "      <th>STAT1</th>\n",
       "      <td>True</td>\n",
       "      <td>0.941855</td>\n",
       "    </tr>\n",
       "    <tr>\n",
       "      <th>RHOA</th>\n",
       "      <th>SELP</th>\n",
       "      <td>True</td>\n",
       "      <td>0.937647</td>\n",
       "    </tr>\n",
       "    <tr>\n",
       "      <th>FOXD3</th>\n",
       "      <th>PAX3</th>\n",
       "      <td>True</td>\n",
       "      <td>0.936972</td>\n",
       "    </tr>\n",
       "    <tr>\n",
       "      <th>LMX1A</th>\n",
       "      <th>WNT1</th>\n",
       "      <td>True</td>\n",
       "      <td>0.936972</td>\n",
       "    </tr>\n",
       "    <tr>\n",
       "      <th>CDH2</th>\n",
       "      <th>SOX4</th>\n",
       "      <td>True</td>\n",
       "      <td>0.936972</td>\n",
       "    </tr>\n",
       "    <tr>\n",
       "      <th>EP300</th>\n",
       "      <th>PSMD10</th>\n",
       "      <td>True</td>\n",
       "      <td>0.935116</td>\n",
       "    </tr>\n",
       "    <tr>\n",
       "      <th>CAPNS1</th>\n",
       "      <th>LAMTOR5</th>\n",
       "      <td>True</td>\n",
       "      <td>0.933357</td>\n",
       "    </tr>\n",
       "    <tr>\n",
       "      <th>AURKA</th>\n",
       "      <th>CEP192</th>\n",
       "      <td>True</td>\n",
       "      <td>0.932543</td>\n",
       "    </tr>\n",
       "    <tr>\n",
       "      <th>ANXA2</th>\n",
       "      <th>S100A11</th>\n",
       "      <td>True</td>\n",
       "      <td>0.929938</td>\n",
       "    </tr>\n",
       "    <tr>\n",
       "      <th>KANK1</th>\n",
       "      <th>RAC1</th>\n",
       "      <td>True</td>\n",
       "      <td>0.928417</td>\n",
       "    </tr>\n",
       "    <tr>\n",
       "      <th>LGALS3</th>\n",
       "      <th>TP53</th>\n",
       "      <td>True</td>\n",
       "      <td>0.927915</td>\n",
       "    </tr>\n",
       "    <tr>\n",
       "      <th>MEN1</th>\n",
       "      <th>SUV39H1</th>\n",
       "      <td>True</td>\n",
       "      <td>0.927610</td>\n",
       "    </tr>\n",
       "    <tr>\n",
       "      <th>GLI1</th>\n",
       "      <th>TP53</th>\n",
       "      <td>True</td>\n",
       "      <td>0.923822</td>\n",
       "    </tr>\n",
       "    <tr>\n",
       "      <th>NGF</th>\n",
       "      <th>RUSC1</th>\n",
       "      <td>True</td>\n",
       "      <td>0.923477</td>\n",
       "    </tr>\n",
       "    <tr>\n",
       "      <th>GRB2</th>\n",
       "      <th>PTPN23</th>\n",
       "      <td>True</td>\n",
       "      <td>0.920683</td>\n",
       "    </tr>\n",
       "    <tr>\n",
       "      <th>EZR</th>\n",
       "      <th>RAC1</th>\n",
       "      <td>True</td>\n",
       "      <td>0.920503</td>\n",
       "    </tr>\n",
       "    <tr>\n",
       "      <th>PKN1</th>\n",
       "      <th>TRAF1</th>\n",
       "      <td>True</td>\n",
       "      <td>0.918323</td>\n",
       "    </tr>\n",
       "    <tr>\n",
       "      <th>EGFR</th>\n",
       "      <th>TYMS</th>\n",
       "      <td>True</td>\n",
       "      <td>0.913417</td>\n",
       "    </tr>\n",
       "    <tr>\n",
       "      <th>AR</th>\n",
       "      <th>MYB</th>\n",
       "      <td>True</td>\n",
       "      <td>0.912904</td>\n",
       "    </tr>\n",
       "    <tr>\n",
       "      <th>PDPK1</th>\n",
       "      <th>VEGFA</th>\n",
       "      <td>True</td>\n",
       "      <td>0.912345</td>\n",
       "    </tr>\n",
       "    <tr>\n",
       "      <th>KAT2B</th>\n",
       "      <th>TNF</th>\n",
       "      <td>True</td>\n",
       "      <td>0.911555</td>\n",
       "    </tr>\n",
       "    <tr>\n",
       "      <th>AURKA</th>\n",
       "      <th>HMMR</th>\n",
       "      <td>True</td>\n",
       "      <td>0.910979</td>\n",
       "    </tr>\n",
       "    <tr>\n",
       "      <th>MAD2L1</th>\n",
       "      <th>SMURF2</th>\n",
       "      <td>True</td>\n",
       "      <td>0.909146</td>\n",
       "    </tr>\n",
       "    <tr>\n",
       "      <th>KMT2A</th>\n",
       "      <th>MYB</th>\n",
       "      <td>True</td>\n",
       "      <td>0.906447</td>\n",
       "    </tr>\n",
       "  </tbody>\n",
       "</table>\n",
       "</div>"
      ],
      "text/plain": [
       "                reading_only  max_belief\n",
       "geneA  geneB                            \n",
       "GRK2   PDGFRB           True    0.998432\n",
       "EP300  ROCK2            True    0.996562\n",
       "CTNNB1 TLR4             True    0.994793\n",
       "ATM    BCL10            True    0.993874\n",
       "ERBIN  MYB              True    0.987832\n",
       "ARF6   DNM2             True    0.981983\n",
       "BAX    RB1              True    0.981273\n",
       "BAG2   TP53             True    0.980559\n",
       "DYRK1A SIRT1            True    0.978196\n",
       "NOP53  NPM1             True    0.978000\n",
       "EPPIN  SEMG1            True    0.977904\n",
       "ERBB2  HSF1             True    0.976355\n",
       "RHOB   TNF              True    0.972097\n",
       "CDKN1A ZBTB4            True    0.968086\n",
       "GRK4   MYC              True    0.965775\n",
       "HDAC5  KLF2             True    0.958580\n",
       "CDT1   KAT7             True    0.955338\n",
       "DNAJA3 TP53             True    0.951835\n",
       "LGALS3 PTK2             True    0.950673\n",
       "PARK7  SLC6A3           True    0.948514\n",
       "PTK2B  TERT             True    0.947744\n",
       "MDM2   TTF1             True    0.947283\n",
       "EGF    SFTPD            True    0.946002\n",
       "BCL6   MEF2B            True    0.945205\n",
       "AURKB  ZWINT            True    0.945108\n",
       "AIP    GSK3B            True    0.941858\n",
       "LEP    STAT1            True    0.941855\n",
       "RHOA   SELP             True    0.937647\n",
       "FOXD3  PAX3             True    0.936972\n",
       "LMX1A  WNT1             True    0.936972\n",
       "CDH2   SOX4             True    0.936972\n",
       "EP300  PSMD10           True    0.935116\n",
       "CAPNS1 LAMTOR5          True    0.933357\n",
       "AURKA  CEP192           True    0.932543\n",
       "ANXA2  S100A11          True    0.929938\n",
       "KANK1  RAC1             True    0.928417\n",
       "LGALS3 TP53             True    0.927915\n",
       "MEN1   SUV39H1          True    0.927610\n",
       "GLI1   TP53             True    0.923822\n",
       "NGF    RUSC1            True    0.923477\n",
       "GRB2   PTPN23           True    0.920683\n",
       "EZR    RAC1             True    0.920503\n",
       "PKN1   TRAF1            True    0.918323\n",
       "EGFR   TYMS             True    0.913417\n",
       "AR     MYB              True    0.912904\n",
       "PDPK1  VEGFA            True    0.912345\n",
       "KAT2B  TNF              True    0.911555\n",
       "AURKA  HMMR             True    0.910979\n",
       "MAD2L1 SMURF2           True    0.909146\n",
       "KMT2A  MYB              True    0.906447"
      ]
     },
     "execution_count": 168,
     "metadata": {},
     "output_type": "execute_result"
    }
   ],
   "source": [
    "ronly[0:50]"
   ]
  },
  {
   "cell_type": "markdown",
   "metadata": {},
   "source": [
    "## Check the correlation level of INDRA-only explanations"
   ]
  },
  {
   "cell_type": "code",
   "execution_count": 52,
   "metadata": {},
   "outputs": [],
   "source": [
    "depmap_basedir = '/Users/johnbachman/Dropbox/1johndata/Knowledge File/Biology/Research/Big Mechanism' \\\n",
    "                 '/datasets/depmap_analysis/depmap/21q1'\n",
    "corr_file = join(depmap_basedir, 'crispr_correlations.h5')\n",
    "corr_df = pd.read_hdf(corr_file)"
   ]
  },
  {
   "cell_type": "code",
   "execution_count": null,
   "metadata": {},
   "outputs": [],
   "source": [
    "def make_corr_df_from_gene_pairs(gene_pairs, corr_df):\n",
    "    rows = []\n",
    "    for geneA, geneB in gene_pairs:\n",
    "        corr = corr_df[geneA][geneB]\n",
    "        rows.append((geneA, geneB, corr, abs(corr)))\n",
    "    return pd.DataFrame(rows, columns=['geneA', 'geneB', 'corr', 'abs_corr'])\n",
    "        "
   ]
  },
  {
   "cell_type": "code",
   "execution_count": null,
   "metadata": {},
   "outputs": [],
   "source": [
    "indra_corrs_df = make_corr_df_from_gene_pairs(indra_only_sig, corr_df)"
   ]
  },
  {
   "cell_type": "code",
   "execution_count": null,
   "metadata": {},
   "outputs": [],
   "source": [
    "indra_corrs_df.sort_values(by='abs_corr', ascending=False)"
   ]
  },
  {
   "cell_type": "markdown",
   "metadata": {},
   "source": [
    "## Plotting and summarizing explanation results"
   ]
  },
  {
   "cell_type": "markdown",
   "metadata": {},
   "source": [
    "Next, we load the explainers into memory:"
   ]
  },
  {
   "cell_type": "code",
   "execution_count": 297,
   "metadata": {
    "scrolled": true
   },
   "outputs": [
    {
     "name": "stderr",
     "output_type": "stream",
     "text": [
      "INFO: [2021-05-10 09:07:08] depmap_benchmark - Loading bioexp_depmap_all_norand_6.0_None\n",
      "INFO: [2021-05-10 09:07:09] depmap_benchmark - Loading bioexp_depmap_all_norand_5.5_6.0\n",
      "INFO: [2021-05-10 09:07:09] depmap_benchmark - Loading bioexp_depmap_all_norand_5.0_5.5\n",
      "INFO: [2021-05-10 09:07:09] depmap_benchmark - Loading bioexp_depmap_all_norand_4.5_5.0\n",
      "INFO: [2021-05-10 09:07:09] depmap_benchmark - Loading bioexp_depmap_all_norand_4.0_4.5\n",
      "INFO: [2021-05-10 09:07:09] depmap_benchmark - Loading bioexp_depmap_all_norand_3.5_4.0\n",
      "INFO: [2021-05-10 09:07:09] depmap_benchmark - Loading bioexp_depmap_all_norand_3.0_3.5\n",
      "INFO: [2021-05-10 09:07:10] depmap_benchmark - Loading bioexp_depmap_all_norand_2.5_3.0\n",
      "INFO: [2021-05-10 09:07:11] depmap_benchmark - Loading bioexp_depmap_all_norand_2.0_2.5\n",
      "INFO: [2021-05-10 09:07:12] depmap_benchmark - Loading bioexp_depmap_all_norand_1.5_2.0\n",
      "INFO: [2021-05-10 09:07:15] depmap_benchmark - Loading bioexp_depmap_all_norand_1.0_1.5\n",
      "INFO: [2021-05-10 09:07:17] depmap_benchmark - Loading bioexp_depmap_all_norand_0.5_1.0\n",
      "INFO: [2021-05-10 09:07:18] depmap_benchmark - Loading bioexp_depmap_all_norand_0.0_0.5\n",
      "INFO: [2021-05-10 09:07:20] depmap_benchmark - Loading bioexp_depmap_all_randxswap_6.0_None\n",
      "INFO: [2021-05-10 09:07:20] depmap_benchmark - Loading bioexp_depmap_all_randxswap_5.5_6.0\n",
      "INFO: [2021-05-10 09:07:20] depmap_benchmark - Loading bioexp_depmap_all_randxswap_5.0_5.5\n",
      "INFO: [2021-05-10 09:07:20] depmap_benchmark - Loading bioexp_depmap_all_randxswap_4.5_5.0\n",
      "INFO: [2021-05-10 09:07:20] depmap_benchmark - Loading bioexp_depmap_all_randxswap_4.0_4.5\n",
      "INFO: [2021-05-10 09:07:20] depmap_benchmark - Loading bioexp_depmap_all_randxswap_3.5_4.0\n",
      "INFO: [2021-05-10 09:07:20] depmap_benchmark - Loading bioexp_depmap_all_randxswap_3.0_3.5\n",
      "INFO: [2021-05-10 09:07:20] depmap_benchmark - Loading bioexp_depmap_all_randxswap_2.5_3.0\n",
      "INFO: [2021-05-10 09:07:20] depmap_benchmark - Loading bioexp_depmap_all_randxswap_2.0_2.5\n",
      "INFO: [2021-05-10 09:07:21] depmap_benchmark - Loading bioexp_depmap_all_randxswap_1.5_2.0\n",
      "INFO: [2021-05-10 09:07:22] depmap_benchmark - Loading bioexp_depmap_all_randxswap_1.0_1.5\n",
      "INFO: [2021-05-10 09:07:23] depmap_benchmark - Loading bioexp_depmap_all_randxswap_0.5_1.0\n",
      "INFO: [2021-05-10 09:07:24] depmap_benchmark - Loading bioexp_depmap_all_randxswap_0.0_0.5\n",
      "INFO: [2021-05-10 09:07:25] depmap_benchmark - Loading bioexp_depmap_all_randlabels_6.0_None\n",
      "INFO: [2021-05-10 09:07:25] depmap_benchmark - Loading bioexp_depmap_all_randlabels_5.5_6.0\n",
      "INFO: [2021-05-10 09:07:25] depmap_benchmark - Loading bioexp_depmap_all_randlabels_5.0_5.5\n",
      "INFO: [2021-05-10 09:07:25] depmap_benchmark - Loading bioexp_depmap_all_randlabels_4.5_5.0\n",
      "INFO: [2021-05-10 09:07:25] depmap_benchmark - Loading bioexp_depmap_all_randlabels_4.0_4.5\n",
      "INFO: [2021-05-10 09:07:25] depmap_benchmark - Loading bioexp_depmap_all_randlabels_3.5_4.0\n",
      "INFO: [2021-05-10 09:07:25] depmap_benchmark - Loading bioexp_depmap_all_randlabels_3.0_3.5\n",
      "INFO: [2021-05-10 09:07:25] depmap_benchmark - Loading bioexp_depmap_all_randlabels_2.5_3.0\n",
      "INFO: [2021-05-10 09:07:25] depmap_benchmark - Loading bioexp_depmap_all_randlabels_2.0_2.5\n",
      "INFO: [2021-05-10 09:07:26] depmap_benchmark - Loading bioexp_depmap_all_randlabels_1.5_2.0\n",
      "INFO: [2021-05-10 09:07:27] depmap_benchmark - Loading bioexp_depmap_all_randlabels_1.0_1.5\n",
      "INFO: [2021-05-10 09:07:28] depmap_benchmark - Loading bioexp_depmap_all_randlabels_0.5_1.0\n",
      "INFO: [2021-05-10 09:07:29] depmap_benchmark - Loading bioexp_depmap_all_randlabels_0.0_0.5\n",
      "INFO: [2021-05-10 09:07:30] depmap_benchmark - Loading bioexp_depmap_db_norand_6.0_None\n",
      "INFO: [2021-05-10 09:07:30] depmap_benchmark - Loading bioexp_depmap_db_norand_5.5_6.0\n",
      "INFO: [2021-05-10 09:07:30] depmap_benchmark - Loading bioexp_depmap_db_norand_5.0_5.5\n",
      "INFO: [2021-05-10 09:07:30] depmap_benchmark - Loading bioexp_depmap_db_norand_4.5_5.0\n",
      "INFO: [2021-05-10 09:07:30] depmap_benchmark - Loading bioexp_depmap_db_norand_4.0_4.5\n",
      "INFO: [2021-05-10 09:07:30] depmap_benchmark - Loading bioexp_depmap_db_norand_3.5_4.0\n",
      "INFO: [2021-05-10 09:07:31] depmap_benchmark - Loading bioexp_depmap_db_norand_3.0_3.5\n",
      "INFO: [2021-05-10 09:07:31] depmap_benchmark - Loading bioexp_depmap_db_norand_2.5_3.0\n",
      "INFO: [2021-05-10 09:07:31] depmap_benchmark - Loading bioexp_depmap_db_norand_2.0_2.5\n",
      "INFO: [2021-05-10 09:07:32] depmap_benchmark - Loading bioexp_depmap_db_norand_1.5_2.0\n",
      "INFO: [2021-05-10 09:07:33] depmap_benchmark - Loading bioexp_depmap_db_norand_1.0_1.5\n",
      "INFO: [2021-05-10 09:07:34] depmap_benchmark - Loading bioexp_depmap_db_norand_0.5_1.0\n",
      "INFO: [2021-05-10 09:07:35] depmap_benchmark - Loading bioexp_depmap_db_norand_0.0_0.5\n",
      "INFO: [2021-05-10 09:07:36] depmap_benchmark - Loading bioexp_depmap_db_randxswap_6.0_None\n",
      "INFO: [2021-05-10 09:07:36] depmap_benchmark - Loading bioexp_depmap_db_randxswap_5.5_6.0\n",
      "INFO: [2021-05-10 09:07:36] depmap_benchmark - Loading bioexp_depmap_db_randxswap_5.0_5.5\n",
      "INFO: [2021-05-10 09:07:36] depmap_benchmark - Loading bioexp_depmap_db_randxswap_4.5_5.0\n",
      "INFO: [2021-05-10 09:07:36] depmap_benchmark - Loading bioexp_depmap_db_randxswap_4.0_4.5\n",
      "INFO: [2021-05-10 09:07:36] depmap_benchmark - Loading bioexp_depmap_db_randxswap_3.5_4.0\n",
      "INFO: [2021-05-10 09:07:36] depmap_benchmark - Loading bioexp_depmap_db_randxswap_3.0_3.5\n",
      "INFO: [2021-05-10 09:07:36] depmap_benchmark - Loading bioexp_depmap_db_randxswap_2.5_3.0\n",
      "INFO: [2021-05-10 09:07:36] depmap_benchmark - Loading bioexp_depmap_db_randxswap_2.0_2.5\n",
      "INFO: [2021-05-10 09:07:37] depmap_benchmark - Loading bioexp_depmap_db_randxswap_1.5_2.0\n",
      "INFO: [2021-05-10 09:07:38] depmap_benchmark - Loading bioexp_depmap_db_randxswap_1.0_1.5\n",
      "INFO: [2021-05-10 09:07:39] depmap_benchmark - Loading bioexp_depmap_db_randxswap_0.5_1.0\n",
      "INFO: [2021-05-10 09:07:40] depmap_benchmark - Loading bioexp_depmap_db_randxswap_0.0_0.5\n",
      "INFO: [2021-05-10 09:07:41] depmap_benchmark - Loading bioexp_depmap_db_randlabels_6.0_None\n",
      "INFO: [2021-05-10 09:07:41] depmap_benchmark - Loading bioexp_depmap_db_randlabels_5.5_6.0\n",
      "INFO: [2021-05-10 09:07:41] depmap_benchmark - Loading bioexp_depmap_db_randlabels_5.0_5.5\n",
      "INFO: [2021-05-10 09:07:41] depmap_benchmark - Loading bioexp_depmap_db_randlabels_4.5_5.0\n",
      "INFO: [2021-05-10 09:07:41] depmap_benchmark - Loading bioexp_depmap_db_randlabels_4.0_4.5\n",
      "INFO: [2021-05-10 09:07:41] depmap_benchmark - Loading bioexp_depmap_db_randlabels_3.5_4.0\n",
      "INFO: [2021-05-10 09:07:41] depmap_benchmark - Loading bioexp_depmap_db_randlabels_3.0_3.5\n",
      "INFO: [2021-05-10 09:07:41] depmap_benchmark - Loading bioexp_depmap_db_randlabels_2.5_3.0\n",
      "INFO: [2021-05-10 09:07:42] depmap_benchmark - Loading bioexp_depmap_db_randlabels_2.0_2.5\n",
      "INFO: [2021-05-10 09:07:42] depmap_benchmark - Loading bioexp_depmap_db_randlabels_1.5_2.0\n",
      "INFO: [2021-05-10 09:07:44] depmap_benchmark - Loading bioexp_depmap_db_randlabels_1.0_1.5\n",
      "INFO: [2021-05-10 09:07:45] depmap_benchmark - Loading bioexp_depmap_db_randlabels_0.5_1.0\n",
      "INFO: [2021-05-10 09:07:46] depmap_benchmark - Loading bioexp_depmap_db_randlabels_0.0_0.5\n"
     ]
    }
   ],
   "source": [
    "# Load the explainers\n",
    "explainers = {}\n",
    "for expl_key, (inet_file, output_file, count) in expl_meta.items():\n",
    "    logger.info(f'Loading {output_file}')\n",
    "    with open(f'{output_file}.pkl', 'rb') as f:\n",
    "        explainers[expl_key] = pickle.load(f)"
   ]
  },
  {
   "cell_type": "code",
   "execution_count": 298,
   "metadata": {},
   "outputs": [],
   "source": [
    "import mplayer\n",
    "p = mplayer.Player()\n",
    "success_file = '/Users/johnbachman/Downloads/success.m4a'\n",
    "p.loadfile(success_file)"
   ]
  },
  {
   "cell_type": "markdown",
   "metadata": {},
   "source": [
    "And plot the percentage of explained correlations at each bin strength:"
   ]
  },
  {
   "cell_type": "code",
   "execution_count": 299,
   "metadata": {},
   "outputs": [],
   "source": [
    "def _mito(expl):\n",
    "    df = expl.stats_df[(expl.stats_df['apriori_explained'] == True)]\n",
    "    return df\n",
    "\n",
    "def _direct(expl):\n",
    "    df = expl.stats_df[(expl.stats_df['apriori_explained'] != True) &\n",
    "                       ((expl.stats_df['a_b'] == True) |\n",
    "                        (expl.stats_df['b_a'] == True) |\n",
    "                        (expl.stats_df['common_parent'] == True))]\n",
    "    return df\n",
    "\n",
    "def _direct_or_cp(expl):\n",
    "    df = expl.stats_df[(expl.stats_df['apriori_explained'] != True) &\n",
    "                       ((expl.stats_df['a_b'] == True) |\n",
    "                        (expl.stats_df['b_a'] == True) |\n",
    "                        (expl.stats_df['common_parent'] == True))]\n",
    "    return df\n",
    "\n",
    "def _any(expl):\n",
    "    df = expl.stats_df[(expl.stats_df['apriori_explained'] != True) &\n",
    "                       (expl.stats_df['explained'] == True)]\n",
    "    return df\n",
    "\n",
    "\n",
    "def _parent_connection_only(expl):\n",
    "    df = expl.stats_df[(expl.stats_df['apriori_explained'] != True) &\n",
    "                       (expl.stats_df['a_b'] == False) &\n",
    "                       (expl.stats_df['b_a'] == False) &\n",
    "                       (expl.stats_df['common_parent'] == False) &\n",
    "                       (expl.stats_df['parent_connections'] == True)\n",
    "                      ]\n",
    "    return df"
   ]
  },
  {
   "cell_type": "code",
   "execution_count": 300,
   "metadata": {},
   "outputs": [],
   "source": [
    "# Calculate pct explained for each source type/correlation bin\n",
    "def get_expl_plot_data(explainers):\n",
    "    plot_data_raw = {}\n",
    "    corr_bin_ct_dict = {k: v for k, v in corr_bin_counts}\n",
    "    for (source_type, do_rand, corr_lb, corr_ub), explainer in explainers.items():\n",
    "        num_pairs = len(explainer.stats_df)\n",
    "        total_corrs = corr_bin_ct_dict[(corr_lb, corr_ub)]\n",
    "        num_mito = len(_mito(explainer))\n",
    "        num_non_mito = num_pairs - num_mito\n",
    "        if (source_type, do_rand) not in plot_data_raw:\n",
    "            plot_data_raw[(source_type, do_rand)] = []\n",
    "        # Get the number of explained pairs. For DB, we look at direct only.\n",
    "        # For all, we look at direct and common parent (for now)\n",
    "        if source_type == 'all':\n",
    "            expl_df = _any(explainer)\n",
    "            #expl_df = _direct_or_cp(explainer)\n",
    "        else:\n",
    "            expl_df = _direct(explainer)\n",
    "        # Calculate the fraction explained\n",
    "        num_expl = len(expl_df)\n",
    "        #pct_expl = 100 * num_expl / num_pairs\n",
    "        pct_expl = 100 * num_expl / num_non_mito\n",
    "        plot_data_raw[(source_type, do_rand)].append((corr_lb, pct_expl))\n",
    "\n",
    "    # Sort and unzip the data into x/y data for the plot\n",
    "    plot_data = {}\n",
    "    for (source_type, do_rand) in plot_data_raw:    \n",
    "        plot_data_raw[(source_type, do_rand)].sort(key=lambda x: x[0])\n",
    "        xvals, yvals = zip(*plot_data_raw[(source_type, do_rand)])\n",
    "        plot_data[(source_type, do_rand)] = (xvals, yvals)\n",
    "    return plot_data\n",
    "                           \n",
    "plot_data = get_expl_plot_data(explainers)"
   ]
  },
  {
   "cell_type": "code",
   "execution_count": 304,
   "metadata": {},
   "outputs": [
    {
     "data": {
      "application/javascript": [
       "/* Put everything inside the global mpl namespace */\n",
       "/* global mpl */\n",
       "window.mpl = {};\n",
       "\n",
       "mpl.get_websocket_type = function () {\n",
       "    if (typeof WebSocket !== 'undefined') {\n",
       "        return WebSocket;\n",
       "    } else if (typeof MozWebSocket !== 'undefined') {\n",
       "        return MozWebSocket;\n",
       "    } else {\n",
       "        alert(\n",
       "            'Your browser does not have WebSocket support. ' +\n",
       "                'Please try Chrome, Safari or Firefox ≥ 6. ' +\n",
       "                'Firefox 4 and 5 are also supported but you ' +\n",
       "                'have to enable WebSockets in about:config.'\n",
       "        );\n",
       "    }\n",
       "};\n",
       "\n",
       "mpl.figure = function (figure_id, websocket, ondownload, parent_element) {\n",
       "    this.id = figure_id;\n",
       "\n",
       "    this.ws = websocket;\n",
       "\n",
       "    this.supports_binary = this.ws.binaryType !== undefined;\n",
       "\n",
       "    if (!this.supports_binary) {\n",
       "        var warnings = document.getElementById('mpl-warnings');\n",
       "        if (warnings) {\n",
       "            warnings.style.display = 'block';\n",
       "            warnings.textContent =\n",
       "                'This browser does not support binary websocket messages. ' +\n",
       "                'Performance may be slow.';\n",
       "        }\n",
       "    }\n",
       "\n",
       "    this.imageObj = new Image();\n",
       "\n",
       "    this.context = undefined;\n",
       "    this.message = undefined;\n",
       "    this.canvas = undefined;\n",
       "    this.rubberband_canvas = undefined;\n",
       "    this.rubberband_context = undefined;\n",
       "    this.format_dropdown = undefined;\n",
       "\n",
       "    this.image_mode = 'full';\n",
       "\n",
       "    this.root = document.createElement('div');\n",
       "    this.root.setAttribute('style', 'display: inline-block');\n",
       "    this._root_extra_style(this.root);\n",
       "\n",
       "    parent_element.appendChild(this.root);\n",
       "\n",
       "    this._init_header(this);\n",
       "    this._init_canvas(this);\n",
       "    this._init_toolbar(this);\n",
       "\n",
       "    var fig = this;\n",
       "\n",
       "    this.waiting = false;\n",
       "\n",
       "    this.ws.onopen = function () {\n",
       "        fig.send_message('supports_binary', { value: fig.supports_binary });\n",
       "        fig.send_message('send_image_mode', {});\n",
       "        if (fig.ratio !== 1) {\n",
       "            fig.send_message('set_dpi_ratio', { dpi_ratio: fig.ratio });\n",
       "        }\n",
       "        fig.send_message('refresh', {});\n",
       "    };\n",
       "\n",
       "    this.imageObj.onload = function () {\n",
       "        if (fig.image_mode === 'full') {\n",
       "            // Full images could contain transparency (where diff images\n",
       "            // almost always do), so we need to clear the canvas so that\n",
       "            // there is no ghosting.\n",
       "            fig.context.clearRect(0, 0, fig.canvas.width, fig.canvas.height);\n",
       "        }\n",
       "        fig.context.drawImage(fig.imageObj, 0, 0);\n",
       "    };\n",
       "\n",
       "    this.imageObj.onunload = function () {\n",
       "        fig.ws.close();\n",
       "    };\n",
       "\n",
       "    this.ws.onmessage = this._make_on_message_function(this);\n",
       "\n",
       "    this.ondownload = ondownload;\n",
       "};\n",
       "\n",
       "mpl.figure.prototype._init_header = function () {\n",
       "    var titlebar = document.createElement('div');\n",
       "    titlebar.classList =\n",
       "        'ui-dialog-titlebar ui-widget-header ui-corner-all ui-helper-clearfix';\n",
       "    var titletext = document.createElement('div');\n",
       "    titletext.classList = 'ui-dialog-title';\n",
       "    titletext.setAttribute(\n",
       "        'style',\n",
       "        'width: 100%; text-align: center; padding: 3px;'\n",
       "    );\n",
       "    titlebar.appendChild(titletext);\n",
       "    this.root.appendChild(titlebar);\n",
       "    this.header = titletext;\n",
       "};\n",
       "\n",
       "mpl.figure.prototype._canvas_extra_style = function (_canvas_div) {};\n",
       "\n",
       "mpl.figure.prototype._root_extra_style = function (_canvas_div) {};\n",
       "\n",
       "mpl.figure.prototype._init_canvas = function () {\n",
       "    var fig = this;\n",
       "\n",
       "    var canvas_div = (this.canvas_div = document.createElement('div'));\n",
       "    canvas_div.setAttribute(\n",
       "        'style',\n",
       "        'border: 1px solid #ddd;' +\n",
       "            'box-sizing: content-box;' +\n",
       "            'clear: both;' +\n",
       "            'min-height: 1px;' +\n",
       "            'min-width: 1px;' +\n",
       "            'outline: 0;' +\n",
       "            'overflow: hidden;' +\n",
       "            'position: relative;' +\n",
       "            'resize: both;'\n",
       "    );\n",
       "\n",
       "    function on_keyboard_event_closure(name) {\n",
       "        return function (event) {\n",
       "            return fig.key_event(event, name);\n",
       "        };\n",
       "    }\n",
       "\n",
       "    canvas_div.addEventListener(\n",
       "        'keydown',\n",
       "        on_keyboard_event_closure('key_press')\n",
       "    );\n",
       "    canvas_div.addEventListener(\n",
       "        'keyup',\n",
       "        on_keyboard_event_closure('key_release')\n",
       "    );\n",
       "\n",
       "    this._canvas_extra_style(canvas_div);\n",
       "    this.root.appendChild(canvas_div);\n",
       "\n",
       "    var canvas = (this.canvas = document.createElement('canvas'));\n",
       "    canvas.classList.add('mpl-canvas');\n",
       "    canvas.setAttribute('style', 'box-sizing: content-box;');\n",
       "\n",
       "    this.context = canvas.getContext('2d');\n",
       "\n",
       "    var backingStore =\n",
       "        this.context.backingStorePixelRatio ||\n",
       "        this.context.webkitBackingStorePixelRatio ||\n",
       "        this.context.mozBackingStorePixelRatio ||\n",
       "        this.context.msBackingStorePixelRatio ||\n",
       "        this.context.oBackingStorePixelRatio ||\n",
       "        this.context.backingStorePixelRatio ||\n",
       "        1;\n",
       "\n",
       "    this.ratio = (window.devicePixelRatio || 1) / backingStore;\n",
       "    if (this.ratio !== 1) {\n",
       "        fig.send_message('set_dpi_ratio', { dpi_ratio: this.ratio });\n",
       "    }\n",
       "\n",
       "    var rubberband_canvas = (this.rubberband_canvas = document.createElement(\n",
       "        'canvas'\n",
       "    ));\n",
       "    rubberband_canvas.setAttribute(\n",
       "        'style',\n",
       "        'box-sizing: content-box; position: absolute; left: 0; top: 0; z-index: 1;'\n",
       "    );\n",
       "\n",
       "    var resizeObserver = new ResizeObserver(function (entries) {\n",
       "        var nentries = entries.length;\n",
       "        for (var i = 0; i < nentries; i++) {\n",
       "            var entry = entries[i];\n",
       "            var width, height;\n",
       "            if (entry.contentBoxSize) {\n",
       "                if (entry.contentBoxSize instanceof Array) {\n",
       "                    // Chrome 84 implements new version of spec.\n",
       "                    width = entry.contentBoxSize[0].inlineSize;\n",
       "                    height = entry.contentBoxSize[0].blockSize;\n",
       "                } else {\n",
       "                    // Firefox implements old version of spec.\n",
       "                    width = entry.contentBoxSize.inlineSize;\n",
       "                    height = entry.contentBoxSize.blockSize;\n",
       "                }\n",
       "            } else {\n",
       "                // Chrome <84 implements even older version of spec.\n",
       "                width = entry.contentRect.width;\n",
       "                height = entry.contentRect.height;\n",
       "            }\n",
       "\n",
       "            // Keep the size of the canvas and rubber band canvas in sync with\n",
       "            // the canvas container.\n",
       "            if (entry.devicePixelContentBoxSize) {\n",
       "                // Chrome 84 implements new version of spec.\n",
       "                canvas.setAttribute(\n",
       "                    'width',\n",
       "                    entry.devicePixelContentBoxSize[0].inlineSize\n",
       "                );\n",
       "                canvas.setAttribute(\n",
       "                    'height',\n",
       "                    entry.devicePixelContentBoxSize[0].blockSize\n",
       "                );\n",
       "            } else {\n",
       "                canvas.setAttribute('width', width * fig.ratio);\n",
       "                canvas.setAttribute('height', height * fig.ratio);\n",
       "            }\n",
       "            canvas.setAttribute(\n",
       "                'style',\n",
       "                'width: ' + width + 'px; height: ' + height + 'px;'\n",
       "            );\n",
       "\n",
       "            rubberband_canvas.setAttribute('width', width);\n",
       "            rubberband_canvas.setAttribute('height', height);\n",
       "\n",
       "            // And update the size in Python. We ignore the initial 0/0 size\n",
       "            // that occurs as the element is placed into the DOM, which should\n",
       "            // otherwise not happen due to the minimum size styling.\n",
       "            if (width != 0 && height != 0) {\n",
       "                fig.request_resize(width, height);\n",
       "            }\n",
       "        }\n",
       "    });\n",
       "    resizeObserver.observe(canvas_div);\n",
       "\n",
       "    function on_mouse_event_closure(name) {\n",
       "        return function (event) {\n",
       "            return fig.mouse_event(event, name);\n",
       "        };\n",
       "    }\n",
       "\n",
       "    rubberband_canvas.addEventListener(\n",
       "        'mousedown',\n",
       "        on_mouse_event_closure('button_press')\n",
       "    );\n",
       "    rubberband_canvas.addEventListener(\n",
       "        'mouseup',\n",
       "        on_mouse_event_closure('button_release')\n",
       "    );\n",
       "    // Throttle sequential mouse events to 1 every 20ms.\n",
       "    rubberband_canvas.addEventListener(\n",
       "        'mousemove',\n",
       "        on_mouse_event_closure('motion_notify')\n",
       "    );\n",
       "\n",
       "    rubberband_canvas.addEventListener(\n",
       "        'mouseenter',\n",
       "        on_mouse_event_closure('figure_enter')\n",
       "    );\n",
       "    rubberband_canvas.addEventListener(\n",
       "        'mouseleave',\n",
       "        on_mouse_event_closure('figure_leave')\n",
       "    );\n",
       "\n",
       "    canvas_div.addEventListener('wheel', function (event) {\n",
       "        if (event.deltaY < 0) {\n",
       "            event.step = 1;\n",
       "        } else {\n",
       "            event.step = -1;\n",
       "        }\n",
       "        on_mouse_event_closure('scroll')(event);\n",
       "    });\n",
       "\n",
       "    canvas_div.appendChild(canvas);\n",
       "    canvas_div.appendChild(rubberband_canvas);\n",
       "\n",
       "    this.rubberband_context = rubberband_canvas.getContext('2d');\n",
       "    this.rubberband_context.strokeStyle = '#000000';\n",
       "\n",
       "    this._resize_canvas = function (width, height, forward) {\n",
       "        if (forward) {\n",
       "            canvas_div.style.width = width + 'px';\n",
       "            canvas_div.style.height = height + 'px';\n",
       "        }\n",
       "    };\n",
       "\n",
       "    // Disable right mouse context menu.\n",
       "    this.rubberband_canvas.addEventListener('contextmenu', function (_e) {\n",
       "        event.preventDefault();\n",
       "        return false;\n",
       "    });\n",
       "\n",
       "    function set_focus() {\n",
       "        canvas.focus();\n",
       "        canvas_div.focus();\n",
       "    }\n",
       "\n",
       "    window.setTimeout(set_focus, 100);\n",
       "};\n",
       "\n",
       "mpl.figure.prototype._init_toolbar = function () {\n",
       "    var fig = this;\n",
       "\n",
       "    var toolbar = document.createElement('div');\n",
       "    toolbar.classList = 'mpl-toolbar';\n",
       "    this.root.appendChild(toolbar);\n",
       "\n",
       "    function on_click_closure(name) {\n",
       "        return function (_event) {\n",
       "            return fig.toolbar_button_onclick(name);\n",
       "        };\n",
       "    }\n",
       "\n",
       "    function on_mouseover_closure(tooltip) {\n",
       "        return function (event) {\n",
       "            if (!event.currentTarget.disabled) {\n",
       "                return fig.toolbar_button_onmouseover(tooltip);\n",
       "            }\n",
       "        };\n",
       "    }\n",
       "\n",
       "    fig.buttons = {};\n",
       "    var buttonGroup = document.createElement('div');\n",
       "    buttonGroup.classList = 'mpl-button-group';\n",
       "    for (var toolbar_ind in mpl.toolbar_items) {\n",
       "        var name = mpl.toolbar_items[toolbar_ind][0];\n",
       "        var tooltip = mpl.toolbar_items[toolbar_ind][1];\n",
       "        var image = mpl.toolbar_items[toolbar_ind][2];\n",
       "        var method_name = mpl.toolbar_items[toolbar_ind][3];\n",
       "\n",
       "        if (!name) {\n",
       "            /* Instead of a spacer, we start a new button group. */\n",
       "            if (buttonGroup.hasChildNodes()) {\n",
       "                toolbar.appendChild(buttonGroup);\n",
       "            }\n",
       "            buttonGroup = document.createElement('div');\n",
       "            buttonGroup.classList = 'mpl-button-group';\n",
       "            continue;\n",
       "        }\n",
       "\n",
       "        var button = (fig.buttons[name] = document.createElement('button'));\n",
       "        button.classList = 'mpl-widget';\n",
       "        button.setAttribute('role', 'button');\n",
       "        button.setAttribute('aria-disabled', 'false');\n",
       "        button.addEventListener('click', on_click_closure(method_name));\n",
       "        button.addEventListener('mouseover', on_mouseover_closure(tooltip));\n",
       "\n",
       "        var icon_img = document.createElement('img');\n",
       "        icon_img.src = '_images/' + image + '.png';\n",
       "        icon_img.srcset = '_images/' + image + '_large.png 2x';\n",
       "        icon_img.alt = tooltip;\n",
       "        button.appendChild(icon_img);\n",
       "\n",
       "        buttonGroup.appendChild(button);\n",
       "    }\n",
       "\n",
       "    if (buttonGroup.hasChildNodes()) {\n",
       "        toolbar.appendChild(buttonGroup);\n",
       "    }\n",
       "\n",
       "    var fmt_picker = document.createElement('select');\n",
       "    fmt_picker.classList = 'mpl-widget';\n",
       "    toolbar.appendChild(fmt_picker);\n",
       "    this.format_dropdown = fmt_picker;\n",
       "\n",
       "    for (var ind in mpl.extensions) {\n",
       "        var fmt = mpl.extensions[ind];\n",
       "        var option = document.createElement('option');\n",
       "        option.selected = fmt === mpl.default_extension;\n",
       "        option.innerHTML = fmt;\n",
       "        fmt_picker.appendChild(option);\n",
       "    }\n",
       "\n",
       "    var status_bar = document.createElement('span');\n",
       "    status_bar.classList = 'mpl-message';\n",
       "    toolbar.appendChild(status_bar);\n",
       "    this.message = status_bar;\n",
       "};\n",
       "\n",
       "mpl.figure.prototype.request_resize = function (x_pixels, y_pixels) {\n",
       "    // Request matplotlib to resize the figure. Matplotlib will then trigger a resize in the client,\n",
       "    // which will in turn request a refresh of the image.\n",
       "    this.send_message('resize', { width: x_pixels, height: y_pixels });\n",
       "};\n",
       "\n",
       "mpl.figure.prototype.send_message = function (type, properties) {\n",
       "    properties['type'] = type;\n",
       "    properties['figure_id'] = this.id;\n",
       "    this.ws.send(JSON.stringify(properties));\n",
       "};\n",
       "\n",
       "mpl.figure.prototype.send_draw_message = function () {\n",
       "    if (!this.waiting) {\n",
       "        this.waiting = true;\n",
       "        this.ws.send(JSON.stringify({ type: 'draw', figure_id: this.id }));\n",
       "    }\n",
       "};\n",
       "\n",
       "mpl.figure.prototype.handle_save = function (fig, _msg) {\n",
       "    var format_dropdown = fig.format_dropdown;\n",
       "    var format = format_dropdown.options[format_dropdown.selectedIndex].value;\n",
       "    fig.ondownload(fig, format);\n",
       "};\n",
       "\n",
       "mpl.figure.prototype.handle_resize = function (fig, msg) {\n",
       "    var size = msg['size'];\n",
       "    if (size[0] !== fig.canvas.width || size[1] !== fig.canvas.height) {\n",
       "        fig._resize_canvas(size[0], size[1], msg['forward']);\n",
       "        fig.send_message('refresh', {});\n",
       "    }\n",
       "};\n",
       "\n",
       "mpl.figure.prototype.handle_rubberband = function (fig, msg) {\n",
       "    var x0 = msg['x0'] / fig.ratio;\n",
       "    var y0 = (fig.canvas.height - msg['y0']) / fig.ratio;\n",
       "    var x1 = msg['x1'] / fig.ratio;\n",
       "    var y1 = (fig.canvas.height - msg['y1']) / fig.ratio;\n",
       "    x0 = Math.floor(x0) + 0.5;\n",
       "    y0 = Math.floor(y0) + 0.5;\n",
       "    x1 = Math.floor(x1) + 0.5;\n",
       "    y1 = Math.floor(y1) + 0.5;\n",
       "    var min_x = Math.min(x0, x1);\n",
       "    var min_y = Math.min(y0, y1);\n",
       "    var width = Math.abs(x1 - x0);\n",
       "    var height = Math.abs(y1 - y0);\n",
       "\n",
       "    fig.rubberband_context.clearRect(\n",
       "        0,\n",
       "        0,\n",
       "        fig.canvas.width / fig.ratio,\n",
       "        fig.canvas.height / fig.ratio\n",
       "    );\n",
       "\n",
       "    fig.rubberband_context.strokeRect(min_x, min_y, width, height);\n",
       "};\n",
       "\n",
       "mpl.figure.prototype.handle_figure_label = function (fig, msg) {\n",
       "    // Updates the figure title.\n",
       "    fig.header.textContent = msg['label'];\n",
       "};\n",
       "\n",
       "mpl.figure.prototype.handle_cursor = function (fig, msg) {\n",
       "    var cursor = msg['cursor'];\n",
       "    switch (cursor) {\n",
       "        case 0:\n",
       "            cursor = 'pointer';\n",
       "            break;\n",
       "        case 1:\n",
       "            cursor = 'default';\n",
       "            break;\n",
       "        case 2:\n",
       "            cursor = 'crosshair';\n",
       "            break;\n",
       "        case 3:\n",
       "            cursor = 'move';\n",
       "            break;\n",
       "    }\n",
       "    fig.rubberband_canvas.style.cursor = cursor;\n",
       "};\n",
       "\n",
       "mpl.figure.prototype.handle_message = function (fig, msg) {\n",
       "    fig.message.textContent = msg['message'];\n",
       "};\n",
       "\n",
       "mpl.figure.prototype.handle_draw = function (fig, _msg) {\n",
       "    // Request the server to send over a new figure.\n",
       "    fig.send_draw_message();\n",
       "};\n",
       "\n",
       "mpl.figure.prototype.handle_image_mode = function (fig, msg) {\n",
       "    fig.image_mode = msg['mode'];\n",
       "};\n",
       "\n",
       "mpl.figure.prototype.handle_history_buttons = function (fig, msg) {\n",
       "    for (var key in msg) {\n",
       "        if (!(key in fig.buttons)) {\n",
       "            continue;\n",
       "        }\n",
       "        fig.buttons[key].disabled = !msg[key];\n",
       "        fig.buttons[key].setAttribute('aria-disabled', !msg[key]);\n",
       "    }\n",
       "};\n",
       "\n",
       "mpl.figure.prototype.handle_navigate_mode = function (fig, msg) {\n",
       "    if (msg['mode'] === 'PAN') {\n",
       "        fig.buttons['Pan'].classList.add('active');\n",
       "        fig.buttons['Zoom'].classList.remove('active');\n",
       "    } else if (msg['mode'] === 'ZOOM') {\n",
       "        fig.buttons['Pan'].classList.remove('active');\n",
       "        fig.buttons['Zoom'].classList.add('active');\n",
       "    } else {\n",
       "        fig.buttons['Pan'].classList.remove('active');\n",
       "        fig.buttons['Zoom'].classList.remove('active');\n",
       "    }\n",
       "};\n",
       "\n",
       "mpl.figure.prototype.updated_canvas_event = function () {\n",
       "    // Called whenever the canvas gets updated.\n",
       "    this.send_message('ack', {});\n",
       "};\n",
       "\n",
       "// A function to construct a web socket function for onmessage handling.\n",
       "// Called in the figure constructor.\n",
       "mpl.figure.prototype._make_on_message_function = function (fig) {\n",
       "    return function socket_on_message(evt) {\n",
       "        if (evt.data instanceof Blob) {\n",
       "            /* FIXME: We get \"Resource interpreted as Image but\n",
       "             * transferred with MIME type text/plain:\" errors on\n",
       "             * Chrome.  But how to set the MIME type?  It doesn't seem\n",
       "             * to be part of the websocket stream */\n",
       "            evt.data.type = 'image/png';\n",
       "\n",
       "            /* Free the memory for the previous frames */\n",
       "            if (fig.imageObj.src) {\n",
       "                (window.URL || window.webkitURL).revokeObjectURL(\n",
       "                    fig.imageObj.src\n",
       "                );\n",
       "            }\n",
       "\n",
       "            fig.imageObj.src = (window.URL || window.webkitURL).createObjectURL(\n",
       "                evt.data\n",
       "            );\n",
       "            fig.updated_canvas_event();\n",
       "            fig.waiting = false;\n",
       "            return;\n",
       "        } else if (\n",
       "            typeof evt.data === 'string' &&\n",
       "            evt.data.slice(0, 21) === 'data:image/png;base64'\n",
       "        ) {\n",
       "            fig.imageObj.src = evt.data;\n",
       "            fig.updated_canvas_event();\n",
       "            fig.waiting = false;\n",
       "            return;\n",
       "        }\n",
       "\n",
       "        var msg = JSON.parse(evt.data);\n",
       "        var msg_type = msg['type'];\n",
       "\n",
       "        // Call the  \"handle_{type}\" callback, which takes\n",
       "        // the figure and JSON message as its only arguments.\n",
       "        try {\n",
       "            var callback = fig['handle_' + msg_type];\n",
       "        } catch (e) {\n",
       "            console.log(\n",
       "                \"No handler for the '\" + msg_type + \"' message type: \",\n",
       "                msg\n",
       "            );\n",
       "            return;\n",
       "        }\n",
       "\n",
       "        if (callback) {\n",
       "            try {\n",
       "                // console.log(\"Handling '\" + msg_type + \"' message: \", msg);\n",
       "                callback(fig, msg);\n",
       "            } catch (e) {\n",
       "                console.log(\n",
       "                    \"Exception inside the 'handler_\" + msg_type + \"' callback:\",\n",
       "                    e,\n",
       "                    e.stack,\n",
       "                    msg\n",
       "                );\n",
       "            }\n",
       "        }\n",
       "    };\n",
       "};\n",
       "\n",
       "// from http://stackoverflow.com/questions/1114465/getting-mouse-location-in-canvas\n",
       "mpl.findpos = function (e) {\n",
       "    //this section is from http://www.quirksmode.org/js/events_properties.html\n",
       "    var targ;\n",
       "    if (!e) {\n",
       "        e = window.event;\n",
       "    }\n",
       "    if (e.target) {\n",
       "        targ = e.target;\n",
       "    } else if (e.srcElement) {\n",
       "        targ = e.srcElement;\n",
       "    }\n",
       "    if (targ.nodeType === 3) {\n",
       "        // defeat Safari bug\n",
       "        targ = targ.parentNode;\n",
       "    }\n",
       "\n",
       "    // pageX,Y are the mouse positions relative to the document\n",
       "    var boundingRect = targ.getBoundingClientRect();\n",
       "    var x = e.pageX - (boundingRect.left + document.body.scrollLeft);\n",
       "    var y = e.pageY - (boundingRect.top + document.body.scrollTop);\n",
       "\n",
       "    return { x: x, y: y };\n",
       "};\n",
       "\n",
       "/*\n",
       " * return a copy of an object with only non-object keys\n",
       " * we need this to avoid circular references\n",
       " * http://stackoverflow.com/a/24161582/3208463\n",
       " */\n",
       "function simpleKeys(original) {\n",
       "    return Object.keys(original).reduce(function (obj, key) {\n",
       "        if (typeof original[key] !== 'object') {\n",
       "            obj[key] = original[key];\n",
       "        }\n",
       "        return obj;\n",
       "    }, {});\n",
       "}\n",
       "\n",
       "mpl.figure.prototype.mouse_event = function (event, name) {\n",
       "    var canvas_pos = mpl.findpos(event);\n",
       "\n",
       "    if (name === 'button_press') {\n",
       "        this.canvas.focus();\n",
       "        this.canvas_div.focus();\n",
       "    }\n",
       "\n",
       "    var x = canvas_pos.x * this.ratio;\n",
       "    var y = canvas_pos.y * this.ratio;\n",
       "\n",
       "    this.send_message(name, {\n",
       "        x: x,\n",
       "        y: y,\n",
       "        button: event.button,\n",
       "        step: event.step,\n",
       "        guiEvent: simpleKeys(event),\n",
       "    });\n",
       "\n",
       "    /* This prevents the web browser from automatically changing to\n",
       "     * the text insertion cursor when the button is pressed.  We want\n",
       "     * to control all of the cursor setting manually through the\n",
       "     * 'cursor' event from matplotlib */\n",
       "    event.preventDefault();\n",
       "    return false;\n",
       "};\n",
       "\n",
       "mpl.figure.prototype._key_event_extra = function (_event, _name) {\n",
       "    // Handle any extra behaviour associated with a key event\n",
       "};\n",
       "\n",
       "mpl.figure.prototype.key_event = function (event, name) {\n",
       "    // Prevent repeat events\n",
       "    if (name === 'key_press') {\n",
       "        if (event.which === this._key) {\n",
       "            return;\n",
       "        } else {\n",
       "            this._key = event.which;\n",
       "        }\n",
       "    }\n",
       "    if (name === 'key_release') {\n",
       "        this._key = null;\n",
       "    }\n",
       "\n",
       "    var value = '';\n",
       "    if (event.ctrlKey && event.which !== 17) {\n",
       "        value += 'ctrl+';\n",
       "    }\n",
       "    if (event.altKey && event.which !== 18) {\n",
       "        value += 'alt+';\n",
       "    }\n",
       "    if (event.shiftKey && event.which !== 16) {\n",
       "        value += 'shift+';\n",
       "    }\n",
       "\n",
       "    value += 'k';\n",
       "    value += event.which.toString();\n",
       "\n",
       "    this._key_event_extra(event, name);\n",
       "\n",
       "    this.send_message(name, { key: value, guiEvent: simpleKeys(event) });\n",
       "    return false;\n",
       "};\n",
       "\n",
       "mpl.figure.prototype.toolbar_button_onclick = function (name) {\n",
       "    if (name === 'download') {\n",
       "        this.handle_save(this, null);\n",
       "    } else {\n",
       "        this.send_message('toolbar_button', { name: name });\n",
       "    }\n",
       "};\n",
       "\n",
       "mpl.figure.prototype.toolbar_button_onmouseover = function (tooltip) {\n",
       "    this.message.textContent = tooltip;\n",
       "};\n",
       "mpl.toolbar_items = [[\"Home\", \"Reset original view\", \"fa fa-home icon-home\", \"home\"], [\"Back\", \"Back to previous view\", \"fa fa-arrow-left icon-arrow-left\", \"back\"], [\"Forward\", \"Forward to next view\", \"fa fa-arrow-right icon-arrow-right\", \"forward\"], [\"\", \"\", \"\", \"\"], [\"Pan\", \"Left button pans, Right button zooms\\nx/y fixes axis, CTRL fixes aspect\", \"fa fa-arrows icon-move\", \"pan\"], [\"Zoom\", \"Zoom to rectangle\\nx/y fixes axis, CTRL fixes aspect\", \"fa fa-square-o icon-check-empty\", \"zoom\"], [\"\", \"\", \"\", \"\"], [\"Download\", \"Download plot\", \"fa fa-floppy-o icon-save\", \"download\"]];\n",
       "\n",
       "mpl.extensions = [\"eps\", \"jpeg\", \"pdf\", \"png\", \"ps\", \"raw\", \"svg\", \"tif\"];\n",
       "\n",
       "mpl.default_extension = \"png\";/* global mpl */\n",
       "\n",
       "var comm_websocket_adapter = function (comm) {\n",
       "    // Create a \"websocket\"-like object which calls the given IPython comm\n",
       "    // object with the appropriate methods. Currently this is a non binary\n",
       "    // socket, so there is still some room for performance tuning.\n",
       "    var ws = {};\n",
       "\n",
       "    ws.close = function () {\n",
       "        comm.close();\n",
       "    };\n",
       "    ws.send = function (m) {\n",
       "        //console.log('sending', m);\n",
       "        comm.send(m);\n",
       "    };\n",
       "    // Register the callback with on_msg.\n",
       "    comm.on_msg(function (msg) {\n",
       "        //console.log('receiving', msg['content']['data'], msg);\n",
       "        // Pass the mpl event to the overridden (by mpl) onmessage function.\n",
       "        ws.onmessage(msg['content']['data']);\n",
       "    });\n",
       "    return ws;\n",
       "};\n",
       "\n",
       "mpl.mpl_figure_comm = function (comm, msg) {\n",
       "    // This is the function which gets called when the mpl process\n",
       "    // starts-up an IPython Comm through the \"matplotlib\" channel.\n",
       "\n",
       "    var id = msg.content.data.id;\n",
       "    // Get hold of the div created by the display call when the Comm\n",
       "    // socket was opened in Python.\n",
       "    var element = document.getElementById(id);\n",
       "    var ws_proxy = comm_websocket_adapter(comm);\n",
       "\n",
       "    function ondownload(figure, _format) {\n",
       "        window.open(figure.canvas.toDataURL());\n",
       "    }\n",
       "\n",
       "    var fig = new mpl.figure(id, ws_proxy, ondownload, element);\n",
       "\n",
       "    // Call onopen now - mpl needs it, as it is assuming we've passed it a real\n",
       "    // web socket which is closed, not our websocket->open comm proxy.\n",
       "    ws_proxy.onopen();\n",
       "\n",
       "    fig.parent_element = element;\n",
       "    fig.cell_info = mpl.find_output_cell(\"<div id='\" + id + \"'></div>\");\n",
       "    if (!fig.cell_info) {\n",
       "        console.error('Failed to find cell for figure', id, fig);\n",
       "        return;\n",
       "    }\n",
       "    fig.cell_info[0].output_area.element.one(\n",
       "        'cleared',\n",
       "        { fig: fig },\n",
       "        fig._remove_fig_handler\n",
       "    );\n",
       "};\n",
       "\n",
       "mpl.figure.prototype.handle_close = function (fig, msg) {\n",
       "    var width = fig.canvas.width / fig.ratio;\n",
       "    fig.cell_info[0].output_area.element.off(\n",
       "        'cleared',\n",
       "        fig._remove_fig_handler\n",
       "    );\n",
       "\n",
       "    // Update the output cell to use the data from the current canvas.\n",
       "    fig.push_to_output();\n",
       "    var dataURL = fig.canvas.toDataURL();\n",
       "    // Re-enable the keyboard manager in IPython - without this line, in FF,\n",
       "    // the notebook keyboard shortcuts fail.\n",
       "    IPython.keyboard_manager.enable();\n",
       "    fig.parent_element.innerHTML =\n",
       "        '<img src=\"' + dataURL + '\" width=\"' + width + '\">';\n",
       "    fig.close_ws(fig, msg);\n",
       "};\n",
       "\n",
       "mpl.figure.prototype.close_ws = function (fig, msg) {\n",
       "    fig.send_message('closing', msg);\n",
       "    // fig.ws.close()\n",
       "};\n",
       "\n",
       "mpl.figure.prototype.push_to_output = function (_remove_interactive) {\n",
       "    // Turn the data on the canvas into data in the output cell.\n",
       "    var width = this.canvas.width / this.ratio;\n",
       "    var dataURL = this.canvas.toDataURL();\n",
       "    this.cell_info[1]['text/html'] =\n",
       "        '<img src=\"' + dataURL + '\" width=\"' + width + '\">';\n",
       "};\n",
       "\n",
       "mpl.figure.prototype.updated_canvas_event = function () {\n",
       "    // Tell IPython that the notebook contents must change.\n",
       "    IPython.notebook.set_dirty(true);\n",
       "    this.send_message('ack', {});\n",
       "    var fig = this;\n",
       "    // Wait a second, then push the new image to the DOM so\n",
       "    // that it is saved nicely (might be nice to debounce this).\n",
       "    setTimeout(function () {\n",
       "        fig.push_to_output();\n",
       "    }, 1000);\n",
       "};\n",
       "\n",
       "mpl.figure.prototype._init_toolbar = function () {\n",
       "    var fig = this;\n",
       "\n",
       "    var toolbar = document.createElement('div');\n",
       "    toolbar.classList = 'btn-toolbar';\n",
       "    this.root.appendChild(toolbar);\n",
       "\n",
       "    function on_click_closure(name) {\n",
       "        return function (_event) {\n",
       "            return fig.toolbar_button_onclick(name);\n",
       "        };\n",
       "    }\n",
       "\n",
       "    function on_mouseover_closure(tooltip) {\n",
       "        return function (event) {\n",
       "            if (!event.currentTarget.disabled) {\n",
       "                return fig.toolbar_button_onmouseover(tooltip);\n",
       "            }\n",
       "        };\n",
       "    }\n",
       "\n",
       "    fig.buttons = {};\n",
       "    var buttonGroup = document.createElement('div');\n",
       "    buttonGroup.classList = 'btn-group';\n",
       "    var button;\n",
       "    for (var toolbar_ind in mpl.toolbar_items) {\n",
       "        var name = mpl.toolbar_items[toolbar_ind][0];\n",
       "        var tooltip = mpl.toolbar_items[toolbar_ind][1];\n",
       "        var image = mpl.toolbar_items[toolbar_ind][2];\n",
       "        var method_name = mpl.toolbar_items[toolbar_ind][3];\n",
       "\n",
       "        if (!name) {\n",
       "            /* Instead of a spacer, we start a new button group. */\n",
       "            if (buttonGroup.hasChildNodes()) {\n",
       "                toolbar.appendChild(buttonGroup);\n",
       "            }\n",
       "            buttonGroup = document.createElement('div');\n",
       "            buttonGroup.classList = 'btn-group';\n",
       "            continue;\n",
       "        }\n",
       "\n",
       "        button = fig.buttons[name] = document.createElement('button');\n",
       "        button.classList = 'btn btn-default';\n",
       "        button.href = '#';\n",
       "        button.title = name;\n",
       "        button.innerHTML = '<i class=\"fa ' + image + ' fa-lg\"></i>';\n",
       "        button.addEventListener('click', on_click_closure(method_name));\n",
       "        button.addEventListener('mouseover', on_mouseover_closure(tooltip));\n",
       "        buttonGroup.appendChild(button);\n",
       "    }\n",
       "\n",
       "    if (buttonGroup.hasChildNodes()) {\n",
       "        toolbar.appendChild(buttonGroup);\n",
       "    }\n",
       "\n",
       "    // Add the status bar.\n",
       "    var status_bar = document.createElement('span');\n",
       "    status_bar.classList = 'mpl-message pull-right';\n",
       "    toolbar.appendChild(status_bar);\n",
       "    this.message = status_bar;\n",
       "\n",
       "    // Add the close button to the window.\n",
       "    var buttongrp = document.createElement('div');\n",
       "    buttongrp.classList = 'btn-group inline pull-right';\n",
       "    button = document.createElement('button');\n",
       "    button.classList = 'btn btn-mini btn-primary';\n",
       "    button.href = '#';\n",
       "    button.title = 'Stop Interaction';\n",
       "    button.innerHTML = '<i class=\"fa fa-power-off icon-remove icon-large\"></i>';\n",
       "    button.addEventListener('click', function (_evt) {\n",
       "        fig.handle_close(fig, {});\n",
       "    });\n",
       "    button.addEventListener(\n",
       "        'mouseover',\n",
       "        on_mouseover_closure('Stop Interaction')\n",
       "    );\n",
       "    buttongrp.appendChild(button);\n",
       "    var titlebar = this.root.querySelector('.ui-dialog-titlebar');\n",
       "    titlebar.insertBefore(buttongrp, titlebar.firstChild);\n",
       "};\n",
       "\n",
       "mpl.figure.prototype._remove_fig_handler = function (event) {\n",
       "    var fig = event.data.fig;\n",
       "    fig.close_ws(fig, {});\n",
       "};\n",
       "\n",
       "mpl.figure.prototype._root_extra_style = function (el) {\n",
       "    el.style.boxSizing = 'content-box'; // override notebook setting of border-box.\n",
       "};\n",
       "\n",
       "mpl.figure.prototype._canvas_extra_style = function (el) {\n",
       "    // this is important to make the div 'focusable\n",
       "    el.setAttribute('tabindex', 0);\n",
       "    // reach out to IPython and tell the keyboard manager to turn it's self\n",
       "    // off when our div gets focus\n",
       "\n",
       "    // location in version 3\n",
       "    if (IPython.notebook.keyboard_manager) {\n",
       "        IPython.notebook.keyboard_manager.register_events(el);\n",
       "    } else {\n",
       "        // location in version 2\n",
       "        IPython.keyboard_manager.register_events(el);\n",
       "    }\n",
       "};\n",
       "\n",
       "mpl.figure.prototype._key_event_extra = function (event, _name) {\n",
       "    var manager = IPython.notebook.keyboard_manager;\n",
       "    if (!manager) {\n",
       "        manager = IPython.keyboard_manager;\n",
       "    }\n",
       "\n",
       "    // Check for shift+enter\n",
       "    if (event.shiftKey && event.which === 13) {\n",
       "        this.canvas_div.blur();\n",
       "        // select the cell after this one\n",
       "        var index = IPython.notebook.find_cell_index(this.cell_info[0]);\n",
       "        IPython.notebook.select(index + 1);\n",
       "    }\n",
       "};\n",
       "\n",
       "mpl.figure.prototype.handle_save = function (fig, _msg) {\n",
       "    fig.ondownload(fig, null);\n",
       "};\n",
       "\n",
       "mpl.find_output_cell = function (html_output) {\n",
       "    // Return the cell and output element which can be found *uniquely* in the notebook.\n",
       "    // Note - this is a bit hacky, but it is done because the \"notebook_saving.Notebook\"\n",
       "    // IPython event is triggered only after the cells have been serialised, which for\n",
       "    // our purposes (turning an active figure into a static one), is too late.\n",
       "    var cells = IPython.notebook.get_cells();\n",
       "    var ncells = cells.length;\n",
       "    for (var i = 0; i < ncells; i++) {\n",
       "        var cell = cells[i];\n",
       "        if (cell.cell_type === 'code') {\n",
       "            for (var j = 0; j < cell.output_area.outputs.length; j++) {\n",
       "                var data = cell.output_area.outputs[j];\n",
       "                if (data.data) {\n",
       "                    // IPython >= 3 moved mimebundle to data attribute of output\n",
       "                    data = data.data;\n",
       "                }\n",
       "                if (data['text/html'] === html_output) {\n",
       "                    return [cell, data, j];\n",
       "                }\n",
       "            }\n",
       "        }\n",
       "    }\n",
       "};\n",
       "\n",
       "// Register the function which deals with the matplotlib target/channel.\n",
       "// The kernel may be null if the page has been refreshed.\n",
       "if (IPython.notebook.kernel !== null) {\n",
       "    IPython.notebook.kernel.comm_manager.register_target(\n",
       "        'matplotlib',\n",
       "        mpl.mpl_figure_comm\n",
       "    );\n",
       "}\n"
      ],
      "text/plain": [
       "<IPython.core.display.Javascript object>"
      ]
     },
     "metadata": {},
     "output_type": "display_data"
    },
    {
     "data": {
      "text/html": [
       "<img src=\"data:image/png;base64,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\" width=\"300\">"
      ],
      "text/plain": [
       "<IPython.core.display.HTML object>"
      ]
     },
     "metadata": {},
     "output_type": "display_data"
    }
   ],
   "source": [
    "# Plot\n",
    "def plot_pct_expl(plot_data, rand_type):\n",
    "    plt.figure(figsize=(2, 2), dpi=150)\n",
    "    plt.plot(plot_data[('db', 'norand')][0],\n",
    "             plot_data[('db', 'norand')][1],\n",
    "             label='DB only', color='b', marker='.')\n",
    "    plt.plot(plot_data[('db', rand_type)][0],\n",
    "             plot_data[('db', rand_type)][1],\n",
    "             label='DB only, shuffled',\n",
    "             color='b', linestyle='--', marker='.')\n",
    "    plt.plot(plot_data[('all', 'norand')][0],\n",
    "             plot_data[('all', 'norand')][1],\n",
    "             label='All', color='r', marker='.')\n",
    "    plt.plot(plot_data[('all', rand_type)][0],\n",
    "             plot_data[('all', rand_type)][1],\n",
    "             label='All, shuffled',\n",
    "             color='r', linestyle='--', marker='.')\n",
    "\n",
    "    #plt.plot(all_x, all_y, label='All', marker='.')\n",
    "    #plt.legend(loc='upper left', fontsize=fontsize, frameon=False)\n",
    "    plt.xlabel('abs(z-score) lower bound')\n",
    "    plt.ylabel('Pct. Corrs Explained')\n",
    "    plt.legend(loc='upper left', fontsize=fontsize, frameon=False)\n",
    "    ax = plt.gca()\n",
    "    format_axis(ax)\n",
    "    plt.subplots_adjust(left=0.15, bottom=0.15)\n",
    "    plt.savefig(fig_path('pct_expl_corrs_db_vs_all', 'pdf'))\n",
    "    plt.savefig(fig_path('pct_expl_corrs_db_vs_all', 'png'))\n",
    "\n",
    "    \n",
    "plot_pct_expl(plot_data, 'randxswap')"
   ]
  },
  {
   "cell_type": "code",
   "execution_count": 302,
   "metadata": {},
   "outputs": [
    {
     "data": {
      "application/javascript": [
       "/* Put everything inside the global mpl namespace */\n",
       "/* global mpl */\n",
       "window.mpl = {};\n",
       "\n",
       "mpl.get_websocket_type = function () {\n",
       "    if (typeof WebSocket !== 'undefined') {\n",
       "        return WebSocket;\n",
       "    } else if (typeof MozWebSocket !== 'undefined') {\n",
       "        return MozWebSocket;\n",
       "    } else {\n",
       "        alert(\n",
       "            'Your browser does not have WebSocket support. ' +\n",
       "                'Please try Chrome, Safari or Firefox ≥ 6. ' +\n",
       "                'Firefox 4 and 5 are also supported but you ' +\n",
       "                'have to enable WebSockets in about:config.'\n",
       "        );\n",
       "    }\n",
       "};\n",
       "\n",
       "mpl.figure = function (figure_id, websocket, ondownload, parent_element) {\n",
       "    this.id = figure_id;\n",
       "\n",
       "    this.ws = websocket;\n",
       "\n",
       "    this.supports_binary = this.ws.binaryType !== undefined;\n",
       "\n",
       "    if (!this.supports_binary) {\n",
       "        var warnings = document.getElementById('mpl-warnings');\n",
       "        if (warnings) {\n",
       "            warnings.style.display = 'block';\n",
       "            warnings.textContent =\n",
       "                'This browser does not support binary websocket messages. ' +\n",
       "                'Performance may be slow.';\n",
       "        }\n",
       "    }\n",
       "\n",
       "    this.imageObj = new Image();\n",
       "\n",
       "    this.context = undefined;\n",
       "    this.message = undefined;\n",
       "    this.canvas = undefined;\n",
       "    this.rubberband_canvas = undefined;\n",
       "    this.rubberband_context = undefined;\n",
       "    this.format_dropdown = undefined;\n",
       "\n",
       "    this.image_mode = 'full';\n",
       "\n",
       "    this.root = document.createElement('div');\n",
       "    this.root.setAttribute('style', 'display: inline-block');\n",
       "    this._root_extra_style(this.root);\n",
       "\n",
       "    parent_element.appendChild(this.root);\n",
       "\n",
       "    this._init_header(this);\n",
       "    this._init_canvas(this);\n",
       "    this._init_toolbar(this);\n",
       "\n",
       "    var fig = this;\n",
       "\n",
       "    this.waiting = false;\n",
       "\n",
       "    this.ws.onopen = function () {\n",
       "        fig.send_message('supports_binary', { value: fig.supports_binary });\n",
       "        fig.send_message('send_image_mode', {});\n",
       "        if (fig.ratio !== 1) {\n",
       "            fig.send_message('set_dpi_ratio', { dpi_ratio: fig.ratio });\n",
       "        }\n",
       "        fig.send_message('refresh', {});\n",
       "    };\n",
       "\n",
       "    this.imageObj.onload = function () {\n",
       "        if (fig.image_mode === 'full') {\n",
       "            // Full images could contain transparency (where diff images\n",
       "            // almost always do), so we need to clear the canvas so that\n",
       "            // there is no ghosting.\n",
       "            fig.context.clearRect(0, 0, fig.canvas.width, fig.canvas.height);\n",
       "        }\n",
       "        fig.context.drawImage(fig.imageObj, 0, 0);\n",
       "    };\n",
       "\n",
       "    this.imageObj.onunload = function () {\n",
       "        fig.ws.close();\n",
       "    };\n",
       "\n",
       "    this.ws.onmessage = this._make_on_message_function(this);\n",
       "\n",
       "    this.ondownload = ondownload;\n",
       "};\n",
       "\n",
       "mpl.figure.prototype._init_header = function () {\n",
       "    var titlebar = document.createElement('div');\n",
       "    titlebar.classList =\n",
       "        'ui-dialog-titlebar ui-widget-header ui-corner-all ui-helper-clearfix';\n",
       "    var titletext = document.createElement('div');\n",
       "    titletext.classList = 'ui-dialog-title';\n",
       "    titletext.setAttribute(\n",
       "        'style',\n",
       "        'width: 100%; text-align: center; padding: 3px;'\n",
       "    );\n",
       "    titlebar.appendChild(titletext);\n",
       "    this.root.appendChild(titlebar);\n",
       "    this.header = titletext;\n",
       "};\n",
       "\n",
       "mpl.figure.prototype._canvas_extra_style = function (_canvas_div) {};\n",
       "\n",
       "mpl.figure.prototype._root_extra_style = function (_canvas_div) {};\n",
       "\n",
       "mpl.figure.prototype._init_canvas = function () {\n",
       "    var fig = this;\n",
       "\n",
       "    var canvas_div = (this.canvas_div = document.createElement('div'));\n",
       "    canvas_div.setAttribute(\n",
       "        'style',\n",
       "        'border: 1px solid #ddd;' +\n",
       "            'box-sizing: content-box;' +\n",
       "            'clear: both;' +\n",
       "            'min-height: 1px;' +\n",
       "            'min-width: 1px;' +\n",
       "            'outline: 0;' +\n",
       "            'overflow: hidden;' +\n",
       "            'position: relative;' +\n",
       "            'resize: both;'\n",
       "    );\n",
       "\n",
       "    function on_keyboard_event_closure(name) {\n",
       "        return function (event) {\n",
       "            return fig.key_event(event, name);\n",
       "        };\n",
       "    }\n",
       "\n",
       "    canvas_div.addEventListener(\n",
       "        'keydown',\n",
       "        on_keyboard_event_closure('key_press')\n",
       "    );\n",
       "    canvas_div.addEventListener(\n",
       "        'keyup',\n",
       "        on_keyboard_event_closure('key_release')\n",
       "    );\n",
       "\n",
       "    this._canvas_extra_style(canvas_div);\n",
       "    this.root.appendChild(canvas_div);\n",
       "\n",
       "    var canvas = (this.canvas = document.createElement('canvas'));\n",
       "    canvas.classList.add('mpl-canvas');\n",
       "    canvas.setAttribute('style', 'box-sizing: content-box;');\n",
       "\n",
       "    this.context = canvas.getContext('2d');\n",
       "\n",
       "    var backingStore =\n",
       "        this.context.backingStorePixelRatio ||\n",
       "        this.context.webkitBackingStorePixelRatio ||\n",
       "        this.context.mozBackingStorePixelRatio ||\n",
       "        this.context.msBackingStorePixelRatio ||\n",
       "        this.context.oBackingStorePixelRatio ||\n",
       "        this.context.backingStorePixelRatio ||\n",
       "        1;\n",
       "\n",
       "    this.ratio = (window.devicePixelRatio || 1) / backingStore;\n",
       "    if (this.ratio !== 1) {\n",
       "        fig.send_message('set_dpi_ratio', { dpi_ratio: this.ratio });\n",
       "    }\n",
       "\n",
       "    var rubberband_canvas = (this.rubberband_canvas = document.createElement(\n",
       "        'canvas'\n",
       "    ));\n",
       "    rubberband_canvas.setAttribute(\n",
       "        'style',\n",
       "        'box-sizing: content-box; position: absolute; left: 0; top: 0; z-index: 1;'\n",
       "    );\n",
       "\n",
       "    var resizeObserver = new ResizeObserver(function (entries) {\n",
       "        var nentries = entries.length;\n",
       "        for (var i = 0; i < nentries; i++) {\n",
       "            var entry = entries[i];\n",
       "            var width, height;\n",
       "            if (entry.contentBoxSize) {\n",
       "                if (entry.contentBoxSize instanceof Array) {\n",
       "                    // Chrome 84 implements new version of spec.\n",
       "                    width = entry.contentBoxSize[0].inlineSize;\n",
       "                    height = entry.contentBoxSize[0].blockSize;\n",
       "                } else {\n",
       "                    // Firefox implements old version of spec.\n",
       "                    width = entry.contentBoxSize.inlineSize;\n",
       "                    height = entry.contentBoxSize.blockSize;\n",
       "                }\n",
       "            } else {\n",
       "                // Chrome <84 implements even older version of spec.\n",
       "                width = entry.contentRect.width;\n",
       "                height = entry.contentRect.height;\n",
       "            }\n",
       "\n",
       "            // Keep the size of the canvas and rubber band canvas in sync with\n",
       "            // the canvas container.\n",
       "            if (entry.devicePixelContentBoxSize) {\n",
       "                // Chrome 84 implements new version of spec.\n",
       "                canvas.setAttribute(\n",
       "                    'width',\n",
       "                    entry.devicePixelContentBoxSize[0].inlineSize\n",
       "                );\n",
       "                canvas.setAttribute(\n",
       "                    'height',\n",
       "                    entry.devicePixelContentBoxSize[0].blockSize\n",
       "                );\n",
       "            } else {\n",
       "                canvas.setAttribute('width', width * fig.ratio);\n",
       "                canvas.setAttribute('height', height * fig.ratio);\n",
       "            }\n",
       "            canvas.setAttribute(\n",
       "                'style',\n",
       "                'width: ' + width + 'px; height: ' + height + 'px;'\n",
       "            );\n",
       "\n",
       "            rubberband_canvas.setAttribute('width', width);\n",
       "            rubberband_canvas.setAttribute('height', height);\n",
       "\n",
       "            // And update the size in Python. We ignore the initial 0/0 size\n",
       "            // that occurs as the element is placed into the DOM, which should\n",
       "            // otherwise not happen due to the minimum size styling.\n",
       "            if (width != 0 && height != 0) {\n",
       "                fig.request_resize(width, height);\n",
       "            }\n",
       "        }\n",
       "    });\n",
       "    resizeObserver.observe(canvas_div);\n",
       "\n",
       "    function on_mouse_event_closure(name) {\n",
       "        return function (event) {\n",
       "            return fig.mouse_event(event, name);\n",
       "        };\n",
       "    }\n",
       "\n",
       "    rubberband_canvas.addEventListener(\n",
       "        'mousedown',\n",
       "        on_mouse_event_closure('button_press')\n",
       "    );\n",
       "    rubberband_canvas.addEventListener(\n",
       "        'mouseup',\n",
       "        on_mouse_event_closure('button_release')\n",
       "    );\n",
       "    // Throttle sequential mouse events to 1 every 20ms.\n",
       "    rubberband_canvas.addEventListener(\n",
       "        'mousemove',\n",
       "        on_mouse_event_closure('motion_notify')\n",
       "    );\n",
       "\n",
       "    rubberband_canvas.addEventListener(\n",
       "        'mouseenter',\n",
       "        on_mouse_event_closure('figure_enter')\n",
       "    );\n",
       "    rubberband_canvas.addEventListener(\n",
       "        'mouseleave',\n",
       "        on_mouse_event_closure('figure_leave')\n",
       "    );\n",
       "\n",
       "    canvas_div.addEventListener('wheel', function (event) {\n",
       "        if (event.deltaY < 0) {\n",
       "            event.step = 1;\n",
       "        } else {\n",
       "            event.step = -1;\n",
       "        }\n",
       "        on_mouse_event_closure('scroll')(event);\n",
       "    });\n",
       "\n",
       "    canvas_div.appendChild(canvas);\n",
       "    canvas_div.appendChild(rubberband_canvas);\n",
       "\n",
       "    this.rubberband_context = rubberband_canvas.getContext('2d');\n",
       "    this.rubberband_context.strokeStyle = '#000000';\n",
       "\n",
       "    this._resize_canvas = function (width, height, forward) {\n",
       "        if (forward) {\n",
       "            canvas_div.style.width = width + 'px';\n",
       "            canvas_div.style.height = height + 'px';\n",
       "        }\n",
       "    };\n",
       "\n",
       "    // Disable right mouse context menu.\n",
       "    this.rubberband_canvas.addEventListener('contextmenu', function (_e) {\n",
       "        event.preventDefault();\n",
       "        return false;\n",
       "    });\n",
       "\n",
       "    function set_focus() {\n",
       "        canvas.focus();\n",
       "        canvas_div.focus();\n",
       "    }\n",
       "\n",
       "    window.setTimeout(set_focus, 100);\n",
       "};\n",
       "\n",
       "mpl.figure.prototype._init_toolbar = function () {\n",
       "    var fig = this;\n",
       "\n",
       "    var toolbar = document.createElement('div');\n",
       "    toolbar.classList = 'mpl-toolbar';\n",
       "    this.root.appendChild(toolbar);\n",
       "\n",
       "    function on_click_closure(name) {\n",
       "        return function (_event) {\n",
       "            return fig.toolbar_button_onclick(name);\n",
       "        };\n",
       "    }\n",
       "\n",
       "    function on_mouseover_closure(tooltip) {\n",
       "        return function (event) {\n",
       "            if (!event.currentTarget.disabled) {\n",
       "                return fig.toolbar_button_onmouseover(tooltip);\n",
       "            }\n",
       "        };\n",
       "    }\n",
       "\n",
       "    fig.buttons = {};\n",
       "    var buttonGroup = document.createElement('div');\n",
       "    buttonGroup.classList = 'mpl-button-group';\n",
       "    for (var toolbar_ind in mpl.toolbar_items) {\n",
       "        var name = mpl.toolbar_items[toolbar_ind][0];\n",
       "        var tooltip = mpl.toolbar_items[toolbar_ind][1];\n",
       "        var image = mpl.toolbar_items[toolbar_ind][2];\n",
       "        var method_name = mpl.toolbar_items[toolbar_ind][3];\n",
       "\n",
       "        if (!name) {\n",
       "            /* Instead of a spacer, we start a new button group. */\n",
       "            if (buttonGroup.hasChildNodes()) {\n",
       "                toolbar.appendChild(buttonGroup);\n",
       "            }\n",
       "            buttonGroup = document.createElement('div');\n",
       "            buttonGroup.classList = 'mpl-button-group';\n",
       "            continue;\n",
       "        }\n",
       "\n",
       "        var button = (fig.buttons[name] = document.createElement('button'));\n",
       "        button.classList = 'mpl-widget';\n",
       "        button.setAttribute('role', 'button');\n",
       "        button.setAttribute('aria-disabled', 'false');\n",
       "        button.addEventListener('click', on_click_closure(method_name));\n",
       "        button.addEventListener('mouseover', on_mouseover_closure(tooltip));\n",
       "\n",
       "        var icon_img = document.createElement('img');\n",
       "        icon_img.src = '_images/' + image + '.png';\n",
       "        icon_img.srcset = '_images/' + image + '_large.png 2x';\n",
       "        icon_img.alt = tooltip;\n",
       "        button.appendChild(icon_img);\n",
       "\n",
       "        buttonGroup.appendChild(button);\n",
       "    }\n",
       "\n",
       "    if (buttonGroup.hasChildNodes()) {\n",
       "        toolbar.appendChild(buttonGroup);\n",
       "    }\n",
       "\n",
       "    var fmt_picker = document.createElement('select');\n",
       "    fmt_picker.classList = 'mpl-widget';\n",
       "    toolbar.appendChild(fmt_picker);\n",
       "    this.format_dropdown = fmt_picker;\n",
       "\n",
       "    for (var ind in mpl.extensions) {\n",
       "        var fmt = mpl.extensions[ind];\n",
       "        var option = document.createElement('option');\n",
       "        option.selected = fmt === mpl.default_extension;\n",
       "        option.innerHTML = fmt;\n",
       "        fmt_picker.appendChild(option);\n",
       "    }\n",
       "\n",
       "    var status_bar = document.createElement('span');\n",
       "    status_bar.classList = 'mpl-message';\n",
       "    toolbar.appendChild(status_bar);\n",
       "    this.message = status_bar;\n",
       "};\n",
       "\n",
       "mpl.figure.prototype.request_resize = function (x_pixels, y_pixels) {\n",
       "    // Request matplotlib to resize the figure. Matplotlib will then trigger a resize in the client,\n",
       "    // which will in turn request a refresh of the image.\n",
       "    this.send_message('resize', { width: x_pixels, height: y_pixels });\n",
       "};\n",
       "\n",
       "mpl.figure.prototype.send_message = function (type, properties) {\n",
       "    properties['type'] = type;\n",
       "    properties['figure_id'] = this.id;\n",
       "    this.ws.send(JSON.stringify(properties));\n",
       "};\n",
       "\n",
       "mpl.figure.prototype.send_draw_message = function () {\n",
       "    if (!this.waiting) {\n",
       "        this.waiting = true;\n",
       "        this.ws.send(JSON.stringify({ type: 'draw', figure_id: this.id }));\n",
       "    }\n",
       "};\n",
       "\n",
       "mpl.figure.prototype.handle_save = function (fig, _msg) {\n",
       "    var format_dropdown = fig.format_dropdown;\n",
       "    var format = format_dropdown.options[format_dropdown.selectedIndex].value;\n",
       "    fig.ondownload(fig, format);\n",
       "};\n",
       "\n",
       "mpl.figure.prototype.handle_resize = function (fig, msg) {\n",
       "    var size = msg['size'];\n",
       "    if (size[0] !== fig.canvas.width || size[1] !== fig.canvas.height) {\n",
       "        fig._resize_canvas(size[0], size[1], msg['forward']);\n",
       "        fig.send_message('refresh', {});\n",
       "    }\n",
       "};\n",
       "\n",
       "mpl.figure.prototype.handle_rubberband = function (fig, msg) {\n",
       "    var x0 = msg['x0'] / fig.ratio;\n",
       "    var y0 = (fig.canvas.height - msg['y0']) / fig.ratio;\n",
       "    var x1 = msg['x1'] / fig.ratio;\n",
       "    var y1 = (fig.canvas.height - msg['y1']) / fig.ratio;\n",
       "    x0 = Math.floor(x0) + 0.5;\n",
       "    y0 = Math.floor(y0) + 0.5;\n",
       "    x1 = Math.floor(x1) + 0.5;\n",
       "    y1 = Math.floor(y1) + 0.5;\n",
       "    var min_x = Math.min(x0, x1);\n",
       "    var min_y = Math.min(y0, y1);\n",
       "    var width = Math.abs(x1 - x0);\n",
       "    var height = Math.abs(y1 - y0);\n",
       "\n",
       "    fig.rubberband_context.clearRect(\n",
       "        0,\n",
       "        0,\n",
       "        fig.canvas.width / fig.ratio,\n",
       "        fig.canvas.height / fig.ratio\n",
       "    );\n",
       "\n",
       "    fig.rubberband_context.strokeRect(min_x, min_y, width, height);\n",
       "};\n",
       "\n",
       "mpl.figure.prototype.handle_figure_label = function (fig, msg) {\n",
       "    // Updates the figure title.\n",
       "    fig.header.textContent = msg['label'];\n",
       "};\n",
       "\n",
       "mpl.figure.prototype.handle_cursor = function (fig, msg) {\n",
       "    var cursor = msg['cursor'];\n",
       "    switch (cursor) {\n",
       "        case 0:\n",
       "            cursor = 'pointer';\n",
       "            break;\n",
       "        case 1:\n",
       "            cursor = 'default';\n",
       "            break;\n",
       "        case 2:\n",
       "            cursor = 'crosshair';\n",
       "            break;\n",
       "        case 3:\n",
       "            cursor = 'move';\n",
       "            break;\n",
       "    }\n",
       "    fig.rubberband_canvas.style.cursor = cursor;\n",
       "};\n",
       "\n",
       "mpl.figure.prototype.handle_message = function (fig, msg) {\n",
       "    fig.message.textContent = msg['message'];\n",
       "};\n",
       "\n",
       "mpl.figure.prototype.handle_draw = function (fig, _msg) {\n",
       "    // Request the server to send over a new figure.\n",
       "    fig.send_draw_message();\n",
       "};\n",
       "\n",
       "mpl.figure.prototype.handle_image_mode = function (fig, msg) {\n",
       "    fig.image_mode = msg['mode'];\n",
       "};\n",
       "\n",
       "mpl.figure.prototype.handle_history_buttons = function (fig, msg) {\n",
       "    for (var key in msg) {\n",
       "        if (!(key in fig.buttons)) {\n",
       "            continue;\n",
       "        }\n",
       "        fig.buttons[key].disabled = !msg[key];\n",
       "        fig.buttons[key].setAttribute('aria-disabled', !msg[key]);\n",
       "    }\n",
       "};\n",
       "\n",
       "mpl.figure.prototype.handle_navigate_mode = function (fig, msg) {\n",
       "    if (msg['mode'] === 'PAN') {\n",
       "        fig.buttons['Pan'].classList.add('active');\n",
       "        fig.buttons['Zoom'].classList.remove('active');\n",
       "    } else if (msg['mode'] === 'ZOOM') {\n",
       "        fig.buttons['Pan'].classList.remove('active');\n",
       "        fig.buttons['Zoom'].classList.add('active');\n",
       "    } else {\n",
       "        fig.buttons['Pan'].classList.remove('active');\n",
       "        fig.buttons['Zoom'].classList.remove('active');\n",
       "    }\n",
       "};\n",
       "\n",
       "mpl.figure.prototype.updated_canvas_event = function () {\n",
       "    // Called whenever the canvas gets updated.\n",
       "    this.send_message('ack', {});\n",
       "};\n",
       "\n",
       "// A function to construct a web socket function for onmessage handling.\n",
       "// Called in the figure constructor.\n",
       "mpl.figure.prototype._make_on_message_function = function (fig) {\n",
       "    return function socket_on_message(evt) {\n",
       "        if (evt.data instanceof Blob) {\n",
       "            /* FIXME: We get \"Resource interpreted as Image but\n",
       "             * transferred with MIME type text/plain:\" errors on\n",
       "             * Chrome.  But how to set the MIME type?  It doesn't seem\n",
       "             * to be part of the websocket stream */\n",
       "            evt.data.type = 'image/png';\n",
       "\n",
       "            /* Free the memory for the previous frames */\n",
       "            if (fig.imageObj.src) {\n",
       "                (window.URL || window.webkitURL).revokeObjectURL(\n",
       "                    fig.imageObj.src\n",
       "                );\n",
       "            }\n",
       "\n",
       "            fig.imageObj.src = (window.URL || window.webkitURL).createObjectURL(\n",
       "                evt.data\n",
       "            );\n",
       "            fig.updated_canvas_event();\n",
       "            fig.waiting = false;\n",
       "            return;\n",
       "        } else if (\n",
       "            typeof evt.data === 'string' &&\n",
       "            evt.data.slice(0, 21) === 'data:image/png;base64'\n",
       "        ) {\n",
       "            fig.imageObj.src = evt.data;\n",
       "            fig.updated_canvas_event();\n",
       "            fig.waiting = false;\n",
       "            return;\n",
       "        }\n",
       "\n",
       "        var msg = JSON.parse(evt.data);\n",
       "        var msg_type = msg['type'];\n",
       "\n",
       "        // Call the  \"handle_{type}\" callback, which takes\n",
       "        // the figure and JSON message as its only arguments.\n",
       "        try {\n",
       "            var callback = fig['handle_' + msg_type];\n",
       "        } catch (e) {\n",
       "            console.log(\n",
       "                \"No handler for the '\" + msg_type + \"' message type: \",\n",
       "                msg\n",
       "            );\n",
       "            return;\n",
       "        }\n",
       "\n",
       "        if (callback) {\n",
       "            try {\n",
       "                // console.log(\"Handling '\" + msg_type + \"' message: \", msg);\n",
       "                callback(fig, msg);\n",
       "            } catch (e) {\n",
       "                console.log(\n",
       "                    \"Exception inside the 'handler_\" + msg_type + \"' callback:\",\n",
       "                    e,\n",
       "                    e.stack,\n",
       "                    msg\n",
       "                );\n",
       "            }\n",
       "        }\n",
       "    };\n",
       "};\n",
       "\n",
       "// from http://stackoverflow.com/questions/1114465/getting-mouse-location-in-canvas\n",
       "mpl.findpos = function (e) {\n",
       "    //this section is from http://www.quirksmode.org/js/events_properties.html\n",
       "    var targ;\n",
       "    if (!e) {\n",
       "        e = window.event;\n",
       "    }\n",
       "    if (e.target) {\n",
       "        targ = e.target;\n",
       "    } else if (e.srcElement) {\n",
       "        targ = e.srcElement;\n",
       "    }\n",
       "    if (targ.nodeType === 3) {\n",
       "        // defeat Safari bug\n",
       "        targ = targ.parentNode;\n",
       "    }\n",
       "\n",
       "    // pageX,Y are the mouse positions relative to the document\n",
       "    var boundingRect = targ.getBoundingClientRect();\n",
       "    var x = e.pageX - (boundingRect.left + document.body.scrollLeft);\n",
       "    var y = e.pageY - (boundingRect.top + document.body.scrollTop);\n",
       "\n",
       "    return { x: x, y: y };\n",
       "};\n",
       "\n",
       "/*\n",
       " * return a copy of an object with only non-object keys\n",
       " * we need this to avoid circular references\n",
       " * http://stackoverflow.com/a/24161582/3208463\n",
       " */\n",
       "function simpleKeys(original) {\n",
       "    return Object.keys(original).reduce(function (obj, key) {\n",
       "        if (typeof original[key] !== 'object') {\n",
       "            obj[key] = original[key];\n",
       "        }\n",
       "        return obj;\n",
       "    }, {});\n",
       "}\n",
       "\n",
       "mpl.figure.prototype.mouse_event = function (event, name) {\n",
       "    var canvas_pos = mpl.findpos(event);\n",
       "\n",
       "    if (name === 'button_press') {\n",
       "        this.canvas.focus();\n",
       "        this.canvas_div.focus();\n",
       "    }\n",
       "\n",
       "    var x = canvas_pos.x * this.ratio;\n",
       "    var y = canvas_pos.y * this.ratio;\n",
       "\n",
       "    this.send_message(name, {\n",
       "        x: x,\n",
       "        y: y,\n",
       "        button: event.button,\n",
       "        step: event.step,\n",
       "        guiEvent: simpleKeys(event),\n",
       "    });\n",
       "\n",
       "    /* This prevents the web browser from automatically changing to\n",
       "     * the text insertion cursor when the button is pressed.  We want\n",
       "     * to control all of the cursor setting manually through the\n",
       "     * 'cursor' event from matplotlib */\n",
       "    event.preventDefault();\n",
       "    return false;\n",
       "};\n",
       "\n",
       "mpl.figure.prototype._key_event_extra = function (_event, _name) {\n",
       "    // Handle any extra behaviour associated with a key event\n",
       "};\n",
       "\n",
       "mpl.figure.prototype.key_event = function (event, name) {\n",
       "    // Prevent repeat events\n",
       "    if (name === 'key_press') {\n",
       "        if (event.which === this._key) {\n",
       "            return;\n",
       "        } else {\n",
       "            this._key = event.which;\n",
       "        }\n",
       "    }\n",
       "    if (name === 'key_release') {\n",
       "        this._key = null;\n",
       "    }\n",
       "\n",
       "    var value = '';\n",
       "    if (event.ctrlKey && event.which !== 17) {\n",
       "        value += 'ctrl+';\n",
       "    }\n",
       "    if (event.altKey && event.which !== 18) {\n",
       "        value += 'alt+';\n",
       "    }\n",
       "    if (event.shiftKey && event.which !== 16) {\n",
       "        value += 'shift+';\n",
       "    }\n",
       "\n",
       "    value += 'k';\n",
       "    value += event.which.toString();\n",
       "\n",
       "    this._key_event_extra(event, name);\n",
       "\n",
       "    this.send_message(name, { key: value, guiEvent: simpleKeys(event) });\n",
       "    return false;\n",
       "};\n",
       "\n",
       "mpl.figure.prototype.toolbar_button_onclick = function (name) {\n",
       "    if (name === 'download') {\n",
       "        this.handle_save(this, null);\n",
       "    } else {\n",
       "        this.send_message('toolbar_button', { name: name });\n",
       "    }\n",
       "};\n",
       "\n",
       "mpl.figure.prototype.toolbar_button_onmouseover = function (tooltip) {\n",
       "    this.message.textContent = tooltip;\n",
       "};\n",
       "mpl.toolbar_items = [[\"Home\", \"Reset original view\", \"fa fa-home icon-home\", \"home\"], [\"Back\", \"Back to previous view\", \"fa fa-arrow-left icon-arrow-left\", \"back\"], [\"Forward\", \"Forward to next view\", \"fa fa-arrow-right icon-arrow-right\", \"forward\"], [\"\", \"\", \"\", \"\"], [\"Pan\", \"Left button pans, Right button zooms\\nx/y fixes axis, CTRL fixes aspect\", \"fa fa-arrows icon-move\", \"pan\"], [\"Zoom\", \"Zoom to rectangle\\nx/y fixes axis, CTRL fixes aspect\", \"fa fa-square-o icon-check-empty\", \"zoom\"], [\"\", \"\", \"\", \"\"], [\"Download\", \"Download plot\", \"fa fa-floppy-o icon-save\", \"download\"]];\n",
       "\n",
       "mpl.extensions = [\"eps\", \"jpeg\", \"pdf\", \"png\", \"ps\", \"raw\", \"svg\", \"tif\"];\n",
       "\n",
       "mpl.default_extension = \"png\";/* global mpl */\n",
       "\n",
       "var comm_websocket_adapter = function (comm) {\n",
       "    // Create a \"websocket\"-like object which calls the given IPython comm\n",
       "    // object with the appropriate methods. Currently this is a non binary\n",
       "    // socket, so there is still some room for performance tuning.\n",
       "    var ws = {};\n",
       "\n",
       "    ws.close = function () {\n",
       "        comm.close();\n",
       "    };\n",
       "    ws.send = function (m) {\n",
       "        //console.log('sending', m);\n",
       "        comm.send(m);\n",
       "    };\n",
       "    // Register the callback with on_msg.\n",
       "    comm.on_msg(function (msg) {\n",
       "        //console.log('receiving', msg['content']['data'], msg);\n",
       "        // Pass the mpl event to the overridden (by mpl) onmessage function.\n",
       "        ws.onmessage(msg['content']['data']);\n",
       "    });\n",
       "    return ws;\n",
       "};\n",
       "\n",
       "mpl.mpl_figure_comm = function (comm, msg) {\n",
       "    // This is the function which gets called when the mpl process\n",
       "    // starts-up an IPython Comm through the \"matplotlib\" channel.\n",
       "\n",
       "    var id = msg.content.data.id;\n",
       "    // Get hold of the div created by the display call when the Comm\n",
       "    // socket was opened in Python.\n",
       "    var element = document.getElementById(id);\n",
       "    var ws_proxy = comm_websocket_adapter(comm);\n",
       "\n",
       "    function ondownload(figure, _format) {\n",
       "        window.open(figure.canvas.toDataURL());\n",
       "    }\n",
       "\n",
       "    var fig = new mpl.figure(id, ws_proxy, ondownload, element);\n",
       "\n",
       "    // Call onopen now - mpl needs it, as it is assuming we've passed it a real\n",
       "    // web socket which is closed, not our websocket->open comm proxy.\n",
       "    ws_proxy.onopen();\n",
       "\n",
       "    fig.parent_element = element;\n",
       "    fig.cell_info = mpl.find_output_cell(\"<div id='\" + id + \"'></div>\");\n",
       "    if (!fig.cell_info) {\n",
       "        console.error('Failed to find cell for figure', id, fig);\n",
       "        return;\n",
       "    }\n",
       "    fig.cell_info[0].output_area.element.one(\n",
       "        'cleared',\n",
       "        { fig: fig },\n",
       "        fig._remove_fig_handler\n",
       "    );\n",
       "};\n",
       "\n",
       "mpl.figure.prototype.handle_close = function (fig, msg) {\n",
       "    var width = fig.canvas.width / fig.ratio;\n",
       "    fig.cell_info[0].output_area.element.off(\n",
       "        'cleared',\n",
       "        fig._remove_fig_handler\n",
       "    );\n",
       "\n",
       "    // Update the output cell to use the data from the current canvas.\n",
       "    fig.push_to_output();\n",
       "    var dataURL = fig.canvas.toDataURL();\n",
       "    // Re-enable the keyboard manager in IPython - without this line, in FF,\n",
       "    // the notebook keyboard shortcuts fail.\n",
       "    IPython.keyboard_manager.enable();\n",
       "    fig.parent_element.innerHTML =\n",
       "        '<img src=\"' + dataURL + '\" width=\"' + width + '\">';\n",
       "    fig.close_ws(fig, msg);\n",
       "};\n",
       "\n",
       "mpl.figure.prototype.close_ws = function (fig, msg) {\n",
       "    fig.send_message('closing', msg);\n",
       "    // fig.ws.close()\n",
       "};\n",
       "\n",
       "mpl.figure.prototype.push_to_output = function (_remove_interactive) {\n",
       "    // Turn the data on the canvas into data in the output cell.\n",
       "    var width = this.canvas.width / this.ratio;\n",
       "    var dataURL = this.canvas.toDataURL();\n",
       "    this.cell_info[1]['text/html'] =\n",
       "        '<img src=\"' + dataURL + '\" width=\"' + width + '\">';\n",
       "};\n",
       "\n",
       "mpl.figure.prototype.updated_canvas_event = function () {\n",
       "    // Tell IPython that the notebook contents must change.\n",
       "    IPython.notebook.set_dirty(true);\n",
       "    this.send_message('ack', {});\n",
       "    var fig = this;\n",
       "    // Wait a second, then push the new image to the DOM so\n",
       "    // that it is saved nicely (might be nice to debounce this).\n",
       "    setTimeout(function () {\n",
       "        fig.push_to_output();\n",
       "    }, 1000);\n",
       "};\n",
       "\n",
       "mpl.figure.prototype._init_toolbar = function () {\n",
       "    var fig = this;\n",
       "\n",
       "    var toolbar = document.createElement('div');\n",
       "    toolbar.classList = 'btn-toolbar';\n",
       "    this.root.appendChild(toolbar);\n",
       "\n",
       "    function on_click_closure(name) {\n",
       "        return function (_event) {\n",
       "            return fig.toolbar_button_onclick(name);\n",
       "        };\n",
       "    }\n",
       "\n",
       "    function on_mouseover_closure(tooltip) {\n",
       "        return function (event) {\n",
       "            if (!event.currentTarget.disabled) {\n",
       "                return fig.toolbar_button_onmouseover(tooltip);\n",
       "            }\n",
       "        };\n",
       "    }\n",
       "\n",
       "    fig.buttons = {};\n",
       "    var buttonGroup = document.createElement('div');\n",
       "    buttonGroup.classList = 'btn-group';\n",
       "    var button;\n",
       "    for (var toolbar_ind in mpl.toolbar_items) {\n",
       "        var name = mpl.toolbar_items[toolbar_ind][0];\n",
       "        var tooltip = mpl.toolbar_items[toolbar_ind][1];\n",
       "        var image = mpl.toolbar_items[toolbar_ind][2];\n",
       "        var method_name = mpl.toolbar_items[toolbar_ind][3];\n",
       "\n",
       "        if (!name) {\n",
       "            /* Instead of a spacer, we start a new button group. */\n",
       "            if (buttonGroup.hasChildNodes()) {\n",
       "                toolbar.appendChild(buttonGroup);\n",
       "            }\n",
       "            buttonGroup = document.createElement('div');\n",
       "            buttonGroup.classList = 'btn-group';\n",
       "            continue;\n",
       "        }\n",
       "\n",
       "        button = fig.buttons[name] = document.createElement('button');\n",
       "        button.classList = 'btn btn-default';\n",
       "        button.href = '#';\n",
       "        button.title = name;\n",
       "        button.innerHTML = '<i class=\"fa ' + image + ' fa-lg\"></i>';\n",
       "        button.addEventListener('click', on_click_closure(method_name));\n",
       "        button.addEventListener('mouseover', on_mouseover_closure(tooltip));\n",
       "        buttonGroup.appendChild(button);\n",
       "    }\n",
       "\n",
       "    if (buttonGroup.hasChildNodes()) {\n",
       "        toolbar.appendChild(buttonGroup);\n",
       "    }\n",
       "\n",
       "    // Add the status bar.\n",
       "    var status_bar = document.createElement('span');\n",
       "    status_bar.classList = 'mpl-message pull-right';\n",
       "    toolbar.appendChild(status_bar);\n",
       "    this.message = status_bar;\n",
       "\n",
       "    // Add the close button to the window.\n",
       "    var buttongrp = document.createElement('div');\n",
       "    buttongrp.classList = 'btn-group inline pull-right';\n",
       "    button = document.createElement('button');\n",
       "    button.classList = 'btn btn-mini btn-primary';\n",
       "    button.href = '#';\n",
       "    button.title = 'Stop Interaction';\n",
       "    button.innerHTML = '<i class=\"fa fa-power-off icon-remove icon-large\"></i>';\n",
       "    button.addEventListener('click', function (_evt) {\n",
       "        fig.handle_close(fig, {});\n",
       "    });\n",
       "    button.addEventListener(\n",
       "        'mouseover',\n",
       "        on_mouseover_closure('Stop Interaction')\n",
       "    );\n",
       "    buttongrp.appendChild(button);\n",
       "    var titlebar = this.root.querySelector('.ui-dialog-titlebar');\n",
       "    titlebar.insertBefore(buttongrp, titlebar.firstChild);\n",
       "};\n",
       "\n",
       "mpl.figure.prototype._remove_fig_handler = function (event) {\n",
       "    var fig = event.data.fig;\n",
       "    fig.close_ws(fig, {});\n",
       "};\n",
       "\n",
       "mpl.figure.prototype._root_extra_style = function (el) {\n",
       "    el.style.boxSizing = 'content-box'; // override notebook setting of border-box.\n",
       "};\n",
       "\n",
       "mpl.figure.prototype._canvas_extra_style = function (el) {\n",
       "    // this is important to make the div 'focusable\n",
       "    el.setAttribute('tabindex', 0);\n",
       "    // reach out to IPython and tell the keyboard manager to turn it's self\n",
       "    // off when our div gets focus\n",
       "\n",
       "    // location in version 3\n",
       "    if (IPython.notebook.keyboard_manager) {\n",
       "        IPython.notebook.keyboard_manager.register_events(el);\n",
       "    } else {\n",
       "        // location in version 2\n",
       "        IPython.keyboard_manager.register_events(el);\n",
       "    }\n",
       "};\n",
       "\n",
       "mpl.figure.prototype._key_event_extra = function (event, _name) {\n",
       "    var manager = IPython.notebook.keyboard_manager;\n",
       "    if (!manager) {\n",
       "        manager = IPython.keyboard_manager;\n",
       "    }\n",
       "\n",
       "    // Check for shift+enter\n",
       "    if (event.shiftKey && event.which === 13) {\n",
       "        this.canvas_div.blur();\n",
       "        // select the cell after this one\n",
       "        var index = IPython.notebook.find_cell_index(this.cell_info[0]);\n",
       "        IPython.notebook.select(index + 1);\n",
       "    }\n",
       "};\n",
       "\n",
       "mpl.figure.prototype.handle_save = function (fig, _msg) {\n",
       "    fig.ondownload(fig, null);\n",
       "};\n",
       "\n",
       "mpl.find_output_cell = function (html_output) {\n",
       "    // Return the cell and output element which can be found *uniquely* in the notebook.\n",
       "    // Note - this is a bit hacky, but it is done because the \"notebook_saving.Notebook\"\n",
       "    // IPython event is triggered only after the cells have been serialised, which for\n",
       "    // our purposes (turning an active figure into a static one), is too late.\n",
       "    var cells = IPython.notebook.get_cells();\n",
       "    var ncells = cells.length;\n",
       "    for (var i = 0; i < ncells; i++) {\n",
       "        var cell = cells[i];\n",
       "        if (cell.cell_type === 'code') {\n",
       "            for (var j = 0; j < cell.output_area.outputs.length; j++) {\n",
       "                var data = cell.output_area.outputs[j];\n",
       "                if (data.data) {\n",
       "                    // IPython >= 3 moved mimebundle to data attribute of output\n",
       "                    data = data.data;\n",
       "                }\n",
       "                if (data['text/html'] === html_output) {\n",
       "                    return [cell, data, j];\n",
       "                }\n",
       "            }\n",
       "        }\n",
       "    }\n",
       "};\n",
       "\n",
       "// Register the function which deals with the matplotlib target/channel.\n",
       "// The kernel may be null if the page has been refreshed.\n",
       "if (IPython.notebook.kernel !== null) {\n",
       "    IPython.notebook.kernel.comm_manager.register_target(\n",
       "        'matplotlib',\n",
       "        mpl.mpl_figure_comm\n",
       "    );\n",
       "}\n"
      ],
      "text/plain": [
       "<IPython.core.display.Javascript object>"
      ]
     },
     "metadata": {},
     "output_type": "display_data"
    },
    {
     "data": {
      "text/html": [
       "<img src=\"data:image/png;base64,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\" width=\"300\">"
      ],
      "text/plain": [
       "<IPython.core.display.HTML object>"
      ]
     },
     "metadata": {},
     "output_type": "display_data"
    }
   ],
   "source": [
    "plot_pct_expl(plot_data, 'randlabels')"
   ]
  },
  {
   "cell_type": "code",
   "execution_count": 303,
   "metadata": {},
   "outputs": [],
   "source": [
    "import mplayer\n",
    "p = mplayer.Player()\n",
    "success_file = '/Users/johnbachman/Downloads/success.m4a'\n",
    "p.loadfile(success_file)"
   ]
  },
  {
   "cell_type": "markdown",
   "metadata": {},
   "source": [
    "Get the stats_df for the explainer and add a column to the explainer indicating whether the pair is in BioGrid or not:"
   ]
  },
  {
   "cell_type": "code",
   "execution_count": null,
   "metadata": {},
   "outputs": [],
   "source": [
    "sdf_list = []\n",
    "edf_list = []\n",
    "for (corpus_type, rand_type, lb, ub), expl in explainers.items():\n",
    "    if corpus_type == 'all' and rand_type == 'norand' and lb >= 2.5:\n",
    "        sdf_list.append(expl.stats_df)\n",
    "        edf_list.append(expl.expl_df)"
   ]
  },
  {
   "cell_type": "code",
   "execution_count": null,
   "metadata": {},
   "outputs": [],
   "source": [
    "# Concatenate all the dataframes\n",
    "sdf = pd.concat(sdf_list, ignore_index=True).set_index('pair')\n",
    "\n",
    "# Make a set of tuples for comparison to BioGrid\n",
    "pair_tups = set()\n",
    "for row in sdf.itertuples():\n",
    "    pair_tups.add(tuple(sorted([row.agA, row.agB])))\n",
    "in_bg_tups = pair_tups.intersection(bg_tuples)\n",
    "in_bg_ix = [f'{t[0]}_{t[1]}' for t in in_bg_tups]\n",
    "\n",
    "# Add Biogrid column to the dataframe\n",
    "sdf['in_biogrid'] = False\n",
    "sdf.loc[in_bg_ix, 'in_biogrid'] = True\n",
    "\n",
    "# Join the expl_df to the stats_df\n",
    "sdf_for_join = sdf.drop(['agA', 'agB', 'z_score'], axis=1)\n",
    "edf = pd.concat(edf_list, ignore_index=True).join(sdf_for_join, on='pair')\n"
   ]
  },
  {
   "cell_type": "markdown",
   "metadata": {},
   "source": [
    "Total number of correlations:"
   ]
  },
  {
   "cell_type": "code",
   "execution_count": null,
   "metadata": {},
   "outputs": [],
   "source": [
    "len(sdf)"
   ]
  },
  {
   "cell_type": "markdown",
   "metadata": {},
   "source": [
    "After filtering out the mito correlations:"
   ]
  },
  {
   "cell_type": "code",
   "execution_count": null,
   "metadata": {
    "scrolled": true
   },
   "outputs": [],
   "source": [
    "len(sdf[sdf['apriori_explained'] == False])"
   ]
  },
  {
   "cell_type": "markdown",
   "metadata": {},
   "source": [
    "...and pairs explained by Reactome pathways:"
   ]
  },
  {
   "cell_type": "code",
   "execution_count": null,
   "metadata": {},
   "outputs": [],
   "source": [
    "len(sdf[(sdf['reactome_paths'] == False) &\n",
    "        (sdf['apriori_explained'] == False)])"
   ]
  },
  {
   "cell_type": "markdown",
   "metadata": {},
   "source": [
    "...and pairs in BioGrid:"
   ]
  },
  {
   "cell_type": "code",
   "execution_count": null,
   "metadata": {},
   "outputs": [],
   "source": [
    "len(sdf[(sdf['reactome_paths'] == False) &\n",
    "        (sdf['apriori_explained'] == False) &\n",
    "        (sdf['in_biogrid'] == False)\n",
    "       ])"
   ]
  },
  {
   "cell_type": "markdown",
   "metadata": {},
   "source": [
    "The number of these that we can explain is:"
   ]
  },
  {
   "cell_type": "code",
   "execution_count": null,
   "metadata": {},
   "outputs": [],
   "source": [
    "len(sdf[(sdf['reactome_paths'] == False) &\n",
    "        (sdf['apriori_explained'] == False) &\n",
    "        (sdf['in_biogrid'] == False) &\n",
    "        (sdf['explained'] == True)])"
   ]
  },
  {
   "cell_type": "markdown",
   "metadata": {},
   "source": [
    "Add column for max belief for entries with direct explanations:"
   ]
  },
  {
   "cell_type": "code",
   "execution_count": null,
   "metadata": {},
   "outputs": [],
   "source": [
    "edf['max_belief'] = 0\n",
    "edf['reading_only'] = float('nan')"
   ]
  },
  {
   "cell_type": "code",
   "execution_count": null,
   "metadata": {},
   "outputs": [],
   "source": [
    "novel = edf[(edf['reactome_paths'] == False) &\n",
    "            (edf['apriori_explained'] == False) &\n",
    "            (edf['in_biogrid'] == False) &\n",
    "            (edf['explained'] == True)]"
   ]
  },
  {
   "cell_type": "code",
   "execution_count": null,
   "metadata": {},
   "outputs": [],
   "source": [
    "novel.columns"
   ]
  },
  {
   "cell_type": "markdown",
   "metadata": {},
   "source": [
    "Get the subset of these explained by direct connections:"
   ]
  },
  {
   "cell_type": "code",
   "execution_count": null,
   "metadata": {},
   "outputs": [],
   "source": [
    "novel_dir = novel[(novel['expl_type'] == 'a_b') |\n",
    "                  (novel['expl_type'] == 'b_a')]"
   ]
  },
  {
   "cell_type": "markdown",
   "metadata": {},
   "source": [
    "How many total unique correlations explained this way?"
   ]
  },
  {
   "cell_type": "code",
   "execution_count": null,
   "metadata": {},
   "outputs": [],
   "source": [
    "len(novel_dir.pair.unique())"
   ]
  },
  {
   "cell_type": "markdown",
   "metadata": {},
   "source": [
    "Set the max_belief column:"
   ]
  },
  {
   "cell_type": "code",
   "execution_count": null,
   "metadata": {},
   "outputs": [],
   "source": [
    "def max_belief(series):\n",
    "    ix_list = []\n",
    "    mb_list = []\n",
    "    for ix, expl_data in series.iteritems():\n",
    "        max_bel = max([d['belief'] for d in expl_data])\n",
    "        mb_list.append(max_bel)\n",
    "        ix_list.append(ix)\n",
    "    return ix_list, mb_list\n",
    "\n",
    "ix, mb = max_belief(novel_dir.expl_data)\n",
    "novel_dir.loc[ix, 'max_belief'] = mb"
   ]
  },
  {
   "cell_type": "markdown",
   "metadata": {},
   "source": [
    "Add in a field for whether the explanations are from reading only:"
   ]
  },
  {
   "cell_type": "code",
   "execution_count": null,
   "metadata": {},
   "outputs": [],
   "source": [
    "def reading_only(series):\n",
    "    readers = set(['reach', 'sparser', 'medscan', 'rlimsp', 'trips'])\n",
    "    ix_list = []\n",
    "    ro_list = []\n",
    "    for ix, expl_data in series.iteritems():\n",
    "        all_sources = set()\n",
    "        for expl_stmt in expl_data:\n",
    "            all_sources |= set(expl_stmt['source_counts'].keys())\n",
    "        is_ro = True if all_sources < readers else False\n",
    "        ix_list.append(ix)\n",
    "        ro_list.append(is_ro)\n",
    "    return ix_list, ro_list\n",
    "\n",
    "ix, ro = reading_only(novel_dir.expl_data)\n",
    "novel_dir.loc[ix, 'reading_only'] = ro"
   ]
  },
  {
   "cell_type": "code",
   "execution_count": null,
   "metadata": {},
   "outputs": [],
   "source": [
    "nov_dir_ro = novel_dir[novel_dir.reading_only == True][['pair', 'z_score', 'max_belief', 'expl_type', 'expl_data']]"
   ]
  },
  {
   "cell_type": "code",
   "execution_count": null,
   "metadata": {
    "scrolled": false
   },
   "outputs": [],
   "source": [
    "nov_dir_ro.sort_values(by='max_belief', ascending=False)[0:50]"
   ]
  },
  {
   "cell_type": "code",
   "execution_count": null,
   "metadata": {},
   "outputs": [],
   "source": [
    "nov_dir_ro.loc[2108].expl_data"
   ]
  },
  {
   "cell_type": "markdown",
   "metadata": {},
   "source": [
    "Open the files dumped by the script above to get the DepMapExplainer objects:"
   ]
  },
  {
   "cell_type": "code",
   "execution_count": null,
   "metadata": {},
   "outputs": [],
   "source": [
    "dme_db.stats_df[dme_db.stats_df['explained'] == True]"
   ]
  },
  {
   "cell_type": "code",
   "execution_count": null,
   "metadata": {},
   "outputs": [],
   "source": [
    "dme_all.stats_df[dme_all.stats_df['explained'] == True]"
   ]
  },
  {
   "cell_type": "markdown",
   "metadata": {},
   "source": [
    "Plot max belief score vs. pair correlation"
   ]
  },
  {
   "cell_type": "code",
   "execution_count": null,
   "metadata": {},
   "outputs": [],
   "source": [
    "dme_all.stats_df.shape"
   ]
  },
  {
   "cell_type": "code",
   "execution_count": null,
   "metadata": {},
   "outputs": [],
   "source": [
    "zsc_all = dme_all.stats_df[dme_all.stats_df['explained'] == True].z_score.abs()\n",
    "zsc_db = dme_db.stats_df[dme_db.stats_df['explained'] == True].z_score.abs()"
   ]
  },
  {
   "cell_type": "code",
   "execution_count": null,
   "metadata": {},
   "outputs": [],
   "source": [
    "fig = plt.figure(figsize=(2, 2), dpi=150)\n",
    "ax = plt.gca()\n",
    "sns.histplot(zsc_all, stat='count', element='poly', color='blue', ax=ax, fill=False, label='All')\n",
    "sns.histplot(zsc_db, stat='count', element='poly', color='red', ax=ax, fill=False, label='DB only')\n",
    "plt.legend(loc='upper right', fontsize=7, frameon=False)\n",
    "plt.title('Number of explained correlations', fontsize=7)\n",
    "format_axis(ax)\n",
    "plt.subplots_adjust(left=0.18)\n",
    "plt.savefig(fig_path('num_expl_corrs_db_vs_all', 'pdf'))\n",
    "#sns.displot(zsc_db, color='red')\n",
    "#sns.distplot(zsc_db)"
   ]
  },
  {
   "cell_type": "code",
   "execution_count": null,
   "metadata": {},
   "outputs": [],
   "source": [
    "dme_all_pair = dme_all.stats_df.set_index('pair').drop(['agA', 'agB', 'z_score'], axis=1)\n",
    "dme_all_df = dme_all.expl_df.join(dme_all_pair, on='pair')"
   ]
  },
  {
   "cell_type": "code",
   "execution_count": null,
   "metadata": {},
   "outputs": [],
   "source": [
    "counter = 0\n",
    "expl_summary = []\n",
    "for gb_key, gb_df in tqdm(dme_all.expl_df.groupby('pair')):\n",
    "    all_beliefs = []\n",
    "    ev_ct = 0\n",
    "    num_stmts = 0\n",
    "    stmt_types = set()\n",
    "    only_cp = True\n",
    "    for row in gb_df.itertuples():\n",
    "        if row.expl_type in ('a_b', 'b_a'):\n",
    "            num_stmts += len(row.expl_data)\n",
    "            for stmt_info in row.expl_data:\n",
    "                ev_ct += stmt_info['evidence_count']\n",
    "                stmt_types.add(stmt_info['stmt_type'])\n",
    "                stmt = stmts_by_hash[stmt_info['stmt_hash']]\n",
    "                all_beliefs.append(stmt.belief)\n",
    "                z_score = row.z_score\n",
    "            only_cp = False\n",
    "    if only_cp:\n",
    "        continue\n",
    "    max_belief = np.max(all_beliefs)\n",
    "    avg_belief = np.mean(all_beliefs)\n",
    "    pair_info = {'pair': gb_key,\n",
    "                 'num_stmts': num_stmts,\n",
    "                 'ev_ct': ev_ct,\n",
    "                 'num_stmt_types': len(stmt_types),\n",
    "                 'max_belief': np.max(all_beliefs),\n",
    "                 'avg_belief': np.mean(all_beliefs),\n",
    "                 'z_score': z_score,\n",
    "                 'abs_z_score': abs(z_score),\n",
    "                }\n",
    "    expl_summary.append(pair_info)"
   ]
  },
  {
   "cell_type": "code",
   "execution_count": null,
   "metadata": {},
   "outputs": [],
   "source": [
    "dme_all_df.columns"
   ]
  },
  {
   "cell_type": "code",
   "execution_count": null,
   "metadata": {},
   "outputs": [],
   "source": [
    "dme_all_sum_df = pd.DataFrame.from_records(expl_summary, index='pair')"
   ]
  },
  {
   "cell_type": "code",
   "execution_count": null,
   "metadata": {},
   "outputs": [],
   "source": [
    "fig = plt.figure(figsize=(2, 2), dpi=150)\n",
    "sns.scatterplot(x='abs_z_score', y='ev_ct', data=dme_all_sum_df, s=1.5)\n",
    "ax = plt.gca()\n",
    "ax.set_yscale('log')\n",
    "plt.subplots_adjust(left=0.15, bottom=0.15)\n",
    "format_axis(ax)"
   ]
  },
  {
   "cell_type": "code",
   "execution_count": null,
   "metadata": {},
   "outputs": [],
   "source": [
    "dme_all_sum_df.corr()\n"
   ]
  },
  {
   "cell_type": "code",
   "execution_count": null,
   "metadata": {},
   "outputs": [],
   "source": [
    "dasd = dme_all_sum_df"
   ]
  },
  {
   "cell_type": "code",
   "execution_count": null,
   "metadata": {},
   "outputs": [],
   "source": [
    "dasd[dasd['max_belief'] < 0.25].sort_values('abs_z_score', ascending=False)"
   ]
  },
  {
   "cell_type": "code",
   "execution_count": null,
   "metadata": {},
   "outputs": [],
   "source": [
    "dme_all"
   ]
  },
  {
   "cell_type": "code",
   "execution_count": null,
   "metadata": {},
   "outputs": [],
   "source": [
    "plt.gca()"
   ]
  },
  {
   "cell_type": "code",
   "execution_count": null,
   "metadata": {
    "code_folding": []
   },
   "outputs": [],
   "source": [
    "pos_types = set(['Activation', 'IncreaseAmount'])\n",
    "neg_types = set(['Inhibition', 'DecreaseAmount'])\n",
    "\n",
    "mitocarta = pd.read_excel('../../depmap_analysis/notebooks/data/Human.MitoCarta3.0.xls', sheet_name=1)\n",
    "mitogenes = list(mitocarta.Symbol.values)\n",
    "\n",
    "def get_expl_stats(dme):\n",
    "    # Iterate over explanations for pair\n",
    "    stats = dme.stats_df.set_index('pair')\n",
    "    expl_summary = []\n",
    "    expl_hashes = {}\n",
    "    for gb_key, gb_df in tqdm(dme.expl_df.groupby('pair')):\n",
    "        # Skip mitochondrial correlations\n",
    "        agA, agB = gb_key.split('_')\n",
    "        if agA in mitogenes or agB in mitogenes:\n",
    "            continue\n",
    "        pair_hashes = set()\n",
    "        for row in gb_df.itertuples():\n",
    "            for stmt_info in row.expl_data:\n",
    "                pair_hashes.add(stmt_info['stmt_hash'])\n",
    "        expl_hashes[gb_key] = pair_hashes\n",
    "        corr = stats.loc[gb_key].z_score\n",
    "        stmts = [stmts_by_hash[h] for h in pair_hashes]\n",
    "        stmt_types = set([s.__class__.__name__ for s in stmts])\n",
    "        # Check only positive types\n",
    "        if not stmt_types.difference(pos_types):\n",
    "            sign = 'positive'\n",
    "        # Check only negative types\n",
    "        elif not stmt_types.difference(neg_types):\n",
    "            sign = 'negative'\n",
    "        else:\n",
    "            sign = 'mixed'\n",
    "        expl_summary.append((gb_key, corr, len(pair_hashes), list(pair_hashes), sign, stmts))\n",
    "    return expl_summary"
   ]
  },
  {
   "cell_type": "code",
   "execution_count": null,
   "metadata": {},
   "outputs": [],
   "source": [
    "expl_db = get_expl_stats(dme_db)"
   ]
  },
  {
   "cell_type": "code",
   "execution_count": null,
   "metadata": {},
   "outputs": [],
   "source": [
    "expl_all = get_expl_stats(dme_all)"
   ]
  },
  {
   "cell_type": "code",
   "execution_count": null,
   "metadata": {},
   "outputs": [],
   "source": [
    "pairs, z_scores, num_stmts, hashes, sign, stmts = zip(*expl_all)"
   ]
  },
  {
   "cell_type": "code",
   "execution_count": null,
   "metadata": {},
   "outputs": [],
   "source": [
    "len(expl_db)"
   ]
  },
  {
   "cell_type": "code",
   "execution_count": null,
   "metadata": {},
   "outputs": [],
   "source": [
    "len(expl_all)"
   ]
  },
  {
   "cell_type": "code",
   "execution_count": null,
   "metadata": {},
   "outputs": [],
   "source": [
    "expl = [e for e in expl_all if e[2] >200]"
   ]
  },
  {
   "cell_type": "code",
   "execution_count": null,
   "metadata": {
    "scrolled": true
   },
   "outputs": [],
   "source": [
    "[stmts_by_hash[h] for h in expl[0][3]]"
   ]
  },
  {
   "cell_type": "code",
   "execution_count": null,
   "metadata": {
    "scrolled": false
   },
   "outputs": [],
   "source": [
    "def rand_jitter(arr, jitter=0.01):\n",
    "    stdev = jitter * (max(arr)-min(arr))\n",
    "    return arr + np.random.randn(len(arr)) * stdev\n",
    "\n",
    "plt.figure()\n",
    "pos = [e for e in expl_all if e[4] == 'positive']\n",
    "neg = [e for e in expl_all if e[4] == 'negative']\n",
    "mixed = [e for e in expl_all if e[4] == 'mixed']\n",
    "\n",
    "points = [(mixed, 'gray'), (pos, 'red'), (neg, 'blue')]\n",
    "for data, color in points:\n",
    "    plt.plot([t[1] for t in data],\n",
    "             rand_jitter([t[2] for t in data], jitter=0.1),\n",
    "             linestyle='', marker='.', markersize=3, color=color, alpha=0.2)\n",
    "plt.ylim(0, 5)"
   ]
  },
  {
   "cell_type": "code",
   "execution_count": null,
   "metadata": {},
   "outputs": [],
   "source": [
    "contra = [expl for expl in expl_all if (expl[1] < 0 and expl[4] == 'positive') or\n",
    "                                       (expl[1] > 0 and expl[4] == 'negative')]\n",
    "contra.sort(key=lambda x: abs(x[1]), reverse=True)"
   ]
  },
  {
   "cell_type": "code",
   "execution_count": null,
   "metadata": {},
   "outputs": [],
   "source": [
    "len(contra)"
   ]
  },
  {
   "cell_type": "code",
   "execution_count": null,
   "metadata": {},
   "outputs": [],
   "source": [
    "list(zip(range(len(contra)), contra))"
   ]
  },
  {
   "cell_type": "code",
   "execution_count": null,
   "metadata": {},
   "outputs": [],
   "source": [
    "contra[9]"
   ]
  },
  {
   "cell_type": "code",
   "execution_count": null,
   "metadata": {},
   "outputs": [],
   "source": [
    "contra[9][-1][0].evidence"
   ]
  },
  {
   "cell_type": "code",
   "execution_count": null,
   "metadata": {},
   "outputs": [],
   "source": []
  }
 ],
 "metadata": {
  "hide_input": false,
  "kernelspec": {
   "display_name": "Python 3",
   "language": "python",
   "name": "python3"
  },
  "language_info": {
   "codemirror_mode": {
    "name": "ipython",
    "version": 3
   },
   "file_extension": ".py",
   "mimetype": "text/x-python",
   "name": "python",
   "nbconvert_exporter": "python",
   "pygments_lexer": "ipython3",
   "version": "3.7.4"
  }
 },
 "nbformat": 4,
 "nbformat_minor": 2
}
