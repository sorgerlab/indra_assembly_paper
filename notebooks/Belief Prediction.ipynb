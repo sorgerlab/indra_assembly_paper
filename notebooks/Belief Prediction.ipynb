{
 "cells": [
  {
   "cell_type": "markdown",
   "metadata": {},
   "source": [
    "# Estimating the reliability of relations extracted by multiple biomedical reading systems with minimal training data"
   ]
  },
  {
   "cell_type": "markdown",
   "metadata": {},
   "source": [
    "## Abstract"
   ]
  },
  {
   "cell_type": "markdown",
   "metadata": {},
   "source": [
    "Abstract"
   ]
  },
  {
   "cell_type": "markdown",
   "metadata": {},
   "source": [
    "## Introduction"
   ]
  },
  {
   "cell_type": "markdown",
   "metadata": {},
   "source": [
    "Text mining is an increasingly effective tool for extracting structured information from the scientific literature for use in search, data analysis, and modeling (REFs). In the biomedical sciences, both commercial and non-commercial tools have been developed to extract many types of information, including protein-protein interactions (REFs), gene-disease relationships (REFs), and information on gene regulation and function (REFs). With growing interest in rapidly compiling systematic knowledge networks to accelerate discovery, especially in the context of emerging health crises such as COVID-19, interest in and applications of these natural language processing (NLP)  systems is likely to increase (REFs).\n",
    "\n",
    "As the number and diversity of biomedical NLP systems has increased, it has become increasingly desirable to combine the results from more than one system to boost both the precision and recall of the information extracted. One of the key technical challenges in combining information is the need to estimate the reliability of extractions derived from multiple systems. Combining predictions from multiple classifiers is a well-established way of boosting performance in machine learning applications (REFs). Typically this is achieved by tuning the relative contributions of each classifier using a gold-standard dataset. However, in domains where training data is scarce, as is the case for many biomedical NLP tasks, systems may be based on deterministic rules or heuristics rather than supervised learning, making estimates of reliability difficult even for a single reading system. Even when combining systems based on supervised learning, the data used for the original training and validation may be sufficiently different from the target domain as to make assessments of recall and precision unreliable. This can occur when processing full-text articles after training only on abstracts, or transitioning to a very broad set of documents (e.g. all of PubMed) after training on only highly relevant documents.\n",
    "\n",
    "In this paper we describe a straightforward approach to estimating joint extraction precision that only requires estimates of the precision of each component reader by assuming that reader errors are independent. These precision values can be based on limited manual curation or even *a priori* estimates. To demonstrate the approach, we obtained a corpus of relations by processing 570,000 scientific abstracts and full-texts with five different reading systems, and manually curated ~1,000 relations supported by ~5,000 underlying sentences for correctness. Using this dataset, we show that even though reader errors are *in fact* correlated, assuming error independence yields relation \"belief scores\" that, though not representing calibrated probabilities, nevertheless serve as a metric that can be used to adjust the false discovery rate in downstream applications. The receiver-operator characteristics of this approach are comparable to logistic regression and other classification methods, while requiring far less data. In real-world applications where reader overlap is minimal, belief scores are nearly as effective as exact knowledge of the joint probability distribution in separating correct from incorrect extractions."
   ]
  },
  {
   "cell_type": "markdown",
   "metadata": {
    "hide_input": true
   },
   "source": [
    "## Results"
   ]
  },
  {
   "cell_type": "markdown",
   "metadata": {},
   "source": [
    "### Article corpus, extracted relations, and curated dataset"
   ]
  },
  {
   "cell_type": "markdown",
   "metadata": {},
   "source": [
    "For this study we defined a corpus of ~580,000 scientific articles enriched for information on protein interactions by searching the Entrez gene database for articles manually curated as relevant to one or more human genes (REF Entrez?). For these articles we obtained <span class=\"mark\">XXX</span> abstracts and <span class=\"mark\">YYY</span> full texts; abstracts were obtained from MEDLINE, full texts were obtained from either 1) the PubMed Central open access subset, 2) the PubMed author's manuscript collection, or 3) the Elsevier text and data mining API.\n",
    "\n",
    "From these articles we combined extractions from five reading systems: REACH (REF), Sparser (REF), Medscan (REF), RLIMS-P (REF), and TRIPS (REF) and used the INDRA assembly system to normalize the resulting extractions into a consistent format (INDRA Ref). 81% of the assembled relations were obtained from only a single reading system, with the remaining 19% from two or more (<span class=\"mark\">Tables 1 and 2 and Figure 1</span>)."
   ]
  },
  {
   "cell_type": "code",
   "execution_count": 1,
   "metadata": {
    "code_folding": [
     0
    ],
    "hide_input": false,
    "scrolled": true
   },
   "outputs": [],
   "source": [
    "# Imports.\n",
    "import pickle\n",
    "import itertools\n",
    "from collections import Counter\n",
    "from tqdm import tqdm\n",
    "import numpy as np\n",
    "import pandas as pd\n",
    "from venn import venn\n",
    "from scipy import interp\n",
    "import matplotlib.pyplot as plt\n",
    "from sklearn import metrics\n",
    "from sklearn.preprocessing import LabelEncoder\n",
    "from sklearn.ensemble import RandomForestClassifier\n",
    "from sklearn.linear_model import LogisticRegression\n",
    "from sklearn.model_selection import train_test_split, cross_validate\n",
    "from sklearn.metrics import roc_curve, auc, classification_report, precision_recall_curve\n",
    "from indra.tools import assemble_corpus as ac\n",
    "\n",
    "%matplotlib notebook"
   ]
  },
  {
   "cell_type": "code",
   "execution_count": 2,
   "metadata": {
    "code_folding": [
     0
    ],
    "hide_input": false,
    "scrolled": true
   },
   "outputs": [
    {
     "name": "stderr",
     "output_type": "stream",
     "text": [
      "INFO: [2020-09-28 15:19:40] indra.tools.assemble_corpus - Loading ../data/bioexp_asmb_preassembled.pkl...\n",
      "INFO: [2020-09-28 15:20:44] indra.tools.assemble_corpus - Loaded 895580 statements\n"
     ]
    }
   ],
   "source": [
    "# Load pickle of assembled statements.\n",
    "all_stmts = ac.load_statements('../data/bioexp_asmb_preassembled.pkl')"
   ]
  },
  {
   "cell_type": "code",
   "execution_count": 3,
   "metadata": {
    "code_folding": []
   },
   "outputs": [
    {
     "name": "stderr",
     "output_type": "stream",
     "text": [
      "100%|██████████| 895580/895580 [00:03<00:00, 292381.41it/s]\n"
     ]
    }
   ],
   "source": [
    "# Filter out statements with None agents and those with only DB support.\n",
    "# The list of readers: \n",
    "reader_list = ['reach', 'sparser', 'medscan', 'rlimsp', 'trips']\n",
    "reader_abbrevs = {'reach': 'R', 'sparser': 'S', 'medscan': 'M',\n",
    "                  'rlimsp': 'P', 'trips': 'T'}\n",
    "reader_stmts = []\n",
    "for stmt in tqdm(all_stmts):\n",
    "    if None in stmt.agent_list():\n",
    "        continue\n",
    "    if not set([ev.source_api for ev in stmt.evidence]).intersection(set(reader_list)):\n",
    "        continue\n",
    "    reader_stmts.append(stmt)\n",
    "    "
   ]
  },
  {
   "cell_type": "code",
   "execution_count": 62,
   "metadata": {
    "code_folding": [],
    "hide_input": false
   },
   "outputs": [],
   "source": [
    "# Load and preprocess the curation dataset.\n",
    "\n",
    "curation_data_file = 'kge_dataset.pkl'\n",
    "\n",
    "def load_curation_data(filename):\n",
    "    with open(filename, 'rb') as f:\n",
    "        dataset = pickle.load(f)\n",
    "        df = pd.DataFrame.from_records(dataset)\n",
    "        df = df.fillna(0)\n",
    "    # Every column except agent names and stmt type should be int\n",
    "    dtype_dict = {col: 'int64' for col in df.columns\n",
    "                  if col not in ('agA_name', 'stmt_type', 'agB_name')}\n",
    "    df = df.astype(dtype_dict)\n",
    "    return df\n",
    "\n",
    "def binarize_count_data(df):\n",
    "    # First convert to true/false\n",
    "    dtype_dict = {col: 'bool' for col in df.columns\n",
    "                  if col not in ('stmt_num', 'stmt_hash', 'agA_name', 'stmt_type', 'agB_name')}\n",
    "    bin_df = df.astype(dtype_dict)\n",
    "    # Then convert true/false into 1/0\n",
    "    dtype_dict = {col: 'int64' for col in df.columns\n",
    "                  if col not in ('stmt_num', 'stmt_hash', 'agA_name', 'stmt_type', 'agB_name')}\n",
    "    bin_df = bin_df.astype(dtype_dict)\n",
    "    return bin_df\n",
    "\n",
    "kge_df = load_curation_data(curation_data_file)\n",
    "bin_df = binarize_count_data(kge_df)"
   ]
  },
  {
   "cell_type": "code",
   "execution_count": 1221,
   "metadata": {
    "code_folding": [],
    "hide_input": false,
    "scrolled": true
   },
   "outputs": [
    {
     "name": "stderr",
     "output_type": "stream",
     "text": [
      "100%|██████████| 705022/705022 [00:35<00:00, 19725.57it/s]\n",
      "100%|██████████| 705022/705022 [00:01<00:00, 396450.38it/s]\n"
     ]
    },
    {
     "data": {
      "text/html": [
       "<div>\n",
       "<style scoped>\n",
       "    .dataframe tbody tr th:only-of-type {\n",
       "        vertical-align: middle;\n",
       "    }\n",
       "\n",
       "    .dataframe tbody tr th {\n",
       "        vertical-align: top;\n",
       "    }\n",
       "\n",
       "    .dataframe thead th {\n",
       "        text-align: right;\n",
       "    }\n",
       "</style>\n",
       "<table border=\"1\" class=\"dataframe\">\n",
       "  <thead>\n",
       "    <tr style=\"text-align: right;\">\n",
       "      <th></th>\n",
       "      <th>Corpus Freq.</th>\n",
       "      <th>Curation Freq.</th>\n",
       "    </tr>\n",
       "    <tr>\n",
       "      <th>Readers</th>\n",
       "      <th></th>\n",
       "      <th></th>\n",
       "    </tr>\n",
       "  </thead>\n",
       "  <tbody>\n",
       "    <tr>\n",
       "      <th>(R, _, _, _, _)</th>\n",
       "      <td>0.449950</td>\n",
       "      <td>0.180171</td>\n",
       "    </tr>\n",
       "    <tr>\n",
       "      <th>(_, _, M, _, _)</th>\n",
       "      <td>0.201791</td>\n",
       "      <td>0.000000</td>\n",
       "    </tr>\n",
       "    <tr>\n",
       "      <th>(_, S, _, _, _)</th>\n",
       "      <td>0.153938</td>\n",
       "      <td>0.034115</td>\n",
       "    </tr>\n",
       "    <tr>\n",
       "      <th>(R, _, M, _, _)</th>\n",
       "      <td>0.078537</td>\n",
       "      <td>0.069296</td>\n",
       "    </tr>\n",
       "    <tr>\n",
       "      <th>(R, S, _, _, _)</th>\n",
       "      <td>0.049878</td>\n",
       "      <td>0.067164</td>\n",
       "    </tr>\n",
       "    <tr>\n",
       "      <th>(R, S, M, _, _)</th>\n",
       "      <td>0.028466</td>\n",
       "      <td>0.060768</td>\n",
       "    </tr>\n",
       "    <tr>\n",
       "      <th>(_, S, M, _, _)</th>\n",
       "      <td>0.010037</td>\n",
       "      <td>0.005330</td>\n",
       "    </tr>\n",
       "    <tr>\n",
       "      <th>(R, S, M, _, T)</th>\n",
       "      <td>0.005133</td>\n",
       "      <td>0.154584</td>\n",
       "    </tr>\n",
       "    <tr>\n",
       "      <th>(_, _, _, _, T)</th>\n",
       "      <td>0.004401</td>\n",
       "      <td>0.065032</td>\n",
       "    </tr>\n",
       "    <tr>\n",
       "      <th>(_, _, _, P, _)</th>\n",
       "      <td>0.002933</td>\n",
       "      <td>0.051173</td>\n",
       "    </tr>\n",
       "    <tr>\n",
       "      <th>(R, S, _, _, T)</th>\n",
       "      <td>0.002142</td>\n",
       "      <td>0.028785</td>\n",
       "    </tr>\n",
       "    <tr>\n",
       "      <th>(R, S, _, P, _)</th>\n",
       "      <td>0.001684</td>\n",
       "      <td>0.040512</td>\n",
       "    </tr>\n",
       "    <tr>\n",
       "      <th>(R, _, M, _, T)</th>\n",
       "      <td>0.001678</td>\n",
       "      <td>0.026652</td>\n",
       "    </tr>\n",
       "    <tr>\n",
       "      <th>(R, _, _, _, T)</th>\n",
       "      <td>0.001563</td>\n",
       "      <td>0.017058</td>\n",
       "    </tr>\n",
       "    <tr>\n",
       "      <th>(R, S, M, P, _)</th>\n",
       "      <td>0.001248</td>\n",
       "      <td>0.036247</td>\n",
       "    </tr>\n",
       "    <tr>\n",
       "      <th>(_, _, M, _, T)</th>\n",
       "      <td>0.001211</td>\n",
       "      <td>0.019190</td>\n",
       "    </tr>\n",
       "    <tr>\n",
       "      <th>(_, S, _, P, _)</th>\n",
       "      <td>0.000984</td>\n",
       "      <td>0.009595</td>\n",
       "    </tr>\n",
       "    <tr>\n",
       "      <th>(_, S, _, _, T)</th>\n",
       "      <td>0.000977</td>\n",
       "      <td>0.018124</td>\n",
       "    </tr>\n",
       "    <tr>\n",
       "      <th>(_, S, M, _, T)</th>\n",
       "      <td>0.000911</td>\n",
       "      <td>0.018124</td>\n",
       "    </tr>\n",
       "    <tr>\n",
       "      <th>(R, _, _, P, _)</th>\n",
       "      <td>0.000722</td>\n",
       "      <td>0.018124</td>\n",
       "    </tr>\n",
       "    <tr>\n",
       "      <th>(R, S, M, P, T)</th>\n",
       "      <td>0.000509</td>\n",
       "      <td>0.039446</td>\n",
       "    </tr>\n",
       "    <tr>\n",
       "      <th>(_, _, M, P, _)</th>\n",
       "      <td>0.000269</td>\n",
       "      <td>0.005330</td>\n",
       "    </tr>\n",
       "    <tr>\n",
       "      <th>(R, S, _, P, T)</th>\n",
       "      <td>0.000265</td>\n",
       "      <td>0.013859</td>\n",
       "    </tr>\n",
       "    <tr>\n",
       "      <th>(_, S, M, P, _)</th>\n",
       "      <td>0.000245</td>\n",
       "      <td>0.007463</td>\n",
       "    </tr>\n",
       "    <tr>\n",
       "      <th>(_, S, _, P, T)</th>\n",
       "      <td>0.000193</td>\n",
       "      <td>0.003198</td>\n",
       "    </tr>\n",
       "    <tr>\n",
       "      <th>(R, _, M, P, _)</th>\n",
       "      <td>0.000150</td>\n",
       "      <td>0.001066</td>\n",
       "    </tr>\n",
       "    <tr>\n",
       "      <th>(R, _, _, P, T)</th>\n",
       "      <td>0.000051</td>\n",
       "      <td>0.001066</td>\n",
       "    </tr>\n",
       "    <tr>\n",
       "      <th>(_, S, M, P, T)</th>\n",
       "      <td>0.000045</td>\n",
       "      <td>0.005330</td>\n",
       "    </tr>\n",
       "    <tr>\n",
       "      <th>(_, _, _, P, T)</th>\n",
       "      <td>0.000037</td>\n",
       "      <td>0.001066</td>\n",
       "    </tr>\n",
       "    <tr>\n",
       "      <th>(R, _, M, P, T)</th>\n",
       "      <td>0.000030</td>\n",
       "      <td>0.002132</td>\n",
       "    </tr>\n",
       "    <tr>\n",
       "      <th>(_, _, M, P, T)</th>\n",
       "      <td>0.000020</td>\n",
       "      <td>0.000000</td>\n",
       "    </tr>\n",
       "  </tbody>\n",
       "</table>\n",
       "</div>"
      ],
      "text/plain": [
       "                 Corpus Freq.  Curation Freq.\n",
       "Readers                                      \n",
       "(R, _, _, _, _)      0.449950        0.180171\n",
       "(_, _, M, _, _)      0.201791        0.000000\n",
       "(_, S, _, _, _)      0.153938        0.034115\n",
       "(R, _, M, _, _)      0.078537        0.069296\n",
       "(R, S, _, _, _)      0.049878        0.067164\n",
       "(R, S, M, _, _)      0.028466        0.060768\n",
       "(_, S, M, _, _)      0.010037        0.005330\n",
       "(R, S, M, _, T)      0.005133        0.154584\n",
       "(_, _, _, _, T)      0.004401        0.065032\n",
       "(_, _, _, P, _)      0.002933        0.051173\n",
       "(R, S, _, _, T)      0.002142        0.028785\n",
       "(R, S, _, P, _)      0.001684        0.040512\n",
       "(R, _, M, _, T)      0.001678        0.026652\n",
       "(R, _, _, _, T)      0.001563        0.017058\n",
       "(R, S, M, P, _)      0.001248        0.036247\n",
       "(_, _, M, _, T)      0.001211        0.019190\n",
       "(_, S, _, P, _)      0.000984        0.009595\n",
       "(_, S, _, _, T)      0.000977        0.018124\n",
       "(_, S, M, _, T)      0.000911        0.018124\n",
       "(R, _, _, P, _)      0.000722        0.018124\n",
       "(R, S, M, P, T)      0.000509        0.039446\n",
       "(_, _, M, P, _)      0.000269        0.005330\n",
       "(R, S, _, P, T)      0.000265        0.013859\n",
       "(_, S, M, P, _)      0.000245        0.007463\n",
       "(_, S, _, P, T)      0.000193        0.003198\n",
       "(R, _, M, P, _)      0.000150        0.001066\n",
       "(R, _, _, P, T)      0.000051        0.001066\n",
       "(_, S, M, P, T)      0.000045        0.005330\n",
       "(_, _, _, P, T)      0.000037        0.001066\n",
       "(R, _, M, P, T)      0.000030        0.002132\n",
       "(_, _, M, P, T)      0.000020        0.000000"
      ]
     },
     "execution_count": 1221,
     "metadata": {},
     "output_type": "execute_result"
    }
   ],
   "source": [
    "# Table 1: Distribution of reader frequencies in corpus and curation data.\n",
    "# (excluding database only statements)\n",
    "\n",
    "def reader_set_to_tuple(rset, r_list, r_abbrevs):\n",
    "    \"\"\"Converts a frozen set of sources e.g. {reach, sparser} into a tuple \n",
    "       of the form (R, S, _, _, _) for use in displaying results.\"\"\"\n",
    "    rtup = []\n",
    "    # Follow the order of readers in reader_list\n",
    "    for r in r_list:\n",
    "        if r in rset:\n",
    "            rtup.append(r_abbrevs[r])\n",
    "        else:\n",
    "            rtup.append('_')\n",
    "    return tuple(rtup)\n",
    "\n",
    "def get_reader_freq_from_stmts(stmts, source_list, source_abbrevs):\n",
    "    \"\"\"Return dictionary showing frequency of reader combinations.\"\"\"\n",
    "    all_ev_cts = []\n",
    "    # Get unique reader evidence sources for each statement\n",
    "    for stmt in tqdm(stmts):\n",
    "        sources = frozenset([ev.source_api for ev in stmt.evidence\n",
    "                       if ev.source_api in source_list])\n",
    "        if sources:\n",
    "            all_ev_cts.append(sources)\n",
    "    # Build up a dictionary mapping the reader combinations (as frozensets) to their\n",
    "    # frequency in the set of statements\n",
    "    all_ev_ctr = Counter(all_ev_cts)\n",
    "    #all_ev_ctr_list = sorted([(k, (v / len(all_ev_cts)))\n",
    "    #                          for k, v in all_ev_ctr.items()], key=lambda x: x[1], reverse=True)\n",
    "    all_ev_ctr_dict = {reader_set_to_tuple(k, source_list, source_abbrevs):\n",
    "                       (v / len(all_ev_cts)) for k, v in all_ev_ctr.items()}\n",
    "    return all_ev_ctr_dict\n",
    "\n",
    "def get_reader_counts_from_stmts(stmts):\n",
    "    data = []\n",
    "    for stmt in tqdm(stmts):\n",
    "        ev_dict = dict(Counter([ev.source_api for ev in stmt.evidence]))\n",
    "        ev_dict['stmt_hash'] = stmt.get_hash()\n",
    "        ev_dict['stmt_type'] = stmt.__class__.__name__\n",
    "        ev_dict['agA_name'] = stmt.agent_list()[0].name\n",
    "        if len(stmt.agent_list()) == 2:\n",
    "            ev_dict['agB_name'] = stmt.agent_list()[1].name\n",
    "        else:\n",
    "            continue\n",
    "        data.append(ev_dict)\n",
    "    df = pd.DataFrame(data).fillna(0)\n",
    "    dtype_dict = {col: 'int64' for col in df.columns\n",
    "                  if col not in ('stmt_num', 'stmt_hash', 'agA_name', 'stmt_type', 'agB_name')}\n",
    "    return df.astype(dtype_dict)\n",
    "\n",
    "def get_reader_freq_from_curation(df, col_list, r_abbrevs=None):\n",
    "    \"\"\"Build up dictionary of the proportions of each evidence combination in the\n",
    "       curation dataset. Also return a mapping between the unique evidence combo\n",
    "       and a dataframe with the curated statements for that combination.\"\"\"\n",
    "    if r_abbrevs is None:\n",
    "        r_abbrevs = {c: c for c in col_list}\n",
    "    df_ev_dict = {}\n",
    "    total_rows = df.shape[0]\n",
    "    df_subgroup_dict = {}\n",
    "    for gb_key, gb_df in df.groupby(by=col_list):\n",
    "        freq = (gb_df.shape[0] / total_rows) # Proportion of rows from this group\n",
    "        label_set = frozenset([col for ix, col in enumerate(col_list)\n",
    "                               if gb_key[ix] == 1])\n",
    "        label_tup = reader_set_to_tuple(label_set, col_list, r_abbrevs)\n",
    "        df_ev_dict[label_tup] = freq\n",
    "        df_subgroup_dict[label_tup] = gb_df\n",
    "    return (df_ev_dict, df_subgroup_dict)\n",
    "\n",
    "def make_df(d, index_name, colname):\n",
    "    \"\"\"Build dataframe from a dictionary with dict keys as the index.\"\"\"\n",
    "    index, raw_cols = zip(*d.items())\n",
    "    cols = tuple([c for c in raw_cols])\n",
    "    index_obj = pd.Index(index, name=index_name, tupleize_cols=False)\n",
    "    return pd.DataFrame(cols, columns=[colname], index=index_obj)\n",
    "\n",
    "reader_counts = get_reader_counts_from_stmts(reader_stmts)\n",
    "reader_freqs = get_reader_freq_from_stmts(reader_stmts, reader_list, reader_abbrevs)\n",
    "curation_freqs, curation_dfs = get_reader_freq_from_curation(bin_df, reader_list, reader_abbrevs)\n",
    "stmt_freq_df = make_df(reader_freqs, 'Readers', 'Corpus Freq.')\n",
    "cur_freq_df = make_df(curation_freqs, 'Readers', 'Curation Freq.')\n",
    "stmt_freq_df.join(cur_freq_df).sort_values('Corpus Freq.', ascending=False).fillna(0)"
   ]
  },
  {
   "cell_type": "code",
   "execution_count": 1222,
   "metadata": {
    "code_folding": [
     0
    ],
    "hide_input": false,
    "scrolled": true
   },
   "outputs": [
    {
     "data": {
      "image/png": "[encoded data removed]",
      "text/plain": [
       "<Figure size 576x576 with 1 Axes>"
      ]
     },
     "metadata": {},
     "output_type": "display_data"
    }
   ],
   "source": [
    "# Figure 1: Venn diagram of reader frequencies in corpus.\n",
    "def source_venn(stmts, source_list):\n",
    "    reader_uuids = {}\n",
    "    for stmt in stmts:\n",
    "        stmt_sources = frozenset([ev.source_api for ev in stmt.evidence\n",
    "                             if ev.source_api in source_list])\n",
    "        # Skip statements with no sources in the given list\n",
    "        if not stmt_sources:\n",
    "            continue\n",
    "        for source in stmt_sources:\n",
    "            if source not in reader_uuids:\n",
    "                reader_uuids[source] = set()\n",
    "            reader_uuids[source].add(stmt.uuid)\n",
    "    return reader_uuids\n",
    "\n",
    "ax = venn(source_venn(all_stmts, reader_list), fmt='{percentage:.2f}')"
   ]
  },
  {
   "cell_type": "code",
   "execution_count": 1223,
   "metadata": {
    "code_folding": [
     0
    ],
    "hide_input": false,
    "scrolled": false
   },
   "outputs": [
    {
     "data": {
      "text/html": [
       "<div>\n",
       "<style scoped>\n",
       "    .dataframe tbody tr th:only-of-type {\n",
       "        vertical-align: middle;\n",
       "    }\n",
       "\n",
       "    .dataframe tbody tr th {\n",
       "        vertical-align: top;\n",
       "    }\n",
       "\n",
       "    .dataframe thead th {\n",
       "        text-align: right;\n",
       "    }\n",
       "</style>\n",
       "<table border=\"1\" class=\"dataframe\">\n",
       "  <thead>\n",
       "    <tr style=\"text-align: right;\">\n",
       "      <th></th>\n",
       "      <th>Freq.</th>\n",
       "    </tr>\n",
       "    <tr>\n",
       "      <th>Num. readers</th>\n",
       "      <th></th>\n",
       "    </tr>\n",
       "  </thead>\n",
       "  <tbody>\n",
       "    <tr>\n",
       "      <th>1</th>\n",
       "      <td>0.813014</td>\n",
       "    </tr>\n",
       "    <tr>\n",
       "      <th>2</th>\n",
       "      <td>0.144215</td>\n",
       "    </tr>\n",
       "    <tr>\n",
       "      <th>3</th>\n",
       "      <td>0.035539</td>\n",
       "    </tr>\n",
       "    <tr>\n",
       "      <th>4</th>\n",
       "      <td>0.006722</td>\n",
       "    </tr>\n",
       "    <tr>\n",
       "      <th>5</th>\n",
       "      <td>0.000509</td>\n",
       "    </tr>\n",
       "  </tbody>\n",
       "</table>\n",
       "</div>"
      ],
      "text/plain": [
       "                 Freq.\n",
       "Num. readers          \n",
       "1             0.813014\n",
       "2             0.144215\n",
       "3             0.035539\n",
       "4             0.006722\n",
       "5             0.000509"
      ]
     },
     "execution_count": 1223,
     "metadata": {},
     "output_type": "execute_result"
    }
   ],
   "source": [
    "# Table 2: Frequencies of relations in corpus by total number of sources.\n",
    "def marginal_reader_freqs(freqs):\n",
    "    rcount_dict = {}\n",
    "    for rtup, freq in freqs.items():\n",
    "        # Count the number of readers in the freq key tuple\n",
    "        # Make a set, then turn into a string, then replace'_' with nothing\n",
    "        rstr = ''.join(set(rtup)).replace('_', '')\n",
    "        rcount = len(rstr)\n",
    "        if rcount not in rcount_dict:\n",
    "            rcount_dict[rcount] = 0\n",
    "        rcount_dict[rcount] += freq\n",
    "    return rcount_dict\n",
    "\n",
    "rcount_dict = marginal_reader_freqs(reader_freqs)\n",
    "make_df(rcount_dict, 'Num. readers', 'Freq.')"
   ]
  },
  {
   "cell_type": "markdown",
   "metadata": {},
   "source": [
    "To evaluate different approaches to estimating the reliability we curated a corpus of relations drawn from each reader. For each of the five reading systems we sampled relations supported by between one and ten evidence sentences processed by that reader. For each relation, we manually reviewed each evidence sentence to determine whether it supported the relation extracted by the reader. A relation was determined to be \"correct\" if it was supported by at least one evidence sentence from any reader. The resulting dataset is comprised of ~1000 curated statements with ~5000 manually curated evidences. Because sampling was stratified both by reader and by the number of supporting sentences, the curated dataset has a substantially different reader distribution than the underlying corpus: for example, statements from TRIPS alone (which was only used to process a subset of abstracts: <span class=\"mark\">see Methods</span>) accounted for only 0.8% of statements in the full corpus but 6.5% of statements in the curated dataset (Table 1)."
   ]
  },
  {
   "cell_type": "markdown",
   "metadata": {},
   "source": [
    "### Correlations among readers at the mention and relation levels"
   ]
  },
  {
   "cell_type": "markdown",
   "metadata": {},
   "source": [
    "Readers showed substantial correlation in the number of individual mentions they identified for a relation, with $\\rho(Reach, Sparser)$ and $\\rho(Reach, Medscan)$ > 0.6 (Table 3). However, the strong correlations among Reach, Sparser, and Medscan were driven by a small subset of relations with very high numbers of mentions, as shown by a scatter plot of mention counts for Reach and Sparser (Figure 2). Removing just the two outlying points with the largest numbers of mentions (\"TNF activates NFkappaB\" and \"TP53 binds MDM2\") reduced $\\rho(Reach, Sparser)$ to 0.55 (Table 4). The likelihood of reader overlap is largely a function of the number of times that relation appears in the corpus, which can be seen using reader mentions as a proxy for underlying frequency (Figure 3)."
   ]
  },
  {
   "cell_type": "code",
   "execution_count": 1224,
   "metadata": {
    "code_folding": [
     0
    ]
   },
   "outputs": [
    {
     "data": {
      "text/html": [
       "<div>\n",
       "<style scoped>\n",
       "    .dataframe tbody tr th:only-of-type {\n",
       "        vertical-align: middle;\n",
       "    }\n",
       "\n",
       "    .dataframe tbody tr th {\n",
       "        vertical-align: top;\n",
       "    }\n",
       "\n",
       "    .dataframe thead th {\n",
       "        text-align: right;\n",
       "    }\n",
       "</style>\n",
       "<table border=\"1\" class=\"dataframe\">\n",
       "  <thead>\n",
       "    <tr style=\"text-align: right;\">\n",
       "      <th></th>\n",
       "      <th>reach</th>\n",
       "      <th>sparser</th>\n",
       "      <th>medscan</th>\n",
       "      <th>rlimsp</th>\n",
       "      <th>trips</th>\n",
       "    </tr>\n",
       "  </thead>\n",
       "  <tbody>\n",
       "    <tr>\n",
       "      <th>reach</th>\n",
       "      <td>1.000000</td>\n",
       "      <td>0.610648</td>\n",
       "      <td>0.632608</td>\n",
       "      <td>0.071888</td>\n",
       "      <td>0.373680</td>\n",
       "    </tr>\n",
       "    <tr>\n",
       "      <th>sparser</th>\n",
       "      <td>0.610648</td>\n",
       "      <td>1.000000</td>\n",
       "      <td>0.453898</td>\n",
       "      <td>0.113957</td>\n",
       "      <td>0.419828</td>\n",
       "    </tr>\n",
       "    <tr>\n",
       "      <th>medscan</th>\n",
       "      <td>0.632608</td>\n",
       "      <td>0.453898</td>\n",
       "      <td>1.000000</td>\n",
       "      <td>0.033821</td>\n",
       "      <td>0.337839</td>\n",
       "    </tr>\n",
       "    <tr>\n",
       "      <th>rlimsp</th>\n",
       "      <td>0.071888</td>\n",
       "      <td>0.113957</td>\n",
       "      <td>0.033821</td>\n",
       "      <td>1.000000</td>\n",
       "      <td>0.095912</td>\n",
       "    </tr>\n",
       "    <tr>\n",
       "      <th>trips</th>\n",
       "      <td>0.373680</td>\n",
       "      <td>0.419828</td>\n",
       "      <td>0.337839</td>\n",
       "      <td>0.095912</td>\n",
       "      <td>1.000000</td>\n",
       "    </tr>\n",
       "  </tbody>\n",
       "</table>\n",
       "</div>"
      ],
      "text/plain": [
       "            reach   sparser   medscan    rlimsp     trips\n",
       "reach    1.000000  0.610648  0.632608  0.071888  0.373680\n",
       "sparser  0.610648  1.000000  0.453898  0.113957  0.419828\n",
       "medscan  0.632608  0.453898  1.000000  0.033821  0.337839\n",
       "rlimsp   0.071888  0.113957  0.033821  1.000000  0.095912\n",
       "trips    0.373680  0.419828  0.337839  0.095912  1.000000"
      ]
     },
     "execution_count": 1224,
     "metadata": {},
     "output_type": "execute_result"
    }
   ],
   "source": [
    "# Table 3. Correlations among readers in mention counts.\n",
    "reader_counts[reader_list].corr()"
   ]
  },
  {
   "cell_type": "code",
   "execution_count": 1225,
   "metadata": {
    "code_folding": [
     0
    ],
    "scrolled": false
   },
   "outputs": [
    {
     "data": {
      "image/png": "[encoded data removed]",
      "text/plain": [
       "<Figure size 288x288 with 1 Axes>"
      ]
     },
     "metadata": {
      "needs_background": "light"
     },
     "output_type": "display_data"
    }
   ],
   "source": [
    "# Figure 2: Scatter plot of mention counts from Reach and Sparser.\n",
    "def rand_jitter(arr, jitter=0.01):\n",
    "    stdev = jitter * (max(arr)-min(arr))\n",
    "    return arr + np.random.randn(len(arr)) * stdev\n",
    "\n",
    "def reader_corr_plot(count_df, reader1, reader2, jitter=0.01, logscale=True):\n",
    "    plt.figure(figsize=(4, 4))\n",
    "    #kge_cp  = count_df[(kge_df[reader1] > 0) | (kge_df[reader2] > 0)]\n",
    "    if logscale:\n",
    "        r1_counts = np.log10(count_df[reader1] + 1)\n",
    "        r2_counts = np.log10(count_df[reader2] + 1)\n",
    "        xlabel = f'log10({reader1} + 1)'\n",
    "        ylabel = f'log10({reader2} + 1)'        \n",
    "    else:\n",
    "        r1_counts = count_df[reader1].values\n",
    "        r2_counts = count_df[reader2].values\n",
    "        xlabel = reader1\n",
    "        ylabel = reader2    \n",
    "    plt.plot(rand_jitter(r1_counts, jitter),\n",
    "             rand_jitter(r2_counts, jitter), linestyle='', marker='.',\n",
    "             color='red', alpha=0.1, label='Correct')\n",
    "    plt.xlabel(xlabel)\n",
    "    plt.ylabel(ylabel)\n",
    "    #plt.legend(loc='upper left', frameon=False)\n",
    "    #plt.figtext(0.5, 0.01, \"A figure legend.\", wrap=True, horizontalalignment='center', fontsize=14)\n",
    "    plt.show()\n",
    "\n",
    "reader_corr_plot(reader_counts, 'reach', 'sparser', jitter=0, logscale=True)"
   ]
  },
  {
   "cell_type": "code",
   "execution_count": 1226,
   "metadata": {
    "code_folding": [
     0
    ]
   },
   "outputs": [
    {
     "data": {
      "text/html": [
       "<div>\n",
       "<style scoped>\n",
       "    .dataframe tbody tr th:only-of-type {\n",
       "        vertical-align: middle;\n",
       "    }\n",
       "\n",
       "    .dataframe tbody tr th {\n",
       "        vertical-align: top;\n",
       "    }\n",
       "\n",
       "    .dataframe thead th {\n",
       "        text-align: right;\n",
       "    }\n",
       "</style>\n",
       "<table border=\"1\" class=\"dataframe\">\n",
       "  <thead>\n",
       "    <tr style=\"text-align: right;\">\n",
       "      <th></th>\n",
       "      <th>reach</th>\n",
       "      <th>sparser</th>\n",
       "      <th>medscan</th>\n",
       "      <th>rlimsp</th>\n",
       "      <th>trips</th>\n",
       "    </tr>\n",
       "  </thead>\n",
       "  <tbody>\n",
       "    <tr>\n",
       "      <th>reach</th>\n",
       "      <td>1.000000</td>\n",
       "      <td>0.550781</td>\n",
       "      <td>0.548421</td>\n",
       "      <td>0.080636</td>\n",
       "      <td>0.325913</td>\n",
       "    </tr>\n",
       "    <tr>\n",
       "      <th>sparser</th>\n",
       "      <td>0.550781</td>\n",
       "      <td>1.000000</td>\n",
       "      <td>0.364867</td>\n",
       "      <td>0.132939</td>\n",
       "      <td>0.332754</td>\n",
       "    </tr>\n",
       "    <tr>\n",
       "      <th>medscan</th>\n",
       "      <td>0.548421</td>\n",
       "      <td>0.364867</td>\n",
       "      <td>1.000000</td>\n",
       "      <td>0.037220</td>\n",
       "      <td>0.290822</td>\n",
       "    </tr>\n",
       "    <tr>\n",
       "      <th>rlimsp</th>\n",
       "      <td>0.080636</td>\n",
       "      <td>0.132939</td>\n",
       "      <td>0.037220</td>\n",
       "      <td>1.000000</td>\n",
       "      <td>0.100157</td>\n",
       "    </tr>\n",
       "    <tr>\n",
       "      <th>trips</th>\n",
       "      <td>0.325913</td>\n",
       "      <td>0.332754</td>\n",
       "      <td>0.290822</td>\n",
       "      <td>0.100157</td>\n",
       "      <td>1.000000</td>\n",
       "    </tr>\n",
       "  </tbody>\n",
       "</table>\n",
       "</div>"
      ],
      "text/plain": [
       "            reach   sparser   medscan    rlimsp     trips\n",
       "reach    1.000000  0.550781  0.548421  0.080636  0.325913\n",
       "sparser  0.550781  1.000000  0.364867  0.132939  0.332754\n",
       "medscan  0.548421  0.364867  1.000000  0.037220  0.290822\n",
       "rlimsp   0.080636  0.132939  0.037220  1.000000  0.100157\n",
       "trips    0.325913  0.332754  0.290822  0.100157  1.000000"
      ]
     },
     "execution_count": 1226,
     "metadata": {},
     "output_type": "execute_result"
    }
   ],
   "source": [
    "# Table 4: Mention correlations after filtering out two outlying points with many mentions.\n",
    "outliers = reader_counts[reader_counts['sparser'] > 800]\n",
    "outlier_filt = reader_counts.drop(outliers.index)\n",
    "outlier_filt[reader_list].corr()"
   ]
  },
  {
   "cell_type": "code",
   "execution_count": 1227,
   "metadata": {
    "code_folding": [
     0
    ],
    "scrolled": false
   },
   "outputs": [
    {
     "data": {
      "image/png": "[encoded data removed]",
      "text/plain": [
       "<Figure size 288x288 with 1 Axes>"
      ]
     },
     "metadata": {
      "needs_background": "light"
     },
     "output_type": "display_data"
    }
   ],
   "source": [
    "# Figure 3: Reader overlap as a function of mentions.\n",
    "def plot_joint_vs_reader_count(count_df, reader_list):\n",
    "    plt.figure(figsize=(4, 4))\n",
    "    for reader in reader_list:\n",
    "        count_df = reader_counts\n",
    "        other_readers = [r for r in reader_list if r != reader]\n",
    "        x_vals = []\n",
    "        y_vals = []\n",
    "        for reader_count in range(1, 30):\n",
    "            recs_for_count = count_df[count_df[reader] == reader_count]\n",
    "            if recs_for_count.shape[0] == 0:\n",
    "                continue\n",
    "            x_vals.append(reader_count)\n",
    "            y_vals.append(100*recs_for_count[other_readers].any(1).mean())\n",
    "        plt.plot(x_vals, y_vals, label=reader)\n",
    "    plt.xlabel(f'Num. mentions from reader')\n",
    "    plt.ylabel(f'% relations with support from other readers')\n",
    "    plt.legend(loc='lower right', frameon=False)\n",
    "    plt.ylim(0, 105)\n",
    "    plt.show()\n",
    "\n",
    "plot_joint_vs_reader_count(reader_counts, reader_list)"
   ]
  },
  {
   "cell_type": "markdown",
   "metadata": {},
   "source": [
    "When mention counts were ignored and only the binary presence/absence of reader support was considered, correlations were small or moderately negative, because the readers contribute separately to the overall corpus but with little overlap on average (Table 5; also Table 1, Figure 1). The negative correlations at the relation level can be reconciled with the positive correlations at the mention level by noting that the vast majority of relations have just one or two mentions, which are much less likely to overlap with other readers (Table 6)."
   ]
  },
  {
   "cell_type": "code",
   "execution_count": 1228,
   "metadata": {
    "code_folding": []
   },
   "outputs": [
    {
     "data": {
      "text/html": [
       "<div>\n",
       "<style scoped>\n",
       "    .dataframe tbody tr th:only-of-type {\n",
       "        vertical-align: middle;\n",
       "    }\n",
       "\n",
       "    .dataframe tbody tr th {\n",
       "        vertical-align: top;\n",
       "    }\n",
       "\n",
       "    .dataframe thead th {\n",
       "        text-align: right;\n",
       "    }\n",
       "</style>\n",
       "<table border=\"1\" class=\"dataframe\">\n",
       "  <thead>\n",
       "    <tr style=\"text-align: right;\">\n",
       "      <th></th>\n",
       "      <th>reach</th>\n",
       "      <th>sparser</th>\n",
       "      <th>medscan</th>\n",
       "      <th>rlimsp</th>\n",
       "      <th>trips</th>\n",
       "    </tr>\n",
       "  </thead>\n",
       "  <tbody>\n",
       "    <tr>\n",
       "      <th>reach</th>\n",
       "      <td>1.000000</td>\n",
       "      <td>-0.241753</td>\n",
       "      <td>-0.474403</td>\n",
       "      <td>-0.020938</td>\n",
       "      <td>-0.015515</td>\n",
       "    </tr>\n",
       "    <tr>\n",
       "      <th>sparser</th>\n",
       "      <td>-0.241753</td>\n",
       "      <td>1.000000</td>\n",
       "      <td>-0.128048</td>\n",
       "      <td>0.078555</td>\n",
       "      <td>0.111548</td>\n",
       "    </tr>\n",
       "    <tr>\n",
       "      <th>medscan</th>\n",
       "      <td>-0.474403</td>\n",
       "      <td>-0.128048</td>\n",
       "      <td>1.000000</td>\n",
       "      <td>-0.010978</td>\n",
       "      <td>0.047709</td>\n",
       "    </tr>\n",
       "    <tr>\n",
       "      <th>rlimsp</th>\n",
       "      <td>-0.020938</td>\n",
       "      <td>0.078555</td>\n",
       "      <td>-0.010978</td>\n",
       "      <td>1.000000</td>\n",
       "      <td>0.069556</td>\n",
       "    </tr>\n",
       "    <tr>\n",
       "      <th>trips</th>\n",
       "      <td>-0.015515</td>\n",
       "      <td>0.111548</td>\n",
       "      <td>0.047709</td>\n",
       "      <td>0.069556</td>\n",
       "      <td>1.000000</td>\n",
       "    </tr>\n",
       "  </tbody>\n",
       "</table>\n",
       "</div>"
      ],
      "text/plain": [
       "            reach   sparser   medscan    rlimsp     trips\n",
       "reach    1.000000 -0.241753 -0.474403 -0.020938 -0.015515\n",
       "sparser -0.241753  1.000000 -0.128048  0.078555  0.111548\n",
       "medscan -0.474403 -0.128048  1.000000 -0.010978  0.047709\n",
       "rlimsp  -0.020938  0.078555 -0.010978  1.000000  0.069556\n",
       "trips   -0.015515  0.111548  0.047709  0.069556  1.000000"
      ]
     },
     "execution_count": 1228,
     "metadata": {},
     "output_type": "execute_result"
    }
   ],
   "source": [
    "# Table 5: Correlations among readers at the relation level\n",
    "bin_reader_counts = binarize_count_data(reader_counts)\n",
    "bin_reader_counts[reader_list].corr()"
   ]
  },
  {
   "cell_type": "code",
   "execution_count": 1229,
   "metadata": {
    "code_folding": [
     0
    ]
   },
   "outputs": [
    {
     "data": {
      "text/html": [
       "<div>\n",
       "<style scoped>\n",
       "    .dataframe tbody tr th:only-of-type {\n",
       "        vertical-align: middle;\n",
       "    }\n",
       "\n",
       "    .dataframe tbody tr th {\n",
       "        vertical-align: top;\n",
       "    }\n",
       "\n",
       "    .dataframe thead th {\n",
       "        text-align: right;\n",
       "    }\n",
       "</style>\n",
       "<table border=\"1\" class=\"dataframe\">\n",
       "  <thead>\n",
       "    <tr style=\"text-align: right;\">\n",
       "      <th></th>\n",
       "      <th>=1 mention</th>\n",
       "      <th>&gt;1 mentions</th>\n",
       "    </tr>\n",
       "  </thead>\n",
       "  <tbody>\n",
       "    <tr>\n",
       "      <th>reach</th>\n",
       "      <td>0.675077</td>\n",
       "      <td>0.324923</td>\n",
       "    </tr>\n",
       "    <tr>\n",
       "      <th>sparser</th>\n",
       "      <td>0.618371</td>\n",
       "      <td>0.381629</td>\n",
       "    </tr>\n",
       "    <tr>\n",
       "      <th>medscan</th>\n",
       "      <td>0.711481</td>\n",
       "      <td>0.288519</td>\n",
       "    </tr>\n",
       "    <tr>\n",
       "      <th>rlimsp</th>\n",
       "      <td>0.636058</td>\n",
       "      <td>0.363942</td>\n",
       "    </tr>\n",
       "    <tr>\n",
       "      <th>trips</th>\n",
       "      <td>0.833957</td>\n",
       "      <td>0.166043</td>\n",
       "    </tr>\n",
       "  </tbody>\n",
       "</table>\n",
       "</div>"
      ],
      "text/plain": [
       "         =1 mention  >1 mentions\n",
       "reach      0.675077     0.324923\n",
       "sparser    0.618371     0.381629\n",
       "medscan    0.711481     0.288519\n",
       "rlimsp     0.636058     0.363942\n",
       "trips      0.833957     0.166043"
      ]
     },
     "execution_count": 1229,
     "metadata": {},
     "output_type": "execute_result"
    }
   ],
   "source": [
    "# Table 6: Proportion of relations from each reader with 1 or >1 mentions.\n",
    "def one_or_more_mentions(reader_counts, reader_list):\n",
    "    nz = reader_counts[reader_list].apply(lambda x: x > 0, axis=0).sum()\n",
    "    one = reader_counts[reader_list].apply(lambda x: x == 1, axis=0).sum()\n",
    "    multi = reader_counts[reader_list].apply(lambda x: x > 1, axis=0).sum()\n",
    "    one_ser = one / nz\n",
    "    multi_ser = multi / nz\n",
    "    one_ser.name = '=1 mention'\n",
    "    multi_ser.name = '>1 mentions'\n",
    "    return pd.concat([one_ser, multi_ser], axis=1)\n",
    "\n",
    "one_or_more_mentions(reader_counts, reader_list)"
   ]
  },
  {
   "cell_type": "markdown",
   "metadata": {},
   "source": [
    "### Properties of belief scores under different assumptions"
   ]
  },
  {
   "cell_type": "markdown",
   "metadata": {},
   "source": [
    "To illustrate the properties of belief scores under different assumptions about reader performance and dependence, we generated simulated data using the following approach. We imagine a space of $(relation,sentence)$ combinations defined for a defined text corpus and set of relation types, and over this space, with overall size $n$, we have a baseline probability, prior to the consideration of any reading systems, of a particular $(relation_i,sentence_j)$ being correct, denoted $p(corr)$. Then, for each reader, we define the recall and false discovery rate (FDR) as follows:\n",
    "\n",
    "$$R_i^{re} = p(R_i=1|corr=1) = \\frac{TP}{FN + TP}$$\n",
    "\n",
    "$$R_i^{fdr} = p(corr=1|R_i=1) = \\frac{FP}{TP + FP}$$\n",
    "\n",
    "where TP, TN, FP, and FN denote the true positives, true negatives, false positives, and false negatives, respectively. We note that $p(corr) = \\frac{TP + FN}{n}$. Then given the four parameters $n$, $p(corr)$, $R_i^{re}$, and $R_i^{fdr}$, we calculate TP, TN, FP, and FN for each reader $R_i$ as follows:\n",
    "\n",
    "$$TP_i = R_i^{re} \\cdot p(corr) \\cdot n$$\n",
    "\n",
    "$$FP_i = \\frac{TP_i \\cdot R_i^{fdr}}{1 - R_i^{fdr}}$$\n",
    "\n",
    "$$FN_i = p(corr) \\cdot n - TP_i$$\n",
    "\n",
    "$$TN_i = p(corr) \\cdot n - TP_i - FP_i - TN_i$$\n",
    "\n",
    "\n",
    "Imagine subsets of these statements that have a higher likelihood of extraction by both readers, e.g., the high frequency ones.\n",
    "\n",
    "Imagine a base number, e.g. of sentences. R1 generates a correct or incorrect. R2 generates a correct or incorrect."
   ]
  },
  {
   "cell_type": "code",
   "execution_count": 1230,
   "metadata": {
    "code_folding": []
   },
   "outputs": [],
   "source": [
    "# Function for calculating conditional probabilities\n",
    "def prob(v, c=None, df=None):\n",
    "    \"\"\"Probability of variables v: vals conditioned on variables c: vals\"\"\"\n",
    "    if df is None:\n",
    "        raise ValueError(\"df must be given.\")\n",
    "    if c is None:\n",
    "        c = []\n",
    "    if not v:\n",
    "        raise ValueError(\"v variables must be specified\")\n",
    "    c_df = df\n",
    "    for c_var, c_val in c:\n",
    "        c_df = c_df[c_df[c_var] == c_val]\n",
    "    # Handle the case where the conditional event does not occur\n",
    "    if len(c_df) == 0:\n",
    "        return 0\n",
    "    vc_df = None\n",
    "    for v_var, v_val in v:\n",
    "        if vc_df is None:\n",
    "            vc_df = c_df[c_df[v_var] == v_val]\n",
    "        else:\n",
    "            vc_df = vc_df[vc_df[v_var] == v_val]\n",
    "    return len(vc_df) / len(c_df)"
   ]
  },
  {
   "cell_type": "code",
   "execution_count": 1231,
   "metadata": {
    "code_folding": [
     0
    ]
   },
   "outputs": [],
   "source": [
    "# Implementations of Exact probability, Belief scores, and BL Expansions as sklearn models.\n",
    "class BLPredictor(object):\n",
    "    def __init__(self, df=None, order=2):\n",
    "        self.df = df\n",
    "        self.order = order\n",
    "        \n",
    "    def fit(self, x_train, y_train, y_target=1):\n",
    "        data = np.column_stack([x_train, y_train])\n",
    "        self.y_ix = data.shape[1]-1\n",
    "        self.df = pd.DataFrame(data)\n",
    "        self.prob_cache = {}\n",
    "        self.y_target = y_target\n",
    "        # Get the unique input vectors in x_train\n",
    "        x_val_combos_in_data = set([tuple(x_train[ix, :]) for ix in range(x_train.shape[0])])\n",
    "        x_val_combos = list(itertools.product([0, 1], repeat=self.df.shape[1]-1))\n",
    "        for x_vals in x_val_combos:\n",
    "            # If this combination doesn't actually occur, set to NaN in the cache and skip\n",
    "            if x_vals not in x_val_combos_in_data:\n",
    "                self.prob_cache[x_vals] = np.nan\n",
    "                continue\n",
    "            x_vect = list(x_vals) + [y_target]\n",
    "            col_vals = list(zip(range(len(x_vect)), x_vect))\n",
    "            joint_prob = self.bahadur_laz(col_vals, max_order=self.order)\n",
    "            denom = prob(col_vals[:-1], df=self.df)\n",
    "            pred_prob = joint_prob / denom\n",
    "            if pred_prob > 1:\n",
    "                pred_prob = 1.0\n",
    "            elif pred_prob < 0:\n",
    "                pred_prob = 0.\n",
    "            self.prob_cache[x_vals] = pred_prob\n",
    "        \n",
    "    def predict_proba(self, x_arr, order=2, threshold=0.5):\n",
    "        if x_arr.shape[1] != self.df.shape[1] - 1:\n",
    "            raise ValueError(\"Prediction data is wrong shape.\")\n",
    "        y_probs = np.zeros((x_arr.shape[0], 2))\n",
    "        for row_ix in range(x_arr.shape[0]):\n",
    "            x_vals = x_arr[row_ix, :]\n",
    "            # Get the computed value for this feature vector from the cache\n",
    "            pred_prob = self.prob_cache[tuple(x_vals)]\n",
    "            # If we didn't see it in training, we just fall back on p(correct)\n",
    "            if pred_prob is np.nan: \n",
    "                pred_prob = prob([(len(x_vals)-1, self.y_target)], df=self.df)\n",
    "            y_probs[row_ix, 0] = 1 - pred_prob\n",
    "            y_probs[row_ix, 1] = pred_prob\n",
    "        return y_probs\n",
    "    \n",
    "    def predict(self, x_arr, order=2, threshold=0.5):\n",
    "        if x_arr.shape[1] != self.df.shape[1] - 1:\n",
    "            raise ValueError(\"Prediction data is wrong shape.\")\n",
    "        y_probs = np.zeros((x_arr.shape[0], 2))\n",
    "        y_preds = self.predict_proba(x_arr, order, threshold)\n",
    "        for row_ix, pred_prob in enumerate(y_preds):\n",
    "            if pred_prob[1] is np.nan:\n",
    "                pred = np.nan\n",
    "            else:\n",
    "                pred = 0 if pred_prob[1] < threshold else 1\n",
    "            y_preds[row_ix] = pred\n",
    "        return y_preds\n",
    "\n",
    "    # alpha(Yi) = E(Yi), i.e., probability Yi = 1, i.e., p in the usual notation for bernoulli variables.\n",
    "    def alpha(self, col):\n",
    "        return self.df[col].mean()\n",
    "\n",
    "    # This function returns the probability  p(Y1 = y1, Y2=y2, Y3=y3...) etc. as the product of\n",
    "    # the independent probabilities i.e., p(Y1=y1)*p(Y2=y2)*p(Y3=y3)*...\n",
    "    def p1y(self, col_vals):\n",
    "        prod = 1\n",
    "        for col, val in col_vals:\n",
    "            if val not in (0, 1):\n",
    "                raise ValueError(\"Values must be 0 or 1\")\n",
    "            prod *= (self.alpha(col)**val) * (1 - self.alpha(col))**(1 - val)\n",
    "        return prod\n",
    "\n",
    "    # W has two senses in the notation used by Ip. If no value is given (val=None),\n",
    "    # evaluates to (Yi - p)/sqrt(pq) = a standardized version of Yi (offset by the mean and divided by the SD).\n",
    "    # If given a specific value yi (0 or 1), gives the standardized probability of yi.\n",
    "    def W(self, col, val=None):\n",
    "        a = self.alpha(col)\n",
    "        denom = np.sqrt(a * (1 - a))\n",
    "        if val is None:\n",
    "            numer = (self.df[col] - a).values\n",
    "        else:\n",
    "            numer = val - a\n",
    "        return numer / denom\n",
    "\n",
    "    # Returns E(W1*W2*...*Wi). For the case of two variables Yi and Yj, r_ij = E(Wi*Wj) is\n",
    "    # equivalent to the correlation between Yi and Yj.\n",
    "    def r(self, cols):\n",
    "        return np.mean(np.prod(np.stack([self.W(col) for col in cols]), axis=0))\n",
    "\n",
    "    # For a set of values associated with variables, i.e., y1, y2, ... yn,\n",
    "    # returns the product W(y1)*W(y2)*...*W(yn), i.e., the product of the normalized\n",
    "    # probabilities of each Yi taking a specific value yi.\n",
    "    def W_prod(self, col_vals):\n",
    "        return np.prod([self.W(col, val) for col, val in col_vals])\n",
    "\n",
    "    # Generates a term in the expansion of the given order. For order 2,\n",
    "    # returns sum_(j<k) {rjk * Wj * Wk}, i.e., based on pairwise correlations.\n",
    "    def term(self, col_vals, order):\n",
    "        total = 0\n",
    "        for col_val_combo in itertools.combinations(col_vals, order):\n",
    "            r_term = self.r([col for col, val in col_val_combo])\n",
    "            W_term = self.W_prod(col_val_combo)\n",
    "            total += r_term * W_term\n",
    "        return total\n",
    "\n",
    "    def bahadur_laz(self, col_vals, max_order=2):\n",
    "        fy = 1\n",
    "        if max_order < 1 or max_order > len(self.df.columns):\n",
    "            raise ValueError('max_order must be between 1 and len(col_vals)')\n",
    "        for order in range(2, max_order+1):\n",
    "            fy += self.term(col_vals, order)\n",
    "        return self.p1y(col_vals) * fy    \n",
    "\n",
    "    \n",
    "class ProbPredictor(BLPredictor):\n",
    "    def fit(self, x_train, y_train, y_target=1):\n",
    "        data = np.column_stack([x_train, y_train])\n",
    "        self.y_ix = data.shape[1]-1\n",
    "        self.df = pd.DataFrame(data)\n",
    "        self.prob_cache = {}\n",
    "        self.y_target = y_target\n",
    "        # Get the unique input vectors in x_train\n",
    "        x_val_combos_in_data = set([tuple(x_train[ix, :]) for ix in range(x_train.shape[0])])\n",
    "        x_val_combos = list(itertools.product([0, 1], repeat=self.df.shape[1]-1))\n",
    "        for x_vals in x_val_combos:\n",
    "            # If this combination doesn't actually occur, set to NaN in the cache and skip\n",
    "            if x_vals not in x_val_combos_in_data:\n",
    "                self.prob_cache[x_vals] = np.nan\n",
    "                continue\n",
    "            x_vect = list(x_vals) + [y_target]\n",
    "            col_vals = list(zip(range(len(x_vect)), x_vect))\n",
    "            pred_prob = prob(col_vals, col_vals[:-1], df=self.df)\n",
    "            self.prob_cache[x_vals] = pred_prob\n",
    "    \n",
    "    \n",
    "class BeliefPredictor(BLPredictor):\n",
    "    def fit(self, x_train, y_train, y_target=1):\n",
    "        data = np.column_stack([x_train, y_train])\n",
    "        self.y_ix = data.shape[1]-1\n",
    "        self.df = pd.DataFrame(data)\n",
    "        self.prob_cache = {}\n",
    "        self.y_target = y_target\n",
    "        # Calculate the error probabilities for each reader column\n",
    "        err_probs = {}\n",
    "        for col_ix in range(self.df.shape[1]-1):\n",
    "            err_probs[col_ix] = 1 - self.df[self.df[col_ix] == 1][self.y_ix].mean()\n",
    "        # Here, we actually iterate over all combinations of input vectors and compute belief\n",
    "        x_val_combos = list(itertools.product([0, 1], repeat=self.df.shape[1]-1))\n",
    "        for x_vals in x_val_combos:\n",
    "            total_err_prob = 1\n",
    "            for col_ix, x_val in enumerate(x_vals):\n",
    "                # Multiply by the error probabilities for any readers with evidence\n",
    "                if x_val == 1:\n",
    "                    total_err_prob *= err_probs[col_ix]\n",
    "            pred_prob = 1 - total_err_prob\n",
    "            self.prob_cache[x_vals] = pred_prob"
   ]
  },
  {
   "cell_type": "code",
   "execution_count": 1232,
   "metadata": {
    "code_folding": []
   },
   "outputs": [],
   "source": [
    "class Simulator(object):\n",
    "    def __init__(self, p_correct, base_n, reader_params):\n",
    "        \"\"\"Simulation distribution of reader output and correctness.\n",
    "        \n",
    "        Parameters\n",
    "        ----------\n",
    "        p_correct : float\n",
    "            Baseline probability of correctness for a given (relation, sentence).\n",
    "        base_n : int\n",
    "            The size of the overall (relation, sentence) event space.\n",
    "        reader_params: dict\n",
    "            Dictionary of reader precision and recall values. Keys denote\n",
    "            reader names, values are tuples of floats (fdr, recall).\n",
    "        \"\"\"\n",
    "        self.p_correct = p_correct\n",
    "        self.base_n = base_n\n",
    "        self.reader_params = reader_params \n",
    "        self.reader_counts = {}\n",
    "    \n",
    "    def simulate(self):\n",
    "        event_space = np.random.choice([0, 1], size=self.base_n,\n",
    "                                       p=[1-self.p_correct, self.p_correct])\n",
    "        self.num_correct = event_space.sum()\n",
    "        df = pd.DataFrame(event_space, columns=['correct'])\n",
    "        for r_name, (fdr, rec) in self.reader_params.items():\n",
    "            tp = rec * self.num_correct\n",
    "            fp = (fdr * tp) / (1 - fdr)\n",
    "            #fp = fp_rate * (self.base_n - self.num_correct)\n",
    "            fn = self.num_correct - tp\n",
    "            tn = self.base_n - tp - fp - fn\n",
    "            #print(\"Num correct\", self.num_correct)\n",
    "            #print(tp, fp, fn, tn, self.base_n)\n",
    "            #print(\"Total\", tp+tn+fp+fn)\n",
    "            self.reader_counts[r_name] = {'tp': tp, 'tn': tn, 'fp': fp, 'fn': fn}\n",
    "            # Get a vector of R and ~R of length num_correct\n",
    "            corr_arr = np.random.choice([0, 1], size=self.num_correct,\n",
    "                                        p=(1-rec, rec))\n",
    "            inc_arr = np.random.choice([0, 1], size=self.base_n - self.num_correct,\n",
    "                                       p=(1 - fp/(fp+tn), fp/(fp+tn)))\n",
    "            # Assign to the subspace of correct statements\n",
    "            df.loc[df['correct']==1, r_name] = corr_arr            \n",
    "            df.loc[df['correct']==0, r_name] = inc_arr\n",
    "        df = df.astype('int')\n",
    "        reader_names = list(self.reader_params.keys())\n",
    "        filt_df = df[df[reader_names].any(1)]\n",
    "        return filt_df, df\n",
    "\n",
    "    def summarize(self, df):\n",
    "        r_names = [col for col in df.columns if col != 'correct']\n",
    "        p_corr = prob([('correct', 1)], df=df)\n",
    "        abs_p_corr = self.p_correct\n",
    "        reader_mat = []\n",
    "        cond_probs = [f'p(ri=1|{r}=1)' for r in r_names]\n",
    "        index = ['Abs Recall', 'Abs FDR', 'Precision', 'Recall', 'FDR',\n",
    "                 'Abs p(corr)', 'p(corr)', 'p(ri)'] + cond_probs\n",
    "        for reader_i in r_names:\n",
    "            rec_param = self.reader_params[reader_i][1]\n",
    "            fdr_param = self.reader_params[reader_i][0]\n",
    "            prec = prob([('correct', 1)], [(reader_i, 1)], df)\n",
    "            recall = prob([(reader_i, 1)], [('correct', 1)], df)\n",
    "            fdr = prob([('correct', 0)], [(reader_i, 1)], df)\n",
    "            p_r = prob([(reader_i, 1)], df=df)\n",
    "            reader_data = [rec_param, fdr_param, prec, recall, fdr, abs_p_corr, p_corr, p_r]\n",
    "            for reader_j in r_names:\n",
    "                cond_prob = prob([(reader_i, 1)], [(reader_j, 1)], df)\n",
    "                reader_data.append(cond_prob)\n",
    "            reader_mat.append(reader_data)\n",
    "        # Transpose the list of lists\n",
    "        reader_mat = list(map(list, zip(*reader_mat)))\n",
    "        return pd.DataFrame(reader_mat, index=index, columns=r_names)\n",
    "    \n",
    "    def joint_probs(self, df):\n",
    "        r_abbrevs = {r: r for r in df.columns}\n",
    "        col_list = [r for r in df.columns]\n",
    "        freq_dict, _ = get_reader_freq_from_curation(df, col_list, r_abbrevs)\n",
    "        return make_df(freq_dict, 'Readers', 'Exact')\n",
    "    \n",
    "    def corr_probs(self, df):\n",
    "        r_names = [col for col in df.columns if col != 'correct']\n",
    "        cp_dict = {} # Conditional probability dictionary\n",
    "        # Get precision estimates for each reader\n",
    "        err_dict = {}\n",
    "        belief_dict = {}\n",
    "        for reader in r_names:\n",
    "            err_dict[reader] = prob([('correct', 0)], [(reader, 1)], df)\n",
    "        for r_obs_list in itertools.product([0, 1], repeat=len(r_names)):\n",
    "            c_prob = []\n",
    "            label = []\n",
    "            err_prob = 1\n",
    "            for i, r_name in enumerate(r_names):\n",
    "                if r_obs_list[i]:\n",
    "                    label.append(r_name)\n",
    "                    c_prob.append((r_name, 1))\n",
    "                    err_prob *= err_dict[r_name]\n",
    "                else:\n",
    "                    label.append('_')\n",
    "                    c_prob.append((r_name, 0))\n",
    "            cp_dict[tuple(label)] = prob([('correct', 1)], c_prob, df)\n",
    "            belief_dict[tuple(label)] = 1 - err_prob\n",
    "        df_prob = make_df(cp_dict, 'Readers', 'Probability')\n",
    "        df_belief = make_df(belief_dict, 'Readers', 'Belief')\n",
    "        return df_prob.join(df_belief)\n",
    "\n",
    "def cond_probs(df):\n",
    "    r_names = [col for col in df.columns if col != 'correct']\n",
    "    reader_mat = []\n",
    "    cond_probs = [f'p(ri=1|{r}=1)' for r in r_names]\n",
    "    index = ['p(ri)'] + cond_probs\n",
    "\n",
    "    for reader_i in r_names:\n",
    "        p_r = prob([(reader_i, 1)], df=df)\n",
    "        reader_data = [p_r]\n",
    "        for reader_j in r_names:\n",
    "            cond_prob = prob([(reader_i, 1)], [(reader_j, 1)], df)\n",
    "            reader_data.append(cond_prob)\n",
    "        reader_mat.append(reader_data)\n",
    "    reader_mat = list(map(list, zip(*reader_mat)))\n",
    "    return pd.DataFrame(reader_mat, index=index, columns=r_names)\n",
    " "
   ]
  },
  {
   "cell_type": "code",
   "execution_count": 1240,
   "metadata": {},
   "outputs": [],
   "source": [
    "# Problem with this approach--high false positive rate allows readers\n",
    "# to be correlated by both returning 1 for a high proportion of negatives\n",
    "sim = Simulator(0.2, 1000000, {'r1': (0.25, 0.8),\n",
    "                               'r2': (0.4, 0.8),\n",
    "                               #'r3': (0.3, 0.4),\n",
    "                             })\n",
    "df, full_df = sim.simulate()"
   ]
  },
  {
   "cell_type": "markdown",
   "metadata": {},
   "source": [
    "When the space of incorrect statements is very large, this means that the chance of overlap between readers in incorrect statements is small. However, the probability of an individual reader producing an error"
   ]
  },
  {
   "cell_type": "code",
   "execution_count": 1241,
   "metadata": {},
   "outputs": [
    {
     "data": {
      "text/html": [
       "<div>\n",
       "<style scoped>\n",
       "    .dataframe tbody tr th:only-of-type {\n",
       "        vertical-align: middle;\n",
       "    }\n",
       "\n",
       "    .dataframe tbody tr th {\n",
       "        vertical-align: top;\n",
       "    }\n",
       "\n",
       "    .dataframe thead th {\n",
       "        text-align: right;\n",
       "    }\n",
       "</style>\n",
       "<table border=\"1\" class=\"dataframe\">\n",
       "  <thead>\n",
       "    <tr style=\"text-align: right;\">\n",
       "      <th></th>\n",
       "      <th>Frequency</th>\n",
       "    </tr>\n",
       "    <tr>\n",
       "      <th>Readers</th>\n",
       "      <th></th>\n",
       "    </tr>\n",
       "  </thead>\n",
       "  <tbody>\n",
       "    <tr>\n",
       "      <th>(_, r2)</th>\n",
       "      <td>0.383507</td>\n",
       "    </tr>\n",
       "    <tr>\n",
       "      <th>(r1, _)</th>\n",
       "      <td>0.225597</td>\n",
       "    </tr>\n",
       "    <tr>\n",
       "      <th>(r1, r2)</th>\n",
       "      <td>0.390896</td>\n",
       "    </tr>\n",
       "  </tbody>\n",
       "</table>\n",
       "</div>"
      ],
      "text/plain": [
       "          Frequency\n",
       "Readers            \n",
       "(_, r2)    0.383507\n",
       "(r1, _)    0.225597\n",
       "(r1, r2)   0.390896"
      ]
     },
     "execution_count": 1241,
     "metadata": {},
     "output_type": "execute_result"
    }
   ],
   "source": [
    "sim_reader_freq, _ = get_reader_freq_from_curation(df, ['r1', 'r2'], )\n",
    "make_df(sim_reader_freq, 'Readers', 'Frequency')"
   ]
  },
  {
   "cell_type": "code",
   "execution_count": 1242,
   "metadata": {},
   "outputs": [
    {
     "data": {
      "text/html": [
       "<div>\n",
       "<style scoped>\n",
       "    .dataframe tbody tr th:only-of-type {\n",
       "        vertical-align: middle;\n",
       "    }\n",
       "\n",
       "    .dataframe tbody tr th {\n",
       "        vertical-align: top;\n",
       "    }\n",
       "\n",
       "    .dataframe thead th {\n",
       "        text-align: right;\n",
       "    }\n",
       "</style>\n",
       "<table border=\"1\" class=\"dataframe\">\n",
       "  <thead>\n",
       "    <tr style=\"text-align: right;\">\n",
       "      <th></th>\n",
       "      <th>r1</th>\n",
       "      <th>r2</th>\n",
       "    </tr>\n",
       "  </thead>\n",
       "  <tbody>\n",
       "    <tr>\n",
       "      <th>Abs Recall</th>\n",
       "      <td>0.800000</td>\n",
       "      <td>0.800000</td>\n",
       "    </tr>\n",
       "    <tr>\n",
       "      <th>Abs FDR</th>\n",
       "      <td>0.250000</td>\n",
       "      <td>0.400000</td>\n",
       "    </tr>\n",
       "    <tr>\n",
       "      <th>Precision</th>\n",
       "      <td>0.750545</td>\n",
       "      <td>0.598787</td>\n",
       "    </tr>\n",
       "    <tr>\n",
       "      <th>Recall</th>\n",
       "      <td>0.831832</td>\n",
       "      <td>0.833622</td>\n",
       "    </tr>\n",
       "    <tr>\n",
       "      <th>FDR</th>\n",
       "      <td>0.249455</td>\n",
       "      <td>0.401213</td>\n",
       "    </tr>\n",
       "    <tr>\n",
       "      <th>Abs p(corr)</th>\n",
       "      <td>0.200000</td>\n",
       "      <td>0.200000</td>\n",
       "    </tr>\n",
       "    <tr>\n",
       "      <th>p(corr)</th>\n",
       "      <td>0.556250</td>\n",
       "      <td>0.556250</td>\n",
       "    </tr>\n",
       "    <tr>\n",
       "      <th>p(ri)</th>\n",
       "      <td>0.616493</td>\n",
       "      <td>0.774403</td>\n",
       "    </tr>\n",
       "    <tr>\n",
       "      <th>p(ri=1|r1=1)</th>\n",
       "      <td>1.000000</td>\n",
       "      <td>0.634064</td>\n",
       "    </tr>\n",
       "    <tr>\n",
       "      <th>p(ri=1|r2=1)</th>\n",
       "      <td>0.504771</td>\n",
       "      <td>1.000000</td>\n",
       "    </tr>\n",
       "  </tbody>\n",
       "</table>\n",
       "</div>"
      ],
      "text/plain": [
       "                    r1        r2\n",
       "Abs Recall    0.800000  0.800000\n",
       "Abs FDR       0.250000  0.400000\n",
       "Precision     0.750545  0.598787\n",
       "Recall        0.831832  0.833622\n",
       "FDR           0.249455  0.401213\n",
       "Abs p(corr)   0.200000  0.200000\n",
       "p(corr)       0.556250  0.556250\n",
       "p(ri)         0.616493  0.774403\n",
       "p(ri=1|r1=1)  1.000000  0.634064\n",
       "p(ri=1|r2=1)  0.504771  1.000000"
      ]
     },
     "execution_count": 1242,
     "metadata": {},
     "output_type": "execute_result"
    }
   ],
   "source": [
    "sim.summarize(df)"
   ]
  },
  {
   "cell_type": "code",
   "execution_count": 1243,
   "metadata": {},
   "outputs": [
    {
     "data": {
      "text/html": [
       "<div>\n",
       "<style scoped>\n",
       "    .dataframe tbody tr th:only-of-type {\n",
       "        vertical-align: middle;\n",
       "    }\n",
       "\n",
       "    .dataframe tbody tr th {\n",
       "        vertical-align: top;\n",
       "    }\n",
       "\n",
       "    .dataframe thead th {\n",
       "        text-align: right;\n",
       "    }\n",
       "</style>\n",
       "<table border=\"1\" class=\"dataframe\">\n",
       "  <thead>\n",
       "    <tr style=\"text-align: right;\">\n",
       "      <th></th>\n",
       "      <th>Exact</th>\n",
       "    </tr>\n",
       "    <tr>\n",
       "      <th>Readers</th>\n",
       "      <th></th>\n",
       "    </tr>\n",
       "  </thead>\n",
       "  <tbody>\n",
       "    <tr>\n",
       "      <th>(_, _, r2)</th>\n",
       "      <td>0.289963</td>\n",
       "    </tr>\n",
       "    <tr>\n",
       "      <th>(_, r1, _)</th>\n",
       "      <td>0.133050</td>\n",
       "    </tr>\n",
       "    <tr>\n",
       "      <th>(_, r1, r2)</th>\n",
       "      <td>0.020738</td>\n",
       "    </tr>\n",
       "    <tr>\n",
       "      <th>(correct, _, r2)</th>\n",
       "      <td>0.093544</td>\n",
       "    </tr>\n",
       "    <tr>\n",
       "      <th>(correct, r1, _)</th>\n",
       "      <td>0.092548</td>\n",
       "    </tr>\n",
       "    <tr>\n",
       "      <th>(correct, r1, r2)</th>\n",
       "      <td>0.370159</td>\n",
       "    </tr>\n",
       "  </tbody>\n",
       "</table>\n",
       "</div>"
      ],
      "text/plain": [
       "                      Exact\n",
       "Readers                    \n",
       "(_, _, r2)         0.289963\n",
       "(_, r1, _)         0.133050\n",
       "(_, r1, r2)        0.020738\n",
       "(correct, _, r2)   0.093544\n",
       "(correct, r1, _)   0.092548\n",
       "(correct, r1, r2)  0.370159"
      ]
     },
     "execution_count": 1243,
     "metadata": {},
     "output_type": "execute_result"
    }
   ],
   "source": [
    "sim.joint_probs(df)"
   ]
  },
  {
   "cell_type": "code",
   "execution_count": 1244,
   "metadata": {},
   "outputs": [
    {
     "data": {
      "text/html": [
       "<div>\n",
       "<style scoped>\n",
       "    .dataframe tbody tr th:only-of-type {\n",
       "        vertical-align: middle;\n",
       "    }\n",
       "\n",
       "    .dataframe tbody tr th {\n",
       "        vertical-align: top;\n",
       "    }\n",
       "\n",
       "    .dataframe thead th {\n",
       "        text-align: right;\n",
       "    }\n",
       "</style>\n",
       "<table border=\"1\" class=\"dataframe\">\n",
       "  <thead>\n",
       "    <tr style=\"text-align: right;\">\n",
       "      <th></th>\n",
       "      <th>Probability</th>\n",
       "      <th>Belief</th>\n",
       "    </tr>\n",
       "    <tr>\n",
       "      <th>Readers</th>\n",
       "      <th></th>\n",
       "      <th></th>\n",
       "    </tr>\n",
       "  </thead>\n",
       "  <tbody>\n",
       "    <tr>\n",
       "      <th>(_, _)</th>\n",
       "      <td>0.000000</td>\n",
       "      <td>0.000000</td>\n",
       "    </tr>\n",
       "    <tr>\n",
       "      <th>(_, r2)</th>\n",
       "      <td>0.243916</td>\n",
       "      <td>0.598787</td>\n",
       "    </tr>\n",
       "    <tr>\n",
       "      <th>(r1, _)</th>\n",
       "      <td>0.410234</td>\n",
       "      <td>0.750545</td>\n",
       "    </tr>\n",
       "    <tr>\n",
       "      <th>(r1, r2)</th>\n",
       "      <td>0.946949</td>\n",
       "      <td>0.899915</td>\n",
       "    </tr>\n",
       "  </tbody>\n",
       "</table>\n",
       "</div>"
      ],
      "text/plain": [
       "          Probability    Belief\n",
       "Readers                        \n",
       "(_, _)       0.000000  0.000000\n",
       "(_, r2)      0.243916  0.598787\n",
       "(r1, _)      0.410234  0.750545\n",
       "(r1, r2)     0.946949  0.899915"
      ]
     },
     "execution_count": 1244,
     "metadata": {},
     "output_type": "execute_result"
    }
   ],
   "source": [
    "cps = sim.corr_probs(df)\n",
    "cps"
   ]
  },
  {
   "cell_type": "code",
   "execution_count": 1245,
   "metadata": {
    "scrolled": true
   },
   "outputs": [
    {
     "data": {
      "text/html": [
       "<div>\n",
       "<style scoped>\n",
       "    .dataframe tbody tr th:only-of-type {\n",
       "        vertical-align: middle;\n",
       "    }\n",
       "\n",
       "    .dataframe tbody tr th {\n",
       "        vertical-align: top;\n",
       "    }\n",
       "\n",
       "    .dataframe thead th {\n",
       "        text-align: right;\n",
       "    }\n",
       "</style>\n",
       "<table border=\"1\" class=\"dataframe\">\n",
       "  <thead>\n",
       "    <tr style=\"text-align: right;\">\n",
       "      <th></th>\n",
       "      <th>Probability</th>\n",
       "      <th>Belief</th>\n",
       "    </tr>\n",
       "  </thead>\n",
       "  <tbody>\n",
       "    <tr>\n",
       "      <th>Probability</th>\n",
       "      <td>1.0</td>\n",
       "      <td>1.0</td>\n",
       "    </tr>\n",
       "    <tr>\n",
       "      <th>Belief</th>\n",
       "      <td>1.0</td>\n",
       "      <td>1.0</td>\n",
       "    </tr>\n",
       "  </tbody>\n",
       "</table>\n",
       "</div>"
      ],
      "text/plain": [
       "             Probability  Belief\n",
       "Probability          1.0     1.0\n",
       "Belief               1.0     1.0"
      ]
     },
     "execution_count": 1245,
     "metadata": {},
     "output_type": "execute_result"
    }
   ],
   "source": [
    "cps.corr('spearman')"
   ]
  },
  {
   "cell_type": "markdown",
   "metadata": {
    "scrolled": true
   },
   "source": [
    "If absolute recall of both is low, then this means that each gets a small subset of the total possible statements. When aggregated and the 0s are filtered out, this means that there is very little overlap between the readers, the sets are non-complementaray, and they are anti-correlated. If absolute recall is basically 1, and FP rate is 0, this means that the two readers basically return the same sets of statements--so how can they be anticorrelated??? If the readers are perfect, in the case of two readers, the correlation is actually 0 (!) because there is so little covariance."
   ]
  },
  {
   "cell_type": "markdown",
   "metadata": {},
   "source": [
    "Some observations. First, if recall and fdr are equal and the same for both readers, having evidence from both readers doesn't increase p(correct), because adding a second reader adds somewhat to the coverage of the correct statements but also adds an equal number of false positives.\n",
    "\n",
    "Recall determines the number of TPs. If FDR = 0.5, it means that FP / TP + FP = 0.5, i.e., FP = TP."
   ]
  },
  {
   "cell_type": "code",
   "execution_count": 1217,
   "metadata": {},
   "outputs": [],
   "source": [
    "def dep_deriv(x_dict, pa_dict, df):\n",
    "    correct_vals = (0, 1)\n",
    "    dd_dict = {}\n",
    "    for c_val in correct_vals:\n",
    "        for x_name, x_val in x_dict.items():\n",
    "            pa_names = pa_dict[x_name]\n",
    "            pa_vals = [(pa, x_dict[pa]) for pa in pa_names if pa != 'correct']\n",
    "            pa_vals.append(('correct', c_val))\n",
    "            numer = prob([(x_name, x_val)], pa_vals, df=df)\n",
    "            denom = prob([(x_name, x_val)], [('correct', c_val)], df=df)\n",
    "            dd_dict[(x_name, c_val)] = numer / denom\n",
    "    return dd_dict\n",
    "\n",
    "def ddrg(x_dict, pa_dict, df):\n",
    "    dd_dict = dep_deriv(x_dict, pa_dict, df)\n",
    "    ddrg = {}\n",
    "    for x_name in x_dict:\n",
    "        ddrg[x_name] = dd_dict[(x_name, 1)] / dd_dict[(x_name, 0)]\n",
    "    return ddrg\n",
    "\n",
    "def prob_anb(x_dict, pa_dict, df):\n",
    "    for c_val in (0, 1):\n",
    "        pc = prob([('correct', c_val)])\n",
    "        ddrg = "
   ]
  },
  {
   "cell_type": "code",
   "execution_count": 1218,
   "metadata": {},
   "outputs": [
    {
     "data": {
      "text/plain": [
       "{'r1': 1.0, 'r2': 0.5721640033839971}"
      ]
     },
     "execution_count": 1218,
     "metadata": {},
     "output_type": "execute_result"
    }
   ],
   "source": [
    "pa_dict = {'r1': ['correct'], 'r2': ['r1', 'correct']}\n",
    "x_dict = {'r1': 1, 'r2': 1}\n",
    "ddrg(x_dict, pa_dict, df)\n"
   ]
  },
  {
   "cell_type": "code",
   "execution_count": 1158,
   "metadata": {},
   "outputs": [
    {
     "data": {
      "text/plain": [
       "0.06459720256386797"
      ]
     },
     "execution_count": 1158,
     "metadata": {},
     "output_type": "execute_result"
    }
   ],
   "source": [
    "prob([('r1', 1), ('r2', 1)], df=df)"
   ]
  },
  {
   "cell_type": "code",
   "execution_count": 1161,
   "metadata": {},
   "outputs": [
    {
     "data": {
      "text/plain": [
       "0.09639122414185128"
      ]
     },
     "execution_count": 1161,
     "metadata": {},
     "output_type": "execute_result"
    }
   ],
   "source": [
    "prob([('r1', 1)], df=df) * prob([('r2', 1)], df=df)"
   ]
  },
  {
   "cell_type": "code",
   "execution_count": 1143,
   "metadata": {},
   "outputs": [
    {
     "data": {
      "text/plain": [
       "3.783821230392032"
      ]
     },
     "execution_count": 1143,
     "metadata": {},
     "output_type": "execute_result"
    }
   ],
   "source": [
    "( (prob([('r1', 1)], df=df) * prob([('r2', 1)], df=df)) /\n",
    "    (prob([('r1', 1), ('r2', 1)], df=df) * prob([('correct', 0)], df=df)))"
   ]
  },
  {
   "cell_type": "code",
   "execution_count": 1144,
   "metadata": {},
   "outputs": [
    {
     "data": {
      "text/plain": [
       "0.012388011148330828"
      ]
     },
     "execution_count": 1144,
     "metadata": {},
     "output_type": "execute_result"
    }
   ],
   "source": [
    "prob([('correct', 0)], [('r1', 1), ('r2', 1)], df=df)"
   ]
  },
  {
   "cell_type": "code",
   "execution_count": 1145,
   "metadata": {},
   "outputs": [
    {
     "data": {
      "text/plain": [
       "0.01238801114833083"
      ]
     },
     "execution_count": 1145,
     "metadata": {},
     "output_type": "execute_result"
    }
   ],
   "source": [
    "((prob([('r1', 1), ('r2', 1)], [('correct', 0)], df=df) * prob([('correct', 0)], df=df)) /\n",
    "  prob([('r1', 1), ('r2', 1)], df=df))"
   ]
  },
  {
   "cell_type": "code",
   "execution_count": 1146,
   "metadata": {},
   "outputs": [
    {
     "data": {
      "text/plain": [
       "0.001762898309919775"
      ]
     },
     "execution_count": 1146,
     "metadata": {},
     "output_type": "execute_result"
    }
   ],
   "source": [
    "# Check for conditional independence: r1 indep of r2 given c?\n",
    "prob([('r1', 1), ('r2', 1)], [('correct', 0)], df=full_df)"
   ]
  },
  {
   "cell_type": "code",
   "execution_count": 1147,
   "metadata": {},
   "outputs": [
    {
     "data": {
      "text/plain": [
       "0.001679122123252444"
      ]
     },
     "execution_count": 1147,
     "metadata": {},
     "output_type": "execute_result"
    }
   ],
   "source": [
    "prob([('r1', 1)], [('correct', 0)], df=full_df) * prob([('r2', 1)], [('correct', 0)], df=full_df)"
   ]
  },
  {
   "cell_type": "code",
   "execution_count": 1126,
   "metadata": {},
   "outputs": [
    {
     "data": {
      "text/plain": [
       "0.1502426218658821"
      ]
     },
     "execution_count": 1126,
     "metadata": {},
     "output_type": "execute_result"
    }
   ],
   "source": [
    "((prob([('r1', 1)], [('correct', 0)], df=df) * prob([('r2', 1)], [('correct', 0)], df=df) *\n",
    "                             prob([('correct', 0)], df=df)) /\n",
    "  prob([('r1', 1), ('r2', 1)], df=df))"
   ]
  },
  {
   "cell_type": "code",
   "execution_count": 1129,
   "metadata": {},
   "outputs": [
    {
     "data": {
      "text/plain": [
       "0.02959388352545647"
      ]
     },
     "execution_count": 1129,
     "metadata": {},
     "output_type": "execute_result"
    }
   ],
   "source": [
    "prob([('correct', 0)], [('r1', 1)], df) * prob([('correct', 0)], [('r2', 1)], df)"
   ]
  },
  {
   "cell_type": "code",
   "execution_count": 1118,
   "metadata": {
    "scrolled": true
   },
   "outputs": [
    {
     "data": {
      "text/plain": [
       "0.27418224060515445"
      ]
     },
     "execution_count": 1118,
     "metadata": {},
     "output_type": "execute_result"
    }
   ],
   "source": [
    "prob([('correct', 0)], df=df)"
   ]
  },
  {
   "cell_type": "code",
   "execution_count": 928,
   "metadata": {},
   "outputs": [
    {
     "name": "stdout",
     "output_type": "stream",
     "text": [
      "0 1 0.4267288080210501 0.24813193678091258\n",
      "1 0 0.4185254613307651 0.23992859009062764\n",
      "1 1 0.15474573064818478 0.33334260188832227\n"
     ]
    },
    {
     "data": {
      "text/plain": [
       "0.49842718703489564"
      ]
     },
     "execution_count": 928,
     "metadata": {},
     "output_type": "execute_result"
    }
   ],
   "source": [
    "mutual_info('r1', 'r2', df)"
   ]
  },
  {
   "cell_type": "code",
   "execution_count": 886,
   "metadata": {},
   "outputs": [
    {
     "data": {
      "text/plain": [
       "0.7013877193573377"
      ]
     },
     "execution_count": 886,
     "metadata": {},
     "output_type": "execute_result"
    }
   ],
   "source": [
    "prob([('r1', 1)], [('r2', 1)], df)"
   ]
  },
  {
   "cell_type": "code",
   "execution_count": 887,
   "metadata": {},
   "outputs": [
    {
     "data": {
      "text/plain": [
       "0.599177061303178"
      ]
     },
     "execution_count": 887,
     "metadata": {},
     "output_type": "execute_result"
    }
   ],
   "source": [
    "prob([('r2', 1)], [('r1', 1)], df)"
   ]
  },
  {
   "cell_type": "code",
   "execution_count": 871,
   "metadata": {},
   "outputs": [],
   "source": [
    "#df[df.correct==1]['r1'] = np.array([0, 1, 0])\n",
    "df['r1'] = float('NaN')"
   ]
  },
  {
   "cell_type": "code",
   "execution_count": 842,
   "metadata": {},
   "outputs": [
    {
     "ename": "ValueError",
     "evalue": "Must have equal len keys and value when setting with an iterable",
     "output_type": "error",
     "traceback": [
      "\u001b[0;31m---------------------------------------------------------------------------\u001b[0m",
      "\u001b[0;31mValueError\u001b[0m                                Traceback (most recent call last)",
      "\u001b[0;32m<ipython-input-842-b496c5f7b08f>\u001b[0m in \u001b[0;36m<module>\u001b[0;34m\u001b[0m\n\u001b[0;32m----> 1\u001b[0;31m \u001b[0mdf\u001b[0m\u001b[0;34m.\u001b[0m\u001b[0mloc\u001b[0m\u001b[0;34m[\u001b[0m\u001b[0mdf\u001b[0m\u001b[0;34m.\u001b[0m\u001b[0mcorrect\u001b[0m\u001b[0;34m==\u001b[0m\u001b[0;36m1\u001b[0m\u001b[0;34m,\u001b[0m \u001b[0;34m'r1'\u001b[0m\u001b[0;34m]\u001b[0m \u001b[0;34m=\u001b[0m \u001b[0mnp\u001b[0m\u001b[0;34m.\u001b[0m\u001b[0marray\u001b[0m\u001b[0;34m(\u001b[0m\u001b[0;34m[\u001b[0m\u001b[0;36m0\u001b[0m\u001b[0;34m,\u001b[0m \u001b[0;36m0\u001b[0m\u001b[0;34m,\u001b[0m \u001b[0;36m0\u001b[0m\u001b[0;34m]\u001b[0m\u001b[0;34m)\u001b[0m\u001b[0;34m\u001b[0m\u001b[0;34m\u001b[0m\u001b[0m\n\u001b[0m",
      "\u001b[0;32m~/.virtualenvs/py37env/lib/python3.7/site-packages/pandas/core/indexing.py\u001b[0m in \u001b[0;36m__setitem__\u001b[0;34m(self, key, value)\u001b[0m\n\u001b[1;32m    203\u001b[0m             \u001b[0mkey\u001b[0m \u001b[0;34m=\u001b[0m \u001b[0mcom\u001b[0m\u001b[0;34m.\u001b[0m\u001b[0mapply_if_callable\u001b[0m\u001b[0;34m(\u001b[0m\u001b[0mkey\u001b[0m\u001b[0;34m,\u001b[0m \u001b[0mself\u001b[0m\u001b[0;34m.\u001b[0m\u001b[0mobj\u001b[0m\u001b[0;34m)\u001b[0m\u001b[0;34m\u001b[0m\u001b[0;34m\u001b[0m\u001b[0m\n\u001b[1;32m    204\u001b[0m         \u001b[0mindexer\u001b[0m \u001b[0;34m=\u001b[0m \u001b[0mself\u001b[0m\u001b[0;34m.\u001b[0m\u001b[0m_get_setitem_indexer\u001b[0m\u001b[0;34m(\u001b[0m\u001b[0mkey\u001b[0m\u001b[0;34m)\u001b[0m\u001b[0;34m\u001b[0m\u001b[0;34m\u001b[0m\u001b[0m\n\u001b[0;32m--> 205\u001b[0;31m         \u001b[0mself\u001b[0m\u001b[0;34m.\u001b[0m\u001b[0m_setitem_with_indexer\u001b[0m\u001b[0;34m(\u001b[0m\u001b[0mindexer\u001b[0m\u001b[0;34m,\u001b[0m \u001b[0mvalue\u001b[0m\u001b[0;34m)\u001b[0m\u001b[0;34m\u001b[0m\u001b[0;34m\u001b[0m\u001b[0m\n\u001b[0m\u001b[1;32m    206\u001b[0m \u001b[0;34m\u001b[0m\u001b[0m\n\u001b[1;32m    207\u001b[0m     \u001b[0;32mdef\u001b[0m \u001b[0m_validate_key\u001b[0m\u001b[0;34m(\u001b[0m\u001b[0mself\u001b[0m\u001b[0;34m,\u001b[0m \u001b[0mkey\u001b[0m\u001b[0;34m,\u001b[0m \u001b[0maxis\u001b[0m\u001b[0;34m:\u001b[0m \u001b[0mint\u001b[0m\u001b[0;34m)\u001b[0m\u001b[0;34m:\u001b[0m\u001b[0;34m\u001b[0m\u001b[0;34m\u001b[0m\u001b[0m\n",
      "\u001b[0;32m~/.virtualenvs/py37env/lib/python3.7/site-packages/pandas/core/indexing.py\u001b[0m in \u001b[0;36m_setitem_with_indexer\u001b[0;34m(self, indexer, value)\u001b[0m\n\u001b[1;32m    545\u001b[0m                     \u001b[0;32mif\u001b[0m \u001b[0mlen\u001b[0m\u001b[0;34m(\u001b[0m\u001b[0mlabels\u001b[0m\u001b[0;34m)\u001b[0m \u001b[0;34m!=\u001b[0m \u001b[0mlen\u001b[0m\u001b[0;34m(\u001b[0m\u001b[0mvalue\u001b[0m\u001b[0;34m)\u001b[0m\u001b[0;34m:\u001b[0m\u001b[0;34m\u001b[0m\u001b[0;34m\u001b[0m\u001b[0m\n\u001b[1;32m    546\u001b[0m                         raise ValueError(\n\u001b[0;32m--> 547\u001b[0;31m                             \u001b[0;34m\"Must have equal len keys and value \"\u001b[0m\u001b[0;34m\u001b[0m\u001b[0;34m\u001b[0m\u001b[0m\n\u001b[0m\u001b[1;32m    548\u001b[0m                             \u001b[0;34m\"when setting with an iterable\"\u001b[0m\u001b[0;34m\u001b[0m\u001b[0;34m\u001b[0m\u001b[0m\n\u001b[1;32m    549\u001b[0m                         )\n",
      "\u001b[0;31mValueError\u001b[0m: Must have equal len keys and value when setting with an iterable"
     ]
    }
   ],
   "source": [
    "df.loc[df.correct==1, 'r1'] = np.array([0, 0, 0])"
   ]
  },
  {
   "cell_type": "code",
   "execution_count": 263,
   "metadata": {},
   "outputs": [
    {
     "data": {
      "text/html": [
       "<div>\n",
       "<style scoped>\n",
       "    .dataframe tbody tr th:only-of-type {\n",
       "        vertical-align: middle;\n",
       "    }\n",
       "\n",
       "    .dataframe tbody tr th {\n",
       "        vertical-align: top;\n",
       "    }\n",
       "\n",
       "    .dataframe thead th {\n",
       "        text-align: right;\n",
       "    }\n",
       "</style>\n",
       "<table border=\"1\" class=\"dataframe\">\n",
       "  <thead>\n",
       "    <tr style=\"text-align: right;\">\n",
       "      <th></th>\n",
       "      <th>correct</th>\n",
       "      <th>r1</th>\n",
       "    </tr>\n",
       "  </thead>\n",
       "  <tbody>\n",
       "    <tr>\n",
       "      <th>0</th>\n",
       "      <td>0</td>\n",
       "      <td>NaN</td>\n",
       "    </tr>\n",
       "    <tr>\n",
       "      <th>1</th>\n",
       "      <td>0</td>\n",
       "      <td>NaN</td>\n",
       "    </tr>\n",
       "    <tr>\n",
       "      <th>2</th>\n",
       "      <td>0</td>\n",
       "      <td>NaN</td>\n",
       "    </tr>\n",
       "    <tr>\n",
       "      <th>3</th>\n",
       "      <td>1</td>\n",
       "      <td>0.0</td>\n",
       "    </tr>\n",
       "    <tr>\n",
       "      <th>4</th>\n",
       "      <td>0</td>\n",
       "      <td>NaN</td>\n",
       "    </tr>\n",
       "    <tr>\n",
       "      <th>5</th>\n",
       "      <td>1</td>\n",
       "      <td>0.0</td>\n",
       "    </tr>\n",
       "    <tr>\n",
       "      <th>6</th>\n",
       "      <td>1</td>\n",
       "      <td>0.0</td>\n",
       "    </tr>\n",
       "    <tr>\n",
       "      <th>7</th>\n",
       "      <td>0</td>\n",
       "      <td>NaN</td>\n",
       "    </tr>\n",
       "    <tr>\n",
       "      <th>8</th>\n",
       "      <td>0</td>\n",
       "      <td>NaN</td>\n",
       "    </tr>\n",
       "    <tr>\n",
       "      <th>9</th>\n",
       "      <td>0</td>\n",
       "      <td>NaN</td>\n",
       "    </tr>\n",
       "  </tbody>\n",
       "</table>\n",
       "</div>"
      ],
      "text/plain": [
       "   correct   r1\n",
       "0        0  NaN\n",
       "1        0  NaN\n",
       "2        0  NaN\n",
       "3        1  0.0\n",
       "4        0  NaN\n",
       "5        1  0.0\n",
       "6        1  0.0\n",
       "7        0  NaN\n",
       "8        0  NaN\n",
       "9        0  NaN"
      ]
     },
     "execution_count": 263,
     "metadata": {},
     "output_type": "execute_result"
    }
   ],
   "source": [
    "df"
   ]
  },
  {
   "cell_type": "code",
   "execution_count": 228,
   "metadata": {},
   "outputs": [
    {
     "name": "stdout",
     "output_type": "stream",
     "text": [
      "0.500914128090194\n",
      "0.5019109811305636\n",
      "0.5006753504422112\n"
     ]
    }
   ],
   "source": [
    "print(prob([('correct', 1)], [('r1', 1)], df=test_df))\n",
    "\n",
    "print(prob([('correct', 1)], [('r1', 1), ('r2', 1)], df=test_df))\n",
    "print(prob([('correct', 1)], df=test_df))"
   ]
  },
  {
   "cell_type": "markdown",
   "metadata": {},
   "source": [
    " Assumption 1: Statement correctness is not independent of the presence or absence of an extraction from a reader. If it is, $p(corr|R) = \\frac{p(corr \\cap R)}{p(R)} = p(corr)$. This would yield a belief estimate of 0.75, when the truth is that $p(corr|R_1, R2)$ is just $p(corr) = 0.5$."
   ]
  },
  {
   "cell_type": "code",
   "execution_count": 122,
   "metadata": {},
   "outputs": [
    {
     "data": {
      "text/plain": [
       "[(0, 0, 0),\n",
       " (0, 0, 1),\n",
       " (0, 1, 0),\n",
       " (0, 1, 1),\n",
       " (1, 0, 0),\n",
       " (1, 0, 1),\n",
       " (1, 1, 0),\n",
       " (1, 1, 1)]"
      ]
     },
     "execution_count": 122,
     "metadata": {},
     "output_type": "execute_result"
    }
   ],
   "source": [
    "combos = list(itertools.product([0, 1], repeat=3))\n",
    "combos "
   ]
  },
  {
   "cell_type": "markdown",
   "metadata": {},
   "source": [
    "### Relation correctness as a function of reader overlap"
   ]
  },
  {
   "cell_type": "code",
   "execution_count": 99,
   "metadata": {
    "scrolled": false
   },
   "outputs": [
    {
     "data": {
      "text/plain": [
       "(0, 1)"
      ]
     },
     "execution_count": 99,
     "metadata": {},
     "output_type": "execute_result"
    },
    {
     "data": {
      "image/png": "[encoded data removed]",
      "text/plain": [
       "<Figure size 432x288 with 1 Axes>"
      ]
     },
     "metadata": {
      "needs_background": "light"
     },
     "output_type": "display_data"
    }
   ],
   "source": [
    "source_cols = ['medscan', 'reach', 'sparser', 'rlimsp', 'trips', 'hprd', 'isi',\n",
    "               'biopax', 'bel', 'signor', 'trrust']\n",
    "reader = 'reach'\n",
    "source_cols.pop(source_cols.index(reader))\n",
    "# Reader only dataframe\n",
    "ro_df = kge_df[~kge_df[source_cols].any(axis=1)]\n",
    "x = list(range(1, 11))\n",
    "r_only = []\n",
    "r_all = []\n",
    "r_only_cts = []\n",
    "r_all_cts = []\n",
    "\n",
    "def stderrp(p, n):\n",
    "    pa = np.array(p)\n",
    "    na = np.array(n)\n",
    "    return(np.sqrt((pa*(1-pa))/na))\n",
    "\n",
    "for i in x:\n",
    "    lb = i\n",
    "    if i < 10:\n",
    "        ub = i+1\n",
    "    else:\n",
    "        ub = 10000\n",
    "        \n",
    "    r_only_rows = ro_df[(ro_df[reader] >= lb) & (ro_df[reader] < ub)]\n",
    "    r_only.append(r_only_rows['correct'].mean())\n",
    "    r_only_cts.append(len(r_only_rows['correct']))\n",
    "    r_all_rows = kge_df[(kge_df[reader] >= lb) & (kge_df[reader] < ub)]\n",
    "    r_all.append(r_all_rows['correct'].mean())\n",
    "    r_all_cts.append(len(r_all_rows['correct']))\n",
    "    \n",
    "plt.figure()\n",
    "plt.errorbar(x, r_only, linestyle='', yerr=stderrp(r_only, r_only_cts), marker='o', color='r', label=f'{reader} only')\n",
    "plt.errorbar(x, r_all, linestyle='', yerr=stderrp(r_all, r_all_cts), marker='o', color='b', label=f'{reader} any')\n",
    "plt.legend(loc='lower left')\n",
    "plt.ylabel('Precision')\n",
    "plt.xlabel(f'Num. of {reader}-only evidences')\n",
    "plt.ylim([0, 1])\n"
   ]
  },
  {
   "cell_type": "code",
   "execution_count": null,
   "metadata": {},
   "outputs": [],
   "source": [
    "\"\"\"\n",
    "kge_cp[reader2] = np.log(kge_df[reader2] + 1)\n",
    "\n",
    "kge_incorr = kge_cp[kge_cp['correct'] == 0]\n",
    "kge_corr = kge_cp[kge_cp['correct'] == 1]\n",
    "\n",
    "plt.plot(rand_jitter(kge_corr[reader1]),\n",
    "         rand_jitter(kge_corr[reader2]), linestyle='', marker='.',\n",
    "         color='blue', alpha=0.5, label='Correct')\n",
    "plt.plot(rand_jitter(kge_incorr[reader1]),\n",
    "         rand_jitter(kge_incorr[reader2]), linestyle='', marker='.',\n",
    "                     color='red', alpha=0.5, label='Incorrect')\n",
    "plt.xlabel(f'log({reader1} + 1)')\n",
    "plt.ylabel(f'log({reader2} + 1)')\n",
    "plt.legend(loc='upper left')\n",
    "plt.figtext(0.5, 0.01, \"A figure legend.\", wrap=True, horizontalalignment='center', fontsize=14)\n",
    "\"\"\""
   ]
  },
  {
   "cell_type": "markdown",
   "metadata": {},
   "source": [
    "# Examining probabilities and assumptions"
   ]
  },
  {
   "cell_type": "code",
   "execution_count": null,
   "metadata": {},
   "outputs": [],
   "source": [
    "#rs_only_df = kge_df[(kge_df[r1] > 0) | (kge_df[r2] > 0)]\n",
    "#rs_only_df = kge_df[(kge_df[r1] > 0) | (kge_df[r2] > 0) | (kge_df[r3] > 0)]\n",
    "# Readers are same / 100% dependent\n",
    "#rs_only_df[r2] = kge_df[r1]\n",
    "# Readers are independent\n",
    "#rs_only_df[r2] = rs_only_df[r2].sample(frac=1).values\n",
    "#rs_only_df = kge_df\n",
    "\n",
    "# Test for conditional independence--is R1 independent of R2 given corr?\n",
    "print(f\"p({reader1} | {reader2}, corr)\", prob([(r1, 1)], [(r2, 1), ('correct', 1)]))\n",
    "print(f\"p({reader1} | corr)\", prob([(r1, 1)], [('correct', 1)]))\n",
    "print()\n",
    "\n",
    "# Are r1 and r2 independent?\n",
    "print(f\"p({reader1} and {reader2})\", prob([(r1, 1), (r2, 1)]))\n",
    "print(f\"p({reader1}) * p({reader2})\", prob([(r1, 1)]) * prob([(r2, 1)]))\n",
    "print()\n",
    "\n",
    "print(f\"Ground truth: p(corr, {reader1}, {reader2})\", prob([('correct', 1), (r1, 1), (r2, 1)]))\n",
    "print(f\"Ground truth: p({reader1}, {reader2})\", prob([(r1, 1), (r2, 1)]))\n",
    "print(f\"Ground truth: p(corr | {reader1}, {reader2})\", prob([('correct', 1)], [(r1, 1), (r2, 1)]))\n",
    "print(f\"Assume corr CI of {reader1} given {reader2} = p(corr | {reader2})\",\n",
    "      prob([('correct', 1)], [(reader2, 1)]))\n"
   ]
  },
  {
   "cell_type": "code",
   "execution_count": null,
   "metadata": {},
   "outputs": [],
   "source": [
    "# Both readers > 0\n",
    "df = bin_df\n",
    "print(r1, \"only\", len(df[(df[r1] > 0) & (df[r2] == 0)]))\n",
    "print(r2, \"only\", len(df[(df[r2] > 0) & (df[r1] == 0)]))\n",
    "print(r1, \"and\", r2, len(df[(df[r2] > 0) & (df[r1] > 0)]))\n",
    "print(\"total\", len(df))"
   ]
  },
  {
   "cell_type": "code",
   "execution_count": null,
   "metadata": {},
   "outputs": [],
   "source": [
    "# 1. The joint event\n",
    "prob([('correct', 1), (r1, 1), (r2, 1)])"
   ]
  },
  {
   "cell_type": "code",
   "execution_count": null,
   "metadata": {},
   "outputs": [],
   "source": [
    "# 2. By chain rule (exact vs above)\n",
    "prob([(r1, 1)]) * prob([('correct', 1)], [(r1, 1)]) * prob([(r2, 1)], [('correct', 1), (r1, 1)])"
   ]
  },
  {
   "cell_type": "code",
   "execution_count": null,
   "metadata": {
    "scrolled": true
   },
   "outputs": [],
   "source": [
    "# 3. What we want to know: p(c|r,s) (exact)\n",
    "prob([('correct', 1)], [(r1, 1), (r2, 1)])"
   ]
  },
  {
   "cell_type": "code",
   "execution_count": null,
   "metadata": {},
   "outputs": [],
   "source": [
    "# 4. What we want to know, by defn of cond prob vs. above (exact)\n",
    "prob([('correct', 1), (r1, 1), (r2, 1)]) / prob([(r1, 1), (r2, 1)]) #"
   ]
  },
  {
   "cell_type": "code",
   "execution_count": null,
   "metadata": {},
   "outputs": [],
   "source": [
    "# 5 Applying chain rule (combining 2 and 4)\n",
    "((prob([(r1, 1)]) * prob([('correct', 1)], [(r1, 1)]) * prob([(r2, 1)], [('correct', 1), (r1, 1)])) / \n",
    "     prob([(r1, 1), (r2, 1)]))"
   ]
  },
  {
   "cell_type": "code",
   "execution_count": null,
   "metadata": {},
   "outputs": [],
   "source": [
    "# 6. Applying Bayes rule for p(r2|c,r1)\n",
    "((prob([(r1, 1)]) * prob([('correct', 1)], [(r1, 1)]) * prob([('correct', 1), (r1, 1)], [(r2, 1)]) * prob([(r2, 1)])) / \n",
    "     (prob([(r1, 1), (r2, 1)])*prob([('correct', 1)], [(r1, 1)])*prob([(r1, 1)])))"
   ]
  },
  {
   "cell_type": "code",
   "execution_count": null,
   "metadata": {},
   "outputs": [],
   "source": [
    "# 7. Cancel terms * (Exact)\n",
    "# p(c,r1|r2) * p(r2)\n",
    "# ------------------\n",
    "#      p(r1,r2)\n",
    "exact = (prob([('correct', 1), (r1, 1)], [(r2, 1)]) * prob([(r2, 1)])) / (prob([(r1, 1), (r2, 1)]))\n",
    "print(\"Exact:\", exact)\n",
    "\n",
    "# 8. Complete identity/correlation\n",
    "redundant = prob([('correct', 1)], [(r2, 1)])\n",
    "print(\"Redundant:\", redundant)\n",
    "\n",
    "# 9. Complete independence\n",
    "indep = (prob([('correct', 1)], [(r1, 1)]) * prob([('correct', 1)], [(r2, 1)])) / prob([('correct', 1)])\n",
    "print(\"Independent\", indep)\n",
    "\n",
    "# 10. Like coin flips\n",
    "coins = 1 - (1 - prob([('correct', 1)], [(r1, 1)])) * (1 - prob([('correct', 1)], [(r2, 1)])) \n",
    "print(\"Joint belief:\", coins)\n",
    "\n",
    "# 8. Substituting approximation: p(c,r1|r2) = p(c|r2)*p(r1|r2)\n",
    "# p(c|r2) * p(r1|r2) * p(r2)\n",
    "# --------------------------\n",
    "#      p(r1,r2)\n",
    "#(prob(['correct'], [r2]) * prob([r1], [r2]) * prob([r2])) / (prob([r1, r2]))\n",
    "\n",
    "# Full independence:\n",
    "# p(c|r2) * p(r1) * p(r2)\n",
    "# -------------------------- = p(c|r2)\n",
    "#      p(r1) * p(r2)\n",
    "\n",
    "# Full dependence:\n",
    "# p(c|r2) * 1 * p(r2)\n",
    "# --------------------------\n",
    "#      p(r1,r2)\n",
    "\n",
    "#((prob([r1]) * prob(['correct'], [r1]) * prob([r1], [r2]) * prob([r2])) / \n",
    "#     (prob([r1, r2])*prob(['correct'], [r1])*prob([r1])))"
   ]
  },
  {
   "cell_type": "code",
   "execution_count": null,
   "metadata": {},
   "outputs": [],
   "source": [
    "# An expression that we need.\n",
    "# If only one reader, all rows will have at least one evidence from that reader, whether correct or not\n",
    "prob([(r1, 1), (r2, 1)], [('correct', 1)])"
   ]
  },
  {
   "cell_type": "code",
   "execution_count": null,
   "metadata": {},
   "outputs": [],
   "source": [
    "# Approximation of above - if readers are the same, this should be quite wrong; if independent, quite right\n",
    "prob([(r1, 1)], [('correct', 1)]) * prob([(r2, 1)], [('correct', 1)])"
   ]
  },
  {
   "cell_type": "code",
   "execution_count": null,
   "metadata": {},
   "outputs": [],
   "source": [
    "prob([(r1, 1)], [('correct', 1)])"
   ]
  },
  {
   "cell_type": "code",
   "execution_count": null,
   "metadata": {},
   "outputs": [],
   "source": [
    "# Bayes rule vs p(r1,r2|c) - exact\n",
    "(prob([('correct', 1)], [(r1, 1), (r2, 1)]) * prob([(r1, 1), (r2, 1)])) / prob([('correct', 1)])"
   ]
  },
  {
   "cell_type": "code",
   "execution_count": null,
   "metadata": {},
   "outputs": [],
   "source": [
    "# Rearrange from above - exact\n",
    "(prob([(r1, 1), (r2, 1)], [('correct', 1)]) * prob([('correct', 1)])) / prob([(r1, 1), (r2, 1)])"
   ]
  },
  {
   "cell_type": "code",
   "execution_count": null,
   "metadata": {},
   "outputs": [],
   "source": [
    "# Now, apply our assumption that p(r,s|c) ~= p(r|c)p(s|c)\n",
    "# A hint in the fact that effectiveness of this changes when we filter dataset to statements with at least\n",
    "# one of the two readers\n",
    "(prob([(r1, 1)], [('correct', 1)]) * prob([(r2, 1)], [('correct', 1)]) * prob([('correct', 1)])) / prob([(r1, 1), (r2, 1)])"
   ]
  },
  {
   "cell_type": "code",
   "execution_count": null,
   "metadata": {},
   "outputs": [],
   "source": [
    "prob([('correct', 1)])"
   ]
  },
  {
   "cell_type": "markdown",
   "metadata": {},
   "source": [
    "# Approximating the joint distribution"
   ]
  },
  {
   "cell_type": "markdown",
   "metadata": {},
   "source": [
    "## Bahadur Lazarsfeld second order model"
   ]
  },
  {
   "cell_type": "markdown",
   "metadata": {},
   "source": [
    "The notation/nomenclature in the functions below here is based on page 3 of \"Estimation in second order dependency model for multivariate binary data\", E.H.S. Ip. Link [here](https://statistics.stanford.edu/sites/g/files/sbiybj6031/f/OLK%20NSF%20302.pdf). "
   ]
  },
  {
   "cell_type": "code",
   "execution_count": null,
   "metadata": {
    "code_folding": [],
    "scrolled": true
   },
   "outputs": [],
   "source": [
    "# p(R1=1, R2=1, corr=1)\n",
    "r1 = 'reach'\n",
    "r2 = 'sparser'\n",
    "r3 = 'medscan'\n",
    "r4 = 'trips'\n",
    "r5 = 'rlimsp'\n",
    "Y = [(r1, 1), (r2, 1), (r3, 1), (r4, 1), (r5, 1), ('correct', 1)]\n",
    "#Y = [(r1, 0), (r2, 0), (r3, 0), (r4, 0), (r5, 1), ('correct', 1)]\n",
    "#Y = [(r1, 1), ('correct', 1)]\n",
    "\n",
    "#Y = [(r1, 1), ('correct', 1)]\n",
    "#Y = [(r1, 1), (r2, 0), ('correct', 1)]\n",
    "\n",
    "given_vars = [r1, r2, r3, r4, r5]\n",
    "given_vals = [(col, val) for col, val in Y if col in given_vars]\n",
    "\n",
    "def belief(cols):\n",
    "    prod = 1\n",
    "    for col in cols:\n",
    "        col_df = bin_df_sub[bin_df_sub[col] == 1]\n",
    "        err = prob([('correct', 0)], df=col_df)\n",
    "        prod *= err\n",
    "    return 1 - prod\n",
    "\n",
    "print(f\"Ground truth: p(corr=1 | {str(given_vals)})\", prob([('correct', 1)], given_vals))\n",
    "print(\"Belief estimate:\", belief([r1, r2]))\n",
    "\n",
    "bl = BLPredictor(df=bin_df_sub)\n",
    "#print(f\"Ground truth: p({str(Y)})\", prob(Y))\n",
    "for order in range(1, len(Y)+1):\n",
    "    if True or order == 2:\n",
    "        print(f\"Bahadur-Lazarsfeld Order {order}:\", bl.bahadur_laz(col_vals=Y, max_order=order) / prob(given_vals))"
   ]
  },
  {
   "cell_type": "markdown",
   "metadata": {},
   "source": [
    "# Working with Knowledge Graph Embeddings"
   ]
  },
  {
   "cell_type": "code",
   "execution_count": null,
   "metadata": {},
   "outputs": [],
   "source": [
    "# Load previous curation dataset and the KGE scores\n",
    "with open('curation_dataset.pkl', 'rb') as f:\n",
    "    data_dict = pickle.load(f)\n",
    "\n",
    "kge_df_scores = pd.read_csv('kge_dataset_w_scores.csv', index_col=0)\n",
    "kge_df_scores.head()"
   ]
  },
  {
   "cell_type": "code",
   "execution_count": null,
   "metadata": {
    "scrolled": false
   },
   "outputs": [],
   "source": [
    "# Prepare the scores data for the join\n",
    "kds = kge_df_scores\n",
    "kds = kds.rename(columns={'subject': 'agA_name', 'object': 'agB_name', 'relation': 'stmt_type'})\n",
    "kds = kds.set_index([kds.agA_name, kds.stmt_type, kds.agB_name, kds.correct])\n",
    "kds.head()"
   ]
  },
  {
   "cell_type": "code",
   "execution_count": null,
   "metadata": {},
   "outputs": [],
   "source": [
    "# Set the multiindex on the main dataframe and do the join\n",
    "kge_join = kge_df.set_index([kge_df.agA_name, kge_df.stmt_type, kge_df.agB_name, kge_df.correct]).join(kds, rsuffix='sc')\n",
    "kge_join = kge_join.set_index(kge_join.stmt_num)\n",
    "kge_join = kge_join.drop(columns=['agA_namesc', 'stmt_typesc', 'agB_namesc', 'correctsc'])\n",
    "kge_join = kge_join[~pd.isna(kge_join.score)] # Keep only the rows with KGE scores\n",
    "kge_join.head()"
   ]
  },
  {
   "cell_type": "markdown",
   "metadata": {},
   "source": [
    "# Load joint evidence distribution from full assembled pickle\n"
   ]
  },
  {
   "cell_type": "code",
   "execution_count": 1148,
   "metadata": {},
   "outputs": [
    {
     "ename": "NameError",
     "evalue": "name 'all_ev_ctr_dict' is not defined",
     "output_type": "error",
     "traceback": [
      "\u001b[0;31m---------------------------------------------------------------------------\u001b[0m",
      "\u001b[0;31mNameError\u001b[0m                                 Traceback (most recent call last)",
      "\u001b[0;32m<ipython-input-1148-36f9482cc591>\u001b[0m in \u001b[0;36m<module>\u001b[0;34m\u001b[0m\n\u001b[1;32m      1\u001b[0m \u001b[0;31m# Now resample proportions in from the original corpus to allow only those combos found in the\u001b[0m\u001b[0;34m\u001b[0m\u001b[0;34m\u001b[0m\u001b[0;34m\u001b[0m\u001b[0m\n\u001b[1;32m      2\u001b[0m \u001b[0;31m# curation dataset\u001b[0m\u001b[0;34m\u001b[0m\u001b[0;34m\u001b[0m\u001b[0;34m\u001b[0m\u001b[0m\n\u001b[0;32m----> 3\u001b[0;31m \u001b[0madjust_total\u001b[0m \u001b[0;34m=\u001b[0m \u001b[0mnp\u001b[0m\u001b[0;34m.\u001b[0m\u001b[0msum\u001b[0m\u001b[0;34m(\u001b[0m\u001b[0;34m[\u001b[0m\u001b[0mv\u001b[0m \u001b[0;32mfor\u001b[0m \u001b[0mk\u001b[0m\u001b[0;34m,\u001b[0m \u001b[0mv\u001b[0m \u001b[0;32min\u001b[0m \u001b[0mall_ev_ctr_dict\u001b[0m\u001b[0;34m.\u001b[0m\u001b[0mitems\u001b[0m\u001b[0;34m(\u001b[0m\u001b[0;34m)\u001b[0m \u001b[0;32mif\u001b[0m \u001b[0mk\u001b[0m \u001b[0;32min\u001b[0m \u001b[0mdf_ev_dict\u001b[0m\u001b[0;34m]\u001b[0m\u001b[0;34m)\u001b[0m\u001b[0;34m\u001b[0m\u001b[0;34m\u001b[0m\u001b[0m\n\u001b[0m\u001b[1;32m      4\u001b[0m \u001b[0mall_ev_adj_dict\u001b[0m \u001b[0;34m=\u001b[0m \u001b[0;34m{\u001b[0m\u001b[0mk\u001b[0m\u001b[0;34m:\u001b[0m \u001b[0;34m(\u001b[0m\u001b[0mv\u001b[0m\u001b[0;34m/\u001b[0m\u001b[0madjust_total\u001b[0m\u001b[0;34m)\u001b[0m \u001b[0;32mfor\u001b[0m \u001b[0mk\u001b[0m\u001b[0;34m,\u001b[0m \u001b[0mv\u001b[0m \u001b[0;32min\u001b[0m \u001b[0mall_ev_ctr_dict\u001b[0m\u001b[0;34m.\u001b[0m\u001b[0mitems\u001b[0m\u001b[0;34m(\u001b[0m\u001b[0;34m)\u001b[0m \u001b[0;32mif\u001b[0m \u001b[0mk\u001b[0m \u001b[0;32min\u001b[0m \u001b[0mdf_ev_dict\u001b[0m\u001b[0;34m}\u001b[0m\u001b[0;34m\u001b[0m\u001b[0;34m\u001b[0m\u001b[0m\n\u001b[1;32m      5\u001b[0m \u001b[0;31m# Note that the adjusted dictionary only accounts for 80% of the statement evidence combinations\u001b[0m\u001b[0;34m\u001b[0m\u001b[0;34m\u001b[0m\u001b[0;34m\u001b[0m\u001b[0m\n",
      "\u001b[0;31mNameError\u001b[0m: name 'all_ev_ctr_dict' is not defined"
     ]
    }
   ],
   "source": [
    "# Now resample proportions in from the original corpus to allow only those combos found in the\n",
    "# curation dataset\n",
    "adjust_total = np.sum([v for k, v in all_ev_ctr_dict.items() if k in df_ev_dict])\n",
    "all_ev_adj_dict = {k: (v/adjust_total) for k, v in all_ev_ctr_dict.items() if k in df_ev_dict}\n",
    "# Note that the adjusted dictionary only accounts for 80% of the statement evidence combinations\n",
    "# in the original dataset\n",
    "print(\"Adjusted total percentage:\", adjust_total)"
   ]
  },
  {
   "cell_type": "code",
   "execution_count": null,
   "metadata": {},
   "outputs": [],
   "source": [
    "# Now, iterate over each combination, determine how many records from the curation dataset\n",
    "# we need to sample based on the target proportion and overall dataset sizes.\n",
    "# Build up a list of Dataframes, one for each evidence combination, which we then concatenate\n",
    "# together at the end.\n",
    "tgt_size = 30000\n",
    "tgt_counts = {}\n",
    "df_samples = []\n",
    "frac_counts = {}\n",
    "\n",
    "# Uniform sampling\n",
    "tgt_frac = 1 / len(df_ev_dict)\n",
    "all_ev_adj_dict = {}\n",
    "for ev_combo in df_ev_dict:\n",
    "    all_ev_adj_dict[ev_combo] = tgt_frac"
   ]
  },
  {
   "cell_type": "code",
   "execution_count": null,
   "metadata": {},
   "outputs": [],
   "source": [
    "for ev_combo in df_ev_dict:\n",
    "    tgt_count = int(all_ev_adj_dict[ev_combo] * tgt_size)\n",
    "    if tgt_count == 0:\n",
    "        tgt_count = 1\n",
    "    tgt_counts[ev_combo] = tgt_count\n",
    "    ev_combo_df = df_subgroup_dict[ev_combo]\n",
    "    df_samples.append(ev_combo_df.sample(tgt_count, replace=True))\n",
    "resampled_df = pd.concat(df_samples, ignore_index=True)\n",
    "resampled_df.shape"
   ]
  },
  {
   "cell_type": "markdown",
   "metadata": {},
   "source": [
    "# Train Models"
   ]
  },
  {
   "cell_type": "code",
   "execution_count": null,
   "metadata": {},
   "outputs": [],
   "source": [
    "# Option 1: include stmt_type (encoded) and score\n",
    "#df = kge_join.drop(columns=['stmt_hash', 'stmt_num', 'agA_name', 'agB_name'])\n",
    "#le = LabelEncoder()\n",
    "#le.fit(df.stmt_type)\n",
    "#df.stmt_type = le.transform(df.stmt_type)\n",
    "\n",
    "# Option 2: Only include binarized reader info\n",
    "reader_list = ['rlimsp', 'medscan', 'trips', 'reach', 'sparser']\n",
    "#readers_to_include = ['reach', 'sparser']\n",
    "readers_to_include = reader_list\n",
    "readers_to_drop = [r for r in reader_list if r not in readers_to_include]\n",
    "db_list = ['hprd', 'isi', 'biopax', 'bel', 'signor', 'trrust']\n",
    "\n",
    "df_for_pred = resampled_df\n",
    "#df_for_pred = bin_df_sub\n",
    "df_for_pred = df_for_pred[df_for_pred[readers_to_include].apply(lambda x: np.any(x), axis=1)]\n"
   ]
  },
  {
   "cell_type": "code",
   "execution_count": null,
   "metadata": {},
   "outputs": [],
   "source": [
    "df = df_for_pred.drop(columns=['stmt_hash', 'stmt_num', 'agA_name', 'agB_name', 'stmt_type']\n",
    "                               + db_list + readers_to_drop)\n",
    "# Get dataset with int-encoded statement type and no class attribute (correct)\n",
    "x_df = df.drop('correct', axis=1)\n",
    "x = x_df.values\n",
    "# Class vector\n",
    "y = df.correct.values\n",
    "test_split = 0.2\n",
    "test_size = int(len(y) * test_split)"
   ]
  },
  {
   "cell_type": "code",
   "execution_count": null,
   "metadata": {},
   "outputs": [],
   "source": [
    "num_folds = 10\n",
    "models = {\n",
    "    'Belief': BeliefPredictor(),\n",
    "    'ExactProb': ProbPredictor(),\n",
    "    'Logistic Regression': LogisticRegression(),\n",
    "    'BL2': BLPredictor(order=2),\n",
    "    'BL6': BLPredictor(order=6),\n",
    "\n",
    "    #'Random Forest Classifier': RandomForestClassifier(),\n",
    "}\n",
    "predictors = {'': x, #'All features': x,\n",
    "              #'Without KGE': x[:, :-1], # Drop the score column\n",
    "              #'Only KGE': x[:, -1:]} # Only the score column\n",
    "             }\n",
    "clf_results = {}\n",
    "roc_results = {}\n",
    "roc_aucs= {}\n",
    "prec_results = {}\n",
    "rec_results = {}\n",
    "pr_aucs = {}\n",
    "# For each model...\n",
    "base_fpr = np.linspace(0, 1, 101)\n",
    "for clf_name, clf in models.items():\n",
    "    # Try different predictors...\n",
    "    for pred_name, pred_x in predictors.items():\n",
    "        # Fold the data multiple times\n",
    "        # Save the data in a matrix (num_folds, test_size)\n",
    "        tpr_arr = np.zeros((num_folds, len(base_fpr)))\n",
    "        prec_arr = np.zeros((num_folds, len(base_fpr)))\n",
    "        rec_arr = np.zeros((num_folds, len(base_fpr)))\n",
    "        roc_auc_arr = np.zeros(num_folds)\n",
    "        pr_auc_arr = np.zeros(num_folds)\n",
    "        for fold_ix in range(num_folds):\n",
    "            # Split the data\n",
    "            x_train, x_test, y_train, y_test = train_test_split(pred_x, y, test_size=test_size)\n",
    "            print(clf_name, pred_name, x_train.shape)\n",
    "            # Train the model\n",
    "            if clf_name == 'ExactProb':\n",
    "                clf.fit(pred_x, y)\n",
    "            else:\n",
    "                clf.fit(x_train, y_train)\n",
    "            # Save the data\n",
    "            clf_result = {}\n",
    "            clf_result['y_preds'] = clf.predict(x_test)\n",
    "            clf_result['y_probs'] = clf.predict_proba(x_test)\n",
    "            \n",
    "            # Compute ROC curve and ROC area for each class\n",
    "            #roc_results = {}\n",
    "            fpr, tpr, thresholds = roc_curve(y_test, clf_result['y_probs'][:, 1])\n",
    "            roc_auc = auc(fpr, tpr)\n",
    "            tpr = interp(base_fpr, fpr, tpr)\n",
    "            tpr[0] = 0.0\n",
    "            tpr_arr[fold_ix, :] = tpr\n",
    "            roc_auc_arr[fold_ix] = roc_auc\n",
    "            \n",
    "            precision, recall, thresholds = precision_recall_curve(y_test, clf_result['y_probs'][:, 1])\n",
    "            pr_auc = metrics.auc(recall, precision)\n",
    "            pr_auc_arr[fold_ix] = pr_auc\n",
    "            prec_arr[fold_ix, :] = interp(base_fpr, thresholds, precision[:-1])\n",
    "            rec_arr[fold_ix, :] = interp(base_fpr, thresholds, recall[:-1])\n",
    "            #roc_result = {}\n",
    "            #roc_result['fpr'] = fpr\n",
    "            #roc_result['tpr'] = tpr\n",
    "            #roc_result['roc_auc'] = roc_auc\n",
    "            #roc_results[clf_name] = roc_result\n",
    "            \n",
    "        model_key = '%s %s' % (clf_name, pred_name)\n",
    "        roc_results[model_key] = tpr_arr.mean(axis=0)\n",
    "        clf_results[model_key] = clf_result\n",
    "        roc_aucs[model_key] = roc_auc_arr\n",
    "        prec_results[model_key] = prec_arr.mean(axis=0)\n",
    "        rec_results[model_key] = rec_arr.mean(axis=0)\n",
    "        pr_aucs[model_key] = pr_auc_arr"
   ]
  },
  {
   "cell_type": "code",
   "execution_count": null,
   "metadata": {},
   "outputs": [],
   "source": [
    "# Example prediction \n",
    "x_df.columns"
   ]
  },
  {
   "cell_type": "code",
   "execution_count": null,
   "metadata": {},
   "outputs": [],
   "source": [
    "# For a single Sparser evidence\n",
    "ex = np.array([[0, 0, 1, 0, 0]])\n",
    "#ex = np.array([[0, 0, 1]])\n",
    "\n",
    "#models['Logistic Regression'].predict_proba(ex)\n",
    "print(\"ExactProb\", models['ExactProb'].predict_proba(ex))\n",
    "print(\"BL2\", models['BL2'].predict_proba(ex))\n",
    "print(\"Belief\", models['Belief'].predict_proba(ex))\n",
    "\n",
    "#models['Belief'].predict_proba(ex)\n",
    "#models['Random Forest Classifier'].predict_proba(sparser_ex)"
   ]
  },
  {
   "cell_type": "markdown",
   "metadata": {},
   "source": [
    "# ROC Curves"
   ]
  },
  {
   "cell_type": "code",
   "execution_count": null,
   "metadata": {},
   "outputs": [],
   "source": [
    "roc_results.keys()"
   ]
  },
  {
   "cell_type": "code",
   "execution_count": null,
   "metadata": {
    "code_folding": []
   },
   "outputs": [],
   "source": [
    "plt.figure()\n",
    "lw = 2\n",
    "colors = ['r', 'g', 'b', 'orange', 'k', 'y']\n",
    "\n",
    "# Plot ROC curve for Belief Model (REACH)\n",
    "#plt.plot(bel_fpr, bel_tpr, color=colors[0],\n",
    "#         lw=lw, label='Orig. Belief (area = %0.2f)' % bel_roc_auc)\n",
    "for i, (clf_name, roc_result) in enumerate(roc_results.items()):\n",
    "    #fpr = roc_result['fpr']\n",
    "    #tpr = roc_result['tpr']\n",
    "    roc_auc_arr = roc_aucs[clf_name]\n",
    "    plt.plot(base_fpr, roc_result, color=colors[i],\n",
    "         lw=lw, label='%s (area = %0.2f +/- %0.2f)' %\n",
    "                      (clf_name, roc_auc_arr.mean(), roc_auc_arr.std()))\n",
    "plt.plot([0, 1], [0, 1], color='navy', lw=lw, linestyle='--')\n",
    "plt.xlim([0.0, 1.0])\n",
    "plt.ylim([0.0, 1.05])\n",
    "plt.xlabel('False Positive Rate')\n",
    "plt.ylabel('True Positive Rate')\n",
    "plt.title('Receiver operating characteristic')\n",
    "plt.legend(loc=\"lower right\")\n",
    "plt.savefig('bel_roc.pdf')\n",
    "plt.show()\n"
   ]
  },
  {
   "cell_type": "code",
   "execution_count": null,
   "metadata": {},
   "outputs": [],
   "source": [
    "\n",
    "\n",
    "df = None\n",
    "for model_name in ('ExactProb', 'BL2', 'BL6', 'Belief',):\n",
    "    new_df = make_df(models[model_name].prob_cache, model_name)\n",
    "    if df is None:\n",
    "        df = new_df\n",
    "    else:\n",
    "        df = df.join(new_df)\n",
    "\n",
    "# Get probabilities from logistic regression model\n",
    "lr_probs = {}\n",
    "for ev_tuple in models[model_name].prob_cache.keys():\n",
    "    prob = models['Logistic Regression'].predict_proba([ev_tuple])[0][1]\n",
    "    lr_probs[ev_tuple] = prob\n",
    "lr_df = make_df(lr_probs, 'LogReg')\n",
    "df = df.join(lr_df)\n",
    "        \n",
    "# Combine with info on frequency\n",
    "col_names = list(x_df.columns)\n",
    "freq_vals = {}\n",
    "for ev_tuple in models[model_name].prob_cache.keys():\n",
    "    ev_key = frozenset([col_names[ix] for ix, val in enumerate(ev_tuple) if val == 1])\n",
    "    freq = all_ev_adj_dict.get(ev_key, 0)\n",
    "    freq_vals[ev_tuple] = freq\n",
    "ev_df = make_df(freq_vals, 'Freq')\n",
    "df = df.join(ev_df)\n",
    "df.sort_values(by='Freq', ascending=False)"
   ]
  },
  {
   "cell_type": "code",
   "execution_count": null,
   "metadata": {
    "scrolled": true
   },
   "outputs": [],
   "source": [
    "print(classification_report(y_test, y_preds, labels=[0, 1]))"
   ]
  },
  {
   "cell_type": "code",
   "execution_count": null,
   "metadata": {},
   "outputs": [],
   "source": [
    "#with open('belief_prec_rec_thresh_auc.pkl', 'rb') as f:\n",
    "#    bel_prec, bel_rec, bel_thresh, bel_pr_auc = pickle.load(f)\n"
   ]
  },
  {
   "cell_type": "code",
   "execution_count": null,
   "metadata": {},
   "outputs": [],
   "source": [
    "\"\"\"\n",
    "pr_results = {}\n",
    "for clf_name, clf_result in clf_results.items():\n",
    "    precision, recall, thresholds = precision_recall_curve(y_test, clf_result['y_probs'][:, 1])\n",
    "    pr_auc = metrics.auc(recall, precision)\n",
    "    pr_results[clf_name] = {'precision': precision, 'recall': recall,\n",
    "                            'thresholds': thresholds, 'pr_auc': pr_auc}\n",
    "\"\"\""
   ]
  },
  {
   "cell_type": "code",
   "execution_count": null,
   "metadata": {},
   "outputs": [],
   "source": [
    "\n",
    "\"\"\"\n",
    "plt.figure()\n",
    "plt.plot(bel_thresh, bel_prec[: -1], color=colors[0],\n",
    "             linestyle='-', label=\"Orig. Belief Precision (area = %0.2f)\" % bel_pr_auc)\n",
    "plt.plot(bel_thresh, bel_rec[: -1], color=colors[0],\n",
    "             linestyle='--', label=\"Orig. Belief Recall\")\n",
    "\"\"\" \n",
    "plt.figure()\n",
    "for i, (clf_name, prec_result) in enumerate(prec_results.items()):\n",
    "    pr_auc_arr = pr_aucs[clf_name]\n",
    "    plt.plot(base_fpr, prec_result, color=colors[i], lw=lw, \n",
    "             linestyle='-', \n",
    "             label='%s Precision (area = %0.2f +/- %0.2f)' %\n",
    "                      (clf_name, pr_auc_arr.mean(), pr_auc_arr.std()))\n",
    "\n",
    "plt.title(\"Precision vs. Threshold\")\n",
    "plt.ylabel(\"Precision\")\n",
    "plt.xlabel(\"Threshold\")\n",
    "plt.legend(loc=\"upper left\")\n",
    "#plt.ylim([0,1.05])\n",
    "#plt.savefig('prec_rec.pdf')\n",
    "plt.show()\n",
    "\n",
    "plt.figure()\n",
    "for i, (clf_name, rec_result) in enumerate(rec_results.items()):\n",
    "    plt.plot(base_fpr, rec_result, color=colors[i], lw=lw,\n",
    "             linestyle='--',\n",
    "             label='%s Recall' % clf_name)\n",
    "\n",
    "plt.title(\"Recall vs Threshold\")\n",
    "plt.ylabel(\"Recall\")\n",
    "plt.xlabel(\"Threshold\")\n",
    "plt.legend(loc=\"lower left\")\n",
    "plt.ylim([0,1.05])\n",
    "#plt.savefig('prec_rec.pdf')\n",
    "plt.show()\n",
    "\n",
    "    \n"
   ]
  },
  {
   "cell_type": "code",
   "execution_count": null,
   "metadata": {},
   "outputs": [],
   "source": [
    "# Associate precision values for the statements at each threshold\n",
    "# So, if a statement has probability value, check if it is above the threshold, and if so,\n",
    "# assign it that precision.\n",
    "list(zip(thresholds, precision))"
   ]
  },
  {
   "cell_type": "code",
   "execution_count": null,
   "metadata": {},
   "outputs": [],
   "source": [
    "cm = metrics.confusion_matrix(y_test, predictions)\n",
    "print(cm)\n",
    "plt.figure(figsize=(9,9))\n",
    "sns.heatmap(cm, annot=True, fmt=\".3f\", linewidths=.5, square = True, cmap = 'Blues_r');\n",
    "plt.ylabel('Actual label');\n",
    "plt.xlabel('Predicted label');\n",
    "all_sample_title = 'Accuracy Score: {0}'.format(score)\n",
    "plt.title(all_sample_title, size = 15);"
   ]
  },
  {
   "cell_type": "markdown",
   "metadata": {},
   "source": [
    "# Orphans"
   ]
  },
  {
   "cell_type": "code",
   "execution_count": 227,
   "metadata": {
    "code_folding": []
   },
   "outputs": [],
   "source": [
    "# Functions for generating datasets assuming different assumptions.\n",
    "def all_ind(r_names, size, p_readers, p_correct):\n",
    "    all_cols = ['correct'] + r_names\n",
    "    all_p = [p_correct] + p_readers\n",
    "    arrs = []\n",
    "    for varn, p in zip(r_names, p_readers):\n",
    "        arr = np.random.choice([0, 1], size=size, p=[1-p, p])\n",
    "        arrs.append(arr)\n",
    "    mat = np.vstack(arrs).T\n",
    "    df_reader = pd.DataFrame(mat, columns=r_names)\n",
    "    # Filter out the rows with all 0s from readers\n",
    "    reader_arr = df_reader[df_reader.any(1)].values\n",
    "    # Construct the column for correctness\n",
    "    corr_arr = np.random.choice([0, 1], size=(reader_arr.shape[0], 1),\n",
    "                                p=[1 - p_correct, p_correct])\n",
    "    full_arr = np.hstack([corr_arr, reader_arr])\n",
    "    df = pd.DataFrame(full_arr, columns=all_cols)\n",
    "    return df\n"
   ]
  },
  {
   "cell_type": "code",
   "execution_count": 953,
   "metadata": {},
   "outputs": [],
   "source": [
    "def mutual_info(col1, col2, df):\n",
    "    \"\"\"Mutual information between two binary variables in df.\"\"\"\n",
    "    total = 0\n",
    "    for c1_val, c2_val in itertools.product([0, 1], repeat=2):\n",
    "        pxy = prob([(col1, c1_val), (col2, c2_val)], df=df)\n",
    "        denom = prob([(col1, c1_val)], df=df) * prob([(col2, c2_val)], df=df)\n",
    "        if pxy == 0 or denom == 0:\n",
    "            continue\n",
    "        print(c1_val, c2_val, pxy, denom)\n",
    "        total += pxy * np.log2(pxy/denom)\n",
    "    return total"
   ]
  },
  {
   "cell_type": "code",
   "execution_count": null,
   "metadata": {},
   "outputs": [],
   "source": [
    "#with open('belief_fpr_tpr_auc.pkl', 'rb') as f:\n",
    "#    bel_fpr, bel_tpr, bel_roc_auc = pickle.load(f)\n"
   ]
  },
  {
   "cell_type": "markdown",
   "metadata": {},
   "source": [
    "# Logistic Regression"
   ]
  },
  {
   "cell_type": "code",
   "execution_count": null,
   "metadata": {},
   "outputs": [],
   "source": [
    "logisticRegr.coef_"
   ]
  },
  {
   "cell_type": "code",
   "execution_count": null,
   "metadata": {
    "scrolled": true
   },
   "outputs": [],
   "source": [
    "sorted(list(zip(x_df.columns, logisticRegr.coef_[0])), key=lambda x: x[1], reverse=True)"
   ]
  },
  {
   "cell_type": "markdown",
   "metadata": {},
   "source": [
    "## References"
   ]
  },
  {
   "cell_type": "markdown",
   "metadata": {},
   "source": [
    "References:\n",
    "\n",
    "Logistic regression: https://towardsdatascience.com/logistic-regression-using-python-sklearn-numpy-mnist-handwriting-recognition-matplotlib-a6b31e2b166a\n",
    "\n",
    "ROC curves: https://scikit-learn.org/stable/auto_examples/model_selection/plot_roc.html\n",
    "\n",
    "Controlling the threshold in Logistic Regression in Scikit Learn: https://stackoverflow.com/questions/28716241/controlling-the-threshold-in-logistic-regression-in-scikit-learn\n",
    "\n",
    "sklearn.metrics.precision_recall_curve: https://scikit-learn.org/stable/modules/generated/sklearn.metrics.precision_recall_curve.html\n"
   ]
  },
  {
   "cell_type": "markdown",
   "metadata": {},
   "source": [
    "## Acknowledgements"
   ]
  },
  {
   "cell_type": "markdown",
   "metadata": {},
   "source": [
    "Anton Yuryev for providing Medscan corpus. MITRE for discussion over the years."
   ]
  }
 ],
 "metadata": {
  "hide_input": false,
  "kernelspec": {
   "display_name": "Python 3",
   "language": "python",
   "name": "python3"
  },
  "language_info": {
   "codemirror_mode": {
    "name": "ipython",
    "version": 3
   },
   "file_extension": ".py",
   "mimetype": "text/x-python",
   "name": "python",
   "nbconvert_exporter": "python",
   "pygments_lexer": "ipython3",
   "version": "3.7.4"
  }
 },
 "nbformat": 4,
 "nbformat_minor": 2
}
